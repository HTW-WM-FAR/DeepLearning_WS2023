{
 "cells": [
  {
   "cell_type": "markdown",
   "id": "80a5d077-7e0e-4178-9aef-16f2f2477f15",
   "metadata": {},
   "source": [
    "# Deep Learning Seminar\n",
    "## House Price Prediction with Neural Network"
   ]
  },
  {
   "cell_type": "code",
   "execution_count": 1,
   "id": "0fc2f5ba-6840-4317-a1f0-f96495fcf4fd",
   "metadata": {},
   "outputs": [],
   "source": [
    "import pandas as pd\n",
    "import numpy as np\n",
    "import matplotlib.pyplot as plt\n",
    "import matplotlib.dates as mdates\n",
    "import seaborn as sns"
   ]
  },
  {
   "cell_type": "markdown",
   "id": "11518141-cb74-4cff-b5ec-038bac7a9aa9",
   "metadata": {},
   "source": [
    "### Data Reading and Data Overview"
   ]
  },
  {
   "cell_type": "code",
   "execution_count": 2,
   "id": "6aa171e8-6ef8-4cf0-b54c-3506a824391a",
   "metadata": {},
   "outputs": [],
   "source": [
    "train_hpp = pd.read_csv (\"C:/Users/ZulkifliIndraGadingC/OneDrive/HTW/DL/Project/train.csv\")"
   ]
  },
  {
   "cell_type": "code",
   "execution_count": 3,
   "id": "02cff398-2521-4b08-ae6f-19b11685dc3d",
   "metadata": {},
   "outputs": [
    {
     "data": {
      "text/html": [
       "<div>\n",
       "<style scoped>\n",
       "    .dataframe tbody tr th:only-of-type {\n",
       "        vertical-align: middle;\n",
       "    }\n",
       "\n",
       "    .dataframe tbody tr th {\n",
       "        vertical-align: top;\n",
       "    }\n",
       "\n",
       "    .dataframe thead th {\n",
       "        text-align: right;\n",
       "    }\n",
       "</style>\n",
       "<table border=\"1\" class=\"dataframe\">\n",
       "  <thead>\n",
       "    <tr style=\"text-align: right;\">\n",
       "      <th></th>\n",
       "      <th>Id</th>\n",
       "      <th>MSSubClass</th>\n",
       "      <th>MSZoning</th>\n",
       "      <th>LotFrontage</th>\n",
       "      <th>LotArea</th>\n",
       "      <th>Street</th>\n",
       "      <th>Alley</th>\n",
       "      <th>LotShape</th>\n",
       "      <th>LandContour</th>\n",
       "      <th>Utilities</th>\n",
       "      <th>...</th>\n",
       "      <th>PoolArea</th>\n",
       "      <th>PoolQC</th>\n",
       "      <th>Fence</th>\n",
       "      <th>MiscFeature</th>\n",
       "      <th>MiscVal</th>\n",
       "      <th>MoSold</th>\n",
       "      <th>YrSold</th>\n",
       "      <th>SaleType</th>\n",
       "      <th>SaleCondition</th>\n",
       "      <th>SalePrice</th>\n",
       "    </tr>\n",
       "  </thead>\n",
       "  <tbody>\n",
       "    <tr>\n",
       "      <th>0</th>\n",
       "      <td>1</td>\n",
       "      <td>60</td>\n",
       "      <td>RL</td>\n",
       "      <td>65.0</td>\n",
       "      <td>8450</td>\n",
       "      <td>Pave</td>\n",
       "      <td>NaN</td>\n",
       "      <td>Reg</td>\n",
       "      <td>Lvl</td>\n",
       "      <td>AllPub</td>\n",
       "      <td>...</td>\n",
       "      <td>0</td>\n",
       "      <td>NaN</td>\n",
       "      <td>NaN</td>\n",
       "      <td>NaN</td>\n",
       "      <td>0</td>\n",
       "      <td>2</td>\n",
       "      <td>2008</td>\n",
       "      <td>WD</td>\n",
       "      <td>Normal</td>\n",
       "      <td>208500</td>\n",
       "    </tr>\n",
       "    <tr>\n",
       "      <th>1</th>\n",
       "      <td>2</td>\n",
       "      <td>20</td>\n",
       "      <td>RL</td>\n",
       "      <td>80.0</td>\n",
       "      <td>9600</td>\n",
       "      <td>Pave</td>\n",
       "      <td>NaN</td>\n",
       "      <td>Reg</td>\n",
       "      <td>Lvl</td>\n",
       "      <td>AllPub</td>\n",
       "      <td>...</td>\n",
       "      <td>0</td>\n",
       "      <td>NaN</td>\n",
       "      <td>NaN</td>\n",
       "      <td>NaN</td>\n",
       "      <td>0</td>\n",
       "      <td>5</td>\n",
       "      <td>2007</td>\n",
       "      <td>WD</td>\n",
       "      <td>Normal</td>\n",
       "      <td>181500</td>\n",
       "    </tr>\n",
       "    <tr>\n",
       "      <th>2</th>\n",
       "      <td>3</td>\n",
       "      <td>60</td>\n",
       "      <td>RL</td>\n",
       "      <td>68.0</td>\n",
       "      <td>11250</td>\n",
       "      <td>Pave</td>\n",
       "      <td>NaN</td>\n",
       "      <td>IR1</td>\n",
       "      <td>Lvl</td>\n",
       "      <td>AllPub</td>\n",
       "      <td>...</td>\n",
       "      <td>0</td>\n",
       "      <td>NaN</td>\n",
       "      <td>NaN</td>\n",
       "      <td>NaN</td>\n",
       "      <td>0</td>\n",
       "      <td>9</td>\n",
       "      <td>2008</td>\n",
       "      <td>WD</td>\n",
       "      <td>Normal</td>\n",
       "      <td>223500</td>\n",
       "    </tr>\n",
       "    <tr>\n",
       "      <th>3</th>\n",
       "      <td>4</td>\n",
       "      <td>70</td>\n",
       "      <td>RL</td>\n",
       "      <td>60.0</td>\n",
       "      <td>9550</td>\n",
       "      <td>Pave</td>\n",
       "      <td>NaN</td>\n",
       "      <td>IR1</td>\n",
       "      <td>Lvl</td>\n",
       "      <td>AllPub</td>\n",
       "      <td>...</td>\n",
       "      <td>0</td>\n",
       "      <td>NaN</td>\n",
       "      <td>NaN</td>\n",
       "      <td>NaN</td>\n",
       "      <td>0</td>\n",
       "      <td>2</td>\n",
       "      <td>2006</td>\n",
       "      <td>WD</td>\n",
       "      <td>Abnorml</td>\n",
       "      <td>140000</td>\n",
       "    </tr>\n",
       "    <tr>\n",
       "      <th>4</th>\n",
       "      <td>5</td>\n",
       "      <td>60</td>\n",
       "      <td>RL</td>\n",
       "      <td>84.0</td>\n",
       "      <td>14260</td>\n",
       "      <td>Pave</td>\n",
       "      <td>NaN</td>\n",
       "      <td>IR1</td>\n",
       "      <td>Lvl</td>\n",
       "      <td>AllPub</td>\n",
       "      <td>...</td>\n",
       "      <td>0</td>\n",
       "      <td>NaN</td>\n",
       "      <td>NaN</td>\n",
       "      <td>NaN</td>\n",
       "      <td>0</td>\n",
       "      <td>12</td>\n",
       "      <td>2008</td>\n",
       "      <td>WD</td>\n",
       "      <td>Normal</td>\n",
       "      <td>250000</td>\n",
       "    </tr>\n",
       "  </tbody>\n",
       "</table>\n",
       "<p>5 rows × 81 columns</p>\n",
       "</div>"
      ],
      "text/plain": [
       "   Id  MSSubClass MSZoning  LotFrontage  LotArea Street Alley LotShape  \\\n",
       "0   1          60       RL         65.0     8450   Pave   NaN      Reg   \n",
       "1   2          20       RL         80.0     9600   Pave   NaN      Reg   \n",
       "2   3          60       RL         68.0    11250   Pave   NaN      IR1   \n",
       "3   4          70       RL         60.0     9550   Pave   NaN      IR1   \n",
       "4   5          60       RL         84.0    14260   Pave   NaN      IR1   \n",
       "\n",
       "  LandContour Utilities  ... PoolArea PoolQC Fence MiscFeature MiscVal MoSold  \\\n",
       "0         Lvl    AllPub  ...        0    NaN   NaN         NaN       0      2   \n",
       "1         Lvl    AllPub  ...        0    NaN   NaN         NaN       0      5   \n",
       "2         Lvl    AllPub  ...        0    NaN   NaN         NaN       0      9   \n",
       "3         Lvl    AllPub  ...        0    NaN   NaN         NaN       0      2   \n",
       "4         Lvl    AllPub  ...        0    NaN   NaN         NaN       0     12   \n",
       "\n",
       "  YrSold  SaleType  SaleCondition  SalePrice  \n",
       "0   2008        WD         Normal     208500  \n",
       "1   2007        WD         Normal     181500  \n",
       "2   2008        WD         Normal     223500  \n",
       "3   2006        WD        Abnorml     140000  \n",
       "4   2008        WD         Normal     250000  \n",
       "\n",
       "[5 rows x 81 columns]"
      ]
     },
     "execution_count": 3,
     "metadata": {},
     "output_type": "execute_result"
    }
   ],
   "source": [
    "train_hpp.head()"
   ]
  },
  {
   "cell_type": "code",
   "execution_count": 4,
   "id": "303e6fa5-9e65-445a-9a9c-8edd7c97d718",
   "metadata": {},
   "outputs": [
    {
     "name": "stdout",
     "output_type": "stream",
     "text": [
      "<class 'pandas.core.frame.DataFrame'>\n",
      "RangeIndex: 1460 entries, 0 to 1459\n",
      "Data columns (total 81 columns):\n",
      " #   Column         Non-Null Count  Dtype  \n",
      "---  ------         --------------  -----  \n",
      " 0   Id             1460 non-null   int64  \n",
      " 1   MSSubClass     1460 non-null   int64  \n",
      " 2   MSZoning       1460 non-null   object \n",
      " 3   LotFrontage    1201 non-null   float64\n",
      " 4   LotArea        1460 non-null   int64  \n",
      " 5   Street         1460 non-null   object \n",
      " 6   Alley          91 non-null     object \n",
      " 7   LotShape       1460 non-null   object \n",
      " 8   LandContour    1460 non-null   object \n",
      " 9   Utilities      1460 non-null   object \n",
      " 10  LotConfig      1460 non-null   object \n",
      " 11  LandSlope      1460 non-null   object \n",
      " 12  Neighborhood   1460 non-null   object \n",
      " 13  Condition1     1460 non-null   object \n",
      " 14  Condition2     1460 non-null   object \n",
      " 15  BldgType       1460 non-null   object \n",
      " 16  HouseStyle     1460 non-null   object \n",
      " 17  OverallQual    1460 non-null   int64  \n",
      " 18  OverallCond    1460 non-null   int64  \n",
      " 19  YearBuilt      1460 non-null   int64  \n",
      " 20  YearRemodAdd   1460 non-null   int64  \n",
      " 21  RoofStyle      1460 non-null   object \n",
      " 22  RoofMatl       1460 non-null   object \n",
      " 23  Exterior1st    1460 non-null   object \n",
      " 24  Exterior2nd    1460 non-null   object \n",
      " 25  MasVnrType     588 non-null    object \n",
      " 26  MasVnrArea     1452 non-null   float64\n",
      " 27  ExterQual      1460 non-null   object \n",
      " 28  ExterCond      1460 non-null   object \n",
      " 29  Foundation     1460 non-null   object \n",
      " 30  BsmtQual       1423 non-null   object \n",
      " 31  BsmtCond       1423 non-null   object \n",
      " 32  BsmtExposure   1422 non-null   object \n",
      " 33  BsmtFinType1   1423 non-null   object \n",
      " 34  BsmtFinSF1     1460 non-null   int64  \n",
      " 35  BsmtFinType2   1422 non-null   object \n",
      " 36  BsmtFinSF2     1460 non-null   int64  \n",
      " 37  BsmtUnfSF      1460 non-null   int64  \n",
      " 38  TotalBsmtSF    1460 non-null   int64  \n",
      " 39  Heating        1460 non-null   object \n",
      " 40  HeatingQC      1460 non-null   object \n",
      " 41  CentralAir     1460 non-null   object \n",
      " 42  Electrical     1459 non-null   object \n",
      " 43  1stFlrSF       1460 non-null   int64  \n",
      " 44  2ndFlrSF       1460 non-null   int64  \n",
      " 45  LowQualFinSF   1460 non-null   int64  \n",
      " 46  GrLivArea      1460 non-null   int64  \n",
      " 47  BsmtFullBath   1460 non-null   int64  \n",
      " 48  BsmtHalfBath   1460 non-null   int64  \n",
      " 49  FullBath       1460 non-null   int64  \n",
      " 50  HalfBath       1460 non-null   int64  \n",
      " 51  BedroomAbvGr   1460 non-null   int64  \n",
      " 52  KitchenAbvGr   1460 non-null   int64  \n",
      " 53  KitchenQual    1460 non-null   object \n",
      " 54  TotRmsAbvGrd   1460 non-null   int64  \n",
      " 55  Functional     1460 non-null   object \n",
      " 56  Fireplaces     1460 non-null   int64  \n",
      " 57  FireplaceQu    770 non-null    object \n",
      " 58  GarageType     1379 non-null   object \n",
      " 59  GarageYrBlt    1379 non-null   float64\n",
      " 60  GarageFinish   1379 non-null   object \n",
      " 61  GarageCars     1460 non-null   int64  \n",
      " 62  GarageArea     1460 non-null   int64  \n",
      " 63  GarageQual     1379 non-null   object \n",
      " 64  GarageCond     1379 non-null   object \n",
      " 65  PavedDrive     1460 non-null   object \n",
      " 66  WoodDeckSF     1460 non-null   int64  \n",
      " 67  OpenPorchSF    1460 non-null   int64  \n",
      " 68  EnclosedPorch  1460 non-null   int64  \n",
      " 69  3SsnPorch      1460 non-null   int64  \n",
      " 70  ScreenPorch    1460 non-null   int64  \n",
      " 71  PoolArea       1460 non-null   int64  \n",
      " 72  PoolQC         7 non-null      object \n",
      " 73  Fence          281 non-null    object \n",
      " 74  MiscFeature    54 non-null     object \n",
      " 75  MiscVal        1460 non-null   int64  \n",
      " 76  MoSold         1460 non-null   int64  \n",
      " 77  YrSold         1460 non-null   int64  \n",
      " 78  SaleType       1460 non-null   object \n",
      " 79  SaleCondition  1460 non-null   object \n",
      " 80  SalePrice      1460 non-null   int64  \n",
      "dtypes: float64(3), int64(35), object(43)\n",
      "memory usage: 924.0+ KB\n"
     ]
    }
   ],
   "source": [
    "train_hpp.info()"
   ]
  },
  {
   "cell_type": "markdown",
   "id": "2baf56f2-7e2d-4e4f-8d2a-445c5bf85ba6",
   "metadata": {},
   "source": [
    "#### Grouping the features based on their data type"
   ]
  },
  {
   "cell_type": "code",
   "execution_count": 5,
   "id": "25592904-069f-4e28-9325-890b1c14af3b",
   "metadata": {},
   "outputs": [],
   "source": [
    "#int, number but categorical\n",
    "int_columns = [\"OverallQual\", \"OverallCond\", \"YearBuilt\", \"YearRemodAdd\", \"BsmtFullBath\", \"BsmtHalfBath\",\n",
    "               \"FullBath\", \"HalfBath\", \"BedroomAbvGr\", \"KitchenAbvGr\", \"TotRmsAbvGrd\", \"Fireplaces\",\n",
    "               \"GarageYrBlt\", \"GarageCars\", \"MoSold\", \"YrSold\"]\n",
    "\n",
    "#float or area\n",
    "float_columns = [\"LotFrontage\", \"LotArea\", \"MasVnrArea\", \"BsmtFinSF1\", \"BsmtFinSF2\", \"BsmtUnfSF\",\n",
    "                 \"TotalBsmtSF\", \"1stFlrSF\", \"2ndFlrSF\", \"LowQualFinSF\", \"GrLivArea\", \"GarageArea\",\n",
    "                 \"WoodDeckSF\", \"OpenPorchSF\", \"EnclosedPorch\", \"3SsnPorch\", \"ScreenPorch\", \"PoolArea\",\"MiscVal\"]\n",
    "\n",
    "#categorical with order\n",
    "ordinal_columns = [\"OverallQual\", \"OverallCond\", \"YearBuilt\", \"YearRemodAdd\", \"BsmtQual\", \"BsmtCond\",\n",
    "                   \"BsmtExposure\", \"BsmtFinType1\", \"BsmtFinType2\", \"HeatingQC\", \"CentralAir\", \"KitchenQual\",\n",
    "                   \"FireplaceQu\", \"GarageFinish\", \"GarageQual\", \"GarageCond\", \"PavedDrive\", \"PoolQC\",\n",
    "                   \"Fence\"]\n",
    "\n",
    "#categorical without order (obj and int datatype)\n",
    "obj_columns = [\"MSSubClass\", \"MSZoning\", \"Street\", \"Alley\", \"LotShape\", \"LandContour\",\n",
    "               \"Utilities\", \"LotConfig\", \"LandSlope\", \"Neighborhood\", \"Condition1\", \"Condition2\",\n",
    "               \"BldgType\", \"HouseStyle\", \"RoofStyle\", \"RoofMatl\", \"Exterior1st\", \"Exterior2nd\",\n",
    "               \"MasVnrType\", \"ExterQual\", \"ExterCond\", \"Foundation\", \"Heating\", \"Electrical\",\n",
    "               \"Functional\", \"GarageType\", \"MiscFeature\", \"SaleType\", \"SaleCondition\"]"
   ]
  },
  {
   "cell_type": "markdown",
   "id": "91ff87ab-ce1b-4ba2-88e6-608f2ffc1bf9",
   "metadata": {},
   "source": [
    "### Missing Value"
   ]
  },
  {
   "cell_type": "code",
   "execution_count": 6,
   "id": "2b1b1a04-ca00-4233-a022-b30cae4ce9f6",
   "metadata": {},
   "outputs": [
    {
     "data": {
      "text/plain": [
       "PoolQC          1453\n",
       "MiscFeature     1406\n",
       "Alley           1369\n",
       "Fence           1179\n",
       "MasVnrType       872\n",
       "FireplaceQu      690\n",
       "LotFrontage      259\n",
       "GarageType        81\n",
       "GarageYrBlt       81\n",
       "GarageFinish      81\n",
       "GarageQual        81\n",
       "GarageCond        81\n",
       "BsmtFinType2      38\n",
       "BsmtExposure      38\n",
       "BsmtFinType1      37\n",
       "BsmtCond          37\n",
       "BsmtQual          37\n",
       "MasVnrArea         8\n",
       "Electrical         1\n",
       "dtype: int64"
      ]
     },
     "execution_count": 6,
     "metadata": {},
     "output_type": "execute_result"
    }
   ],
   "source": [
    "# See the columns with missing value\n",
    "train_hpp.isna().sum()[train_hpp.isna().sum() > 0].sort_values(ascending = False) "
   ]
  },
  {
   "cell_type": "markdown",
   "id": "d29b2793-a134-431b-8e3d-e8b5ac8ad1f8",
   "metadata": {},
   "source": [
    "#### Handling Missing Value\n",
    "Not all missing value are missing value. Sometimes it means it doesn't have something (value = 0 or none)"
   ]
  },
  {
   "cell_type": "code",
   "execution_count": 7,
   "id": "f0989c07-da6c-409a-af2b-9aafeb4c7500",
   "metadata": {},
   "outputs": [],
   "source": [
    "#Column with true missing value only Electrical, GarageYrBlt and LotFrontage\n",
    "cat_false_na = [\"MasVnrType\", \"FireplaceQu\", \"GarageType\", \"GarageFinish\", \"GarageQual\",\n",
    "            \"GarageCond\", \"BsmtFinType2\", \"BsmtExposure\", \"BsmtFinType1\", \"BsmtCond\", \"BsmtQual\",\n",
    "            \"MasVnrArea\", \"PoolQC\", \"MiscFeature\", \"Alley\", \"Fence\"]#, \"Fireplaces\"]"
   ]
  },
  {
   "cell_type": "markdown",
   "id": "2da1cf4e-dae9-4f03-adc5-ea0b284c4984",
   "metadata": {},
   "source": [
    "##### Handling false NA in numerical data type"
   ]
  },
  {
   "cell_type": "code",
   "execution_count": 8,
   "id": "eb2f5389-39d8-4099-81db-f10b7c0cebaa",
   "metadata": {},
   "outputs": [],
   "source": [
    "#Impute 0 in MasVnrArea\n",
    "train_hpp[\"MasVnrArea\"] = train_hpp[\"MasVnrArea\"].fillna(value = 0, inplace = False)"
   ]
  },
  {
   "cell_type": "markdown",
   "id": "d3995500-c301-454d-bbaf-a29f7bb38ea4",
   "metadata": {},
   "source": [
    "##### Handling false NA in categorical data type"
   ]
  },
  {
   "cell_type": "code",
   "execution_count": 9,
   "id": "f586567c-e07c-4f37-963a-f4efedaa583b",
   "metadata": {},
   "outputs": [
    {
     "data": {
      "text/plain": [
       "LotFrontage    259\n",
       "GarageYrBlt     81\n",
       "Electrical       1\n",
       "dtype: int64"
      ]
     },
     "execution_count": 9,
     "metadata": {},
     "output_type": "execute_result"
    }
   ],
   "source": [
    "#Fillna with None\n",
    "train_hpp[cat_false_na] = train_hpp[cat_false_na].fillna(value = \"None\", inplace = False)\n",
    "\n",
    "#Check isna\n",
    "train_hpp.isna().sum()[train_hpp.isna().sum() > 0].sort_values(ascending = False)"
   ]
  },
  {
   "cell_type": "markdown",
   "id": "e6b3c7a0-5050-4ba5-8d43-d8ddd6256b54",
   "metadata": {},
   "source": [
    "##### Handling true missing value"
   ]
  },
  {
   "cell_type": "code",
   "execution_count": 10,
   "id": "b4991d9b-b303-418e-a5b5-9ace7b20a211",
   "metadata": {},
   "outputs": [
    {
     "data": {
      "text/plain": [
       "Series([], dtype: int64)"
      ]
     },
     "execution_count": 10,
     "metadata": {},
     "output_type": "execute_result"
    }
   ],
   "source": [
    "#Drop electrical\n",
    "train_hpp.dropna(subset = [\"Electrical\"], inplace = True)\n",
    "\n",
    "#Imputing LotFrontage with median\n",
    "train_hpp[\"LotFrontage\"] = train_hpp[\"LotFrontage\"].fillna(train_hpp[\"LotFrontage\"].median())\n",
    "\n",
    "#Imputing GarageYrBlt with median\n",
    "train_hpp[\"GarageYrBlt\"] = train_hpp[\"GarageYrBlt\"].fillna(train_hpp[\"GarageYrBlt\"].median())\n",
    "\n",
    "#Check isna\n",
    "train_hpp.isna().sum()[train_hpp.isna().sum() > 0].sort_values(ascending = False)"
   ]
  },
  {
   "cell_type": "code",
   "execution_count": 11,
   "id": "30bcb7f4-05bb-46c9-ab3f-d911cc1fe862",
   "metadata": {},
   "outputs": [],
   "source": [
    "# reset index\n",
    "#train_hpp.reset_index(drop = True, inplace = True)"
   ]
  },
  {
   "cell_type": "code",
   "execution_count": 12,
   "id": "5c14a24c-c9fa-49ef-92d3-c2ca24eeca0e",
   "metadata": {},
   "outputs": [
    {
     "data": {
      "text/html": [
       "<div>\n",
       "<style scoped>\n",
       "    .dataframe tbody tr th:only-of-type {\n",
       "        vertical-align: middle;\n",
       "    }\n",
       "\n",
       "    .dataframe tbody tr th {\n",
       "        vertical-align: top;\n",
       "    }\n",
       "\n",
       "    .dataframe thead th {\n",
       "        text-align: right;\n",
       "    }\n",
       "</style>\n",
       "<table border=\"1\" class=\"dataframe\">\n",
       "  <thead>\n",
       "    <tr style=\"text-align: right;\">\n",
       "      <th></th>\n",
       "      <th>Id</th>\n",
       "      <th>MSSubClass</th>\n",
       "      <th>MSZoning</th>\n",
       "      <th>LotFrontage</th>\n",
       "      <th>LotArea</th>\n",
       "      <th>Street</th>\n",
       "      <th>Alley</th>\n",
       "      <th>LotShape</th>\n",
       "      <th>LandContour</th>\n",
       "      <th>Utilities</th>\n",
       "      <th>...</th>\n",
       "      <th>PoolArea</th>\n",
       "      <th>PoolQC</th>\n",
       "      <th>Fence</th>\n",
       "      <th>MiscFeature</th>\n",
       "      <th>MiscVal</th>\n",
       "      <th>MoSold</th>\n",
       "      <th>YrSold</th>\n",
       "      <th>SaleType</th>\n",
       "      <th>SaleCondition</th>\n",
       "      <th>SalePrice</th>\n",
       "    </tr>\n",
       "  </thead>\n",
       "  <tbody>\n",
       "    <tr>\n",
       "      <th>0</th>\n",
       "      <td>1</td>\n",
       "      <td>60</td>\n",
       "      <td>RL</td>\n",
       "      <td>65.0</td>\n",
       "      <td>8450</td>\n",
       "      <td>Pave</td>\n",
       "      <td>None</td>\n",
       "      <td>Reg</td>\n",
       "      <td>Lvl</td>\n",
       "      <td>AllPub</td>\n",
       "      <td>...</td>\n",
       "      <td>0</td>\n",
       "      <td>None</td>\n",
       "      <td>None</td>\n",
       "      <td>None</td>\n",
       "      <td>0</td>\n",
       "      <td>2</td>\n",
       "      <td>2008</td>\n",
       "      <td>WD</td>\n",
       "      <td>Normal</td>\n",
       "      <td>208500</td>\n",
       "    </tr>\n",
       "    <tr>\n",
       "      <th>1</th>\n",
       "      <td>2</td>\n",
       "      <td>20</td>\n",
       "      <td>RL</td>\n",
       "      <td>80.0</td>\n",
       "      <td>9600</td>\n",
       "      <td>Pave</td>\n",
       "      <td>None</td>\n",
       "      <td>Reg</td>\n",
       "      <td>Lvl</td>\n",
       "      <td>AllPub</td>\n",
       "      <td>...</td>\n",
       "      <td>0</td>\n",
       "      <td>None</td>\n",
       "      <td>None</td>\n",
       "      <td>None</td>\n",
       "      <td>0</td>\n",
       "      <td>5</td>\n",
       "      <td>2007</td>\n",
       "      <td>WD</td>\n",
       "      <td>Normal</td>\n",
       "      <td>181500</td>\n",
       "    </tr>\n",
       "    <tr>\n",
       "      <th>2</th>\n",
       "      <td>3</td>\n",
       "      <td>60</td>\n",
       "      <td>RL</td>\n",
       "      <td>68.0</td>\n",
       "      <td>11250</td>\n",
       "      <td>Pave</td>\n",
       "      <td>None</td>\n",
       "      <td>IR1</td>\n",
       "      <td>Lvl</td>\n",
       "      <td>AllPub</td>\n",
       "      <td>...</td>\n",
       "      <td>0</td>\n",
       "      <td>None</td>\n",
       "      <td>None</td>\n",
       "      <td>None</td>\n",
       "      <td>0</td>\n",
       "      <td>9</td>\n",
       "      <td>2008</td>\n",
       "      <td>WD</td>\n",
       "      <td>Normal</td>\n",
       "      <td>223500</td>\n",
       "    </tr>\n",
       "    <tr>\n",
       "      <th>3</th>\n",
       "      <td>4</td>\n",
       "      <td>70</td>\n",
       "      <td>RL</td>\n",
       "      <td>60.0</td>\n",
       "      <td>9550</td>\n",
       "      <td>Pave</td>\n",
       "      <td>None</td>\n",
       "      <td>IR1</td>\n",
       "      <td>Lvl</td>\n",
       "      <td>AllPub</td>\n",
       "      <td>...</td>\n",
       "      <td>0</td>\n",
       "      <td>None</td>\n",
       "      <td>None</td>\n",
       "      <td>None</td>\n",
       "      <td>0</td>\n",
       "      <td>2</td>\n",
       "      <td>2006</td>\n",
       "      <td>WD</td>\n",
       "      <td>Abnorml</td>\n",
       "      <td>140000</td>\n",
       "    </tr>\n",
       "    <tr>\n",
       "      <th>4</th>\n",
       "      <td>5</td>\n",
       "      <td>60</td>\n",
       "      <td>RL</td>\n",
       "      <td>84.0</td>\n",
       "      <td>14260</td>\n",
       "      <td>Pave</td>\n",
       "      <td>None</td>\n",
       "      <td>IR1</td>\n",
       "      <td>Lvl</td>\n",
       "      <td>AllPub</td>\n",
       "      <td>...</td>\n",
       "      <td>0</td>\n",
       "      <td>None</td>\n",
       "      <td>None</td>\n",
       "      <td>None</td>\n",
       "      <td>0</td>\n",
       "      <td>12</td>\n",
       "      <td>2008</td>\n",
       "      <td>WD</td>\n",
       "      <td>Normal</td>\n",
       "      <td>250000</td>\n",
       "    </tr>\n",
       "  </tbody>\n",
       "</table>\n",
       "<p>5 rows × 81 columns</p>\n",
       "</div>"
      ],
      "text/plain": [
       "   Id  MSSubClass MSZoning  LotFrontage  LotArea Street Alley LotShape  \\\n",
       "0   1          60       RL         65.0     8450   Pave  None      Reg   \n",
       "1   2          20       RL         80.0     9600   Pave  None      Reg   \n",
       "2   3          60       RL         68.0    11250   Pave  None      IR1   \n",
       "3   4          70       RL         60.0     9550   Pave  None      IR1   \n",
       "4   5          60       RL         84.0    14260   Pave  None      IR1   \n",
       "\n",
       "  LandContour Utilities  ... PoolArea PoolQC Fence MiscFeature MiscVal MoSold  \\\n",
       "0         Lvl    AllPub  ...        0   None  None        None       0      2   \n",
       "1         Lvl    AllPub  ...        0   None  None        None       0      5   \n",
       "2         Lvl    AllPub  ...        0   None  None        None       0      9   \n",
       "3         Lvl    AllPub  ...        0   None  None        None       0      2   \n",
       "4         Lvl    AllPub  ...        0   None  None        None       0     12   \n",
       "\n",
       "  YrSold  SaleType  SaleCondition  SalePrice  \n",
       "0   2008        WD         Normal     208500  \n",
       "1   2007        WD         Normal     181500  \n",
       "2   2008        WD         Normal     223500  \n",
       "3   2006        WD        Abnorml     140000  \n",
       "4   2008        WD         Normal     250000  \n",
       "\n",
       "[5 rows x 81 columns]"
      ]
     },
     "execution_count": 12,
     "metadata": {},
     "output_type": "execute_result"
    }
   ],
   "source": [
    "train_hpp.head()"
   ]
  },
  {
   "cell_type": "code",
   "execution_count": 13,
   "id": "c4a6c2fb-eec2-45ae-a1b2-e32e14cf0783",
   "metadata": {},
   "outputs": [
    {
     "name": "stdout",
     "output_type": "stream",
     "text": [
      "<class 'pandas.core.frame.DataFrame'>\n",
      "Index: 1459 entries, 0 to 1459\n",
      "Data columns (total 81 columns):\n",
      " #   Column         Non-Null Count  Dtype  \n",
      "---  ------         --------------  -----  \n",
      " 0   Id             1459 non-null   int64  \n",
      " 1   MSSubClass     1459 non-null   int64  \n",
      " 2   MSZoning       1459 non-null   object \n",
      " 3   LotFrontage    1459 non-null   float64\n",
      " 4   LotArea        1459 non-null   int64  \n",
      " 5   Street         1459 non-null   object \n",
      " 6   Alley          1459 non-null   object \n",
      " 7   LotShape       1459 non-null   object \n",
      " 8   LandContour    1459 non-null   object \n",
      " 9   Utilities      1459 non-null   object \n",
      " 10  LotConfig      1459 non-null   object \n",
      " 11  LandSlope      1459 non-null   object \n",
      " 12  Neighborhood   1459 non-null   object \n",
      " 13  Condition1     1459 non-null   object \n",
      " 14  Condition2     1459 non-null   object \n",
      " 15  BldgType       1459 non-null   object \n",
      " 16  HouseStyle     1459 non-null   object \n",
      " 17  OverallQual    1459 non-null   int64  \n",
      " 18  OverallCond    1459 non-null   int64  \n",
      " 19  YearBuilt      1459 non-null   int64  \n",
      " 20  YearRemodAdd   1459 non-null   int64  \n",
      " 21  RoofStyle      1459 non-null   object \n",
      " 22  RoofMatl       1459 non-null   object \n",
      " 23  Exterior1st    1459 non-null   object \n",
      " 24  Exterior2nd    1459 non-null   object \n",
      " 25  MasVnrType     1459 non-null   object \n",
      " 26  MasVnrArea     1459 non-null   float64\n",
      " 27  ExterQual      1459 non-null   object \n",
      " 28  ExterCond      1459 non-null   object \n",
      " 29  Foundation     1459 non-null   object \n",
      " 30  BsmtQual       1459 non-null   object \n",
      " 31  BsmtCond       1459 non-null   object \n",
      " 32  BsmtExposure   1459 non-null   object \n",
      " 33  BsmtFinType1   1459 non-null   object \n",
      " 34  BsmtFinSF1     1459 non-null   int64  \n",
      " 35  BsmtFinType2   1459 non-null   object \n",
      " 36  BsmtFinSF2     1459 non-null   int64  \n",
      " 37  BsmtUnfSF      1459 non-null   int64  \n",
      " 38  TotalBsmtSF    1459 non-null   int64  \n",
      " 39  Heating        1459 non-null   object \n",
      " 40  HeatingQC      1459 non-null   object \n",
      " 41  CentralAir     1459 non-null   object \n",
      " 42  Electrical     1459 non-null   object \n",
      " 43  1stFlrSF       1459 non-null   int64  \n",
      " 44  2ndFlrSF       1459 non-null   int64  \n",
      " 45  LowQualFinSF   1459 non-null   int64  \n",
      " 46  GrLivArea      1459 non-null   int64  \n",
      " 47  BsmtFullBath   1459 non-null   int64  \n",
      " 48  BsmtHalfBath   1459 non-null   int64  \n",
      " 49  FullBath       1459 non-null   int64  \n",
      " 50  HalfBath       1459 non-null   int64  \n",
      " 51  BedroomAbvGr   1459 non-null   int64  \n",
      " 52  KitchenAbvGr   1459 non-null   int64  \n",
      " 53  KitchenQual    1459 non-null   object \n",
      " 54  TotRmsAbvGrd   1459 non-null   int64  \n",
      " 55  Functional     1459 non-null   object \n",
      " 56  Fireplaces     1459 non-null   int64  \n",
      " 57  FireplaceQu    1459 non-null   object \n",
      " 58  GarageType     1459 non-null   object \n",
      " 59  GarageYrBlt    1459 non-null   float64\n",
      " 60  GarageFinish   1459 non-null   object \n",
      " 61  GarageCars     1459 non-null   int64  \n",
      " 62  GarageArea     1459 non-null   int64  \n",
      " 63  GarageQual     1459 non-null   object \n",
      " 64  GarageCond     1459 non-null   object \n",
      " 65  PavedDrive     1459 non-null   object \n",
      " 66  WoodDeckSF     1459 non-null   int64  \n",
      " 67  OpenPorchSF    1459 non-null   int64  \n",
      " 68  EnclosedPorch  1459 non-null   int64  \n",
      " 69  3SsnPorch      1459 non-null   int64  \n",
      " 70  ScreenPorch    1459 non-null   int64  \n",
      " 71  PoolArea       1459 non-null   int64  \n",
      " 72  PoolQC         1459 non-null   object \n",
      " 73  Fence          1459 non-null   object \n",
      " 74  MiscFeature    1459 non-null   object \n",
      " 75  MiscVal        1459 non-null   int64  \n",
      " 76  MoSold         1459 non-null   int64  \n",
      " 77  YrSold         1459 non-null   int64  \n",
      " 78  SaleType       1459 non-null   object \n",
      " 79  SaleCondition  1459 non-null   object \n",
      " 80  SalePrice      1459 non-null   int64  \n",
      "dtypes: float64(3), int64(35), object(43)\n",
      "memory usage: 934.7+ KB\n"
     ]
    }
   ],
   "source": [
    "train_hpp.info()"
   ]
  },
  {
   "cell_type": "markdown",
   "id": "0b76c5e0-5780-435b-8a7d-b35d0f32184e",
   "metadata": {},
   "source": [
    "### Outlier"
   ]
  },
  {
   "cell_type": "code",
   "execution_count": 14,
   "id": "d152197a-cd5f-4cc2-9d8a-ecbf7ac80f23",
   "metadata": {},
   "outputs": [],
   "source": [
    "# all numeric columns\n",
    "num_col = int_columns + float_columns\n",
    "\n",
    "# Select only numerical features\n",
    "num_features = train_hpp[num_col]"
   ]
  },
  {
   "cell_type": "code",
   "execution_count": 15,
   "id": "e5fc8b26-aa83-47da-b06a-b3ba36aecea5",
   "metadata": {},
   "outputs": [
    {
     "data": {
      "image/png": "[encoded data removed]",
      "text/plain": [
       "<Figure size 3000x2000 with 35 Axes>"
      ]
     },
     "metadata": {},
     "output_type": "display_data"
    }
   ],
   "source": [
    "# See outlier with boxplot\n",
    "# Layout of the plot\n",
    "fig, axes = plt.subplots(nrows = 7, ncols = 5, figsize = (30,20))\n",
    "axes = axes.flatten()\n",
    "\n",
    "for i, col in enumerate(num_features.columns):\n",
    "    if i < len(num_features):\n",
    "        sns.boxplot(x = train_hpp[col], ax = axes[i])\n",
    "        \n",
    "for i in range(len(num_features.columns), len(axes)): \n",
    "    fig.delaxes(axes[i])\n",
    "    \n",
    "plt.tight_layout()\n",
    "plt.show()"
   ]
  },
  {
   "cell_type": "markdown",
   "id": "1051db12-d3b7-4b5a-9ef5-3461df85f69f",
   "metadata": {},
   "source": [
    "#### Handling Outlier"
   ]
  },
  {
   "cell_type": "code",
   "execution_count": 16,
   "id": "c6452d93-c0c5-4259-a781-e381c16dc5dc",
   "metadata": {},
   "outputs": [],
   "source": [
    "#Droping column, thorse q1, q2 and q3 are zero.\n",
    "train_hpp = train_hpp.drop(columns = [\"BsmtFinSF2\", \"LowQualFinSF\", \"EnclosedPorch\", \"3SsnPorch\",\n",
    "                                      \"ScreenPorch\", \"PoolArea\", \"MiscVal\"])"
   ]
  },
  {
   "cell_type": "code",
   "execution_count": 17,
   "id": "b93cf1ce-2ce9-4c44-aecf-138647ef0cf9",
   "metadata": {},
   "outputs": [],
   "source": [
    "#Outlier Column\n",
    "outlier_cols = [\"LotFrontage\", \"LotArea\", \"MasVnrArea\", \"BsmtFinSF1\", \"BsmtUnfSF\", \"TotalBsmtSF\",\n",
    "                \"1stFlrSF\", \"2ndFlrSF\", \"GrLivArea\", \"GarageArea\", \"WoodDeckSF\", \"OpenPorchSF\"]"
   ]
  },
  {
   "cell_type": "code",
   "execution_count": 18,
   "id": "3f66192f-0a30-483e-b7da-109129e24a12",
   "metadata": {},
   "outputs": [
    {
     "name": "stdout",
     "output_type": "stream",
     "text": [
      "<class 'pandas.core.frame.DataFrame'>\n",
      "Index: 1459 entries, 0 to 1459\n",
      "Data columns (total 12 columns):\n",
      " #   Column       Non-Null Count  Dtype  \n",
      "---  ------       --------------  -----  \n",
      " 0   LotFrontage  1459 non-null   float64\n",
      " 1   LotArea      1459 non-null   float64\n",
      " 2   MasVnrArea   1459 non-null   float64\n",
      " 3   BsmtFinSF1   1459 non-null   float64\n",
      " 4   BsmtUnfSF    1459 non-null   float64\n",
      " 5   TotalBsmtSF  1459 non-null   float64\n",
      " 6   1stFlrSF     1459 non-null   float64\n",
      " 7   2ndFlrSF     1459 non-null   float64\n",
      " 8   GrLivArea    1459 non-null   float64\n",
      " 9   GarageArea   1459 non-null   float64\n",
      " 10  WoodDeckSF   1459 non-null   float64\n",
      " 11  OpenPorchSF  1459 non-null   float64\n",
      "dtypes: float64(12)\n",
      "memory usage: 148.2 KB\n"
     ]
    }
   ],
   "source": [
    "#change the outlier column datatype to float\n",
    "train_hpp[outlier_cols] = train_hpp[outlier_cols].astype(float)\n",
    "\n",
    "#check info\n",
    "train_hpp[outlier_cols].info()"
   ]
  },
  {
   "cell_type": "code",
   "execution_count": 19,
   "id": "4e1701a9-0582-4bdd-90ac-33073a0a636f",
   "metadata": {},
   "outputs": [
    {
     "data": {
      "text/html": [
       "<div>\n",
       "<style scoped>\n",
       "    .dataframe tbody tr th:only-of-type {\n",
       "        vertical-align: middle;\n",
       "    }\n",
       "\n",
       "    .dataframe tbody tr th {\n",
       "        vertical-align: top;\n",
       "    }\n",
       "\n",
       "    .dataframe thead th {\n",
       "        text-align: right;\n",
       "    }\n",
       "</style>\n",
       "<table border=\"1\" class=\"dataframe\">\n",
       "  <thead>\n",
       "    <tr style=\"text-align: right;\">\n",
       "      <th></th>\n",
       "      <th>LotFrontage</th>\n",
       "      <th>LotArea</th>\n",
       "      <th>MasVnrArea</th>\n",
       "      <th>BsmtFinSF1</th>\n",
       "      <th>BsmtUnfSF</th>\n",
       "      <th>TotalBsmtSF</th>\n",
       "      <th>1stFlrSF</th>\n",
       "      <th>2ndFlrSF</th>\n",
       "      <th>GrLivArea</th>\n",
       "      <th>GarageArea</th>\n",
       "      <th>WoodDeckSF</th>\n",
       "      <th>OpenPorchSF</th>\n",
       "    </tr>\n",
       "  </thead>\n",
       "  <tbody>\n",
       "    <tr>\n",
       "      <th>0</th>\n",
       "      <td>65.0</td>\n",
       "      <td>8450.0</td>\n",
       "      <td>196.0</td>\n",
       "      <td>706.0</td>\n",
       "      <td>150.0</td>\n",
       "      <td>856.0</td>\n",
       "      <td>856.0</td>\n",
       "      <td>854.0</td>\n",
       "      <td>1710.0</td>\n",
       "      <td>548.0</td>\n",
       "      <td>0.0</td>\n",
       "      <td>61.0</td>\n",
       "    </tr>\n",
       "    <tr>\n",
       "      <th>1</th>\n",
       "      <td>80.0</td>\n",
       "      <td>9600.0</td>\n",
       "      <td>0.0</td>\n",
       "      <td>978.0</td>\n",
       "      <td>284.0</td>\n",
       "      <td>1262.0</td>\n",
       "      <td>1262.0</td>\n",
       "      <td>0.0</td>\n",
       "      <td>1262.0</td>\n",
       "      <td>460.0</td>\n",
       "      <td>298.0</td>\n",
       "      <td>0.0</td>\n",
       "    </tr>\n",
       "    <tr>\n",
       "      <th>2</th>\n",
       "      <td>68.0</td>\n",
       "      <td>11250.0</td>\n",
       "      <td>162.0</td>\n",
       "      <td>486.0</td>\n",
       "      <td>434.0</td>\n",
       "      <td>920.0</td>\n",
       "      <td>920.0</td>\n",
       "      <td>866.0</td>\n",
       "      <td>1786.0</td>\n",
       "      <td>608.0</td>\n",
       "      <td>0.0</td>\n",
       "      <td>42.0</td>\n",
       "    </tr>\n",
       "    <tr>\n",
       "      <th>3</th>\n",
       "      <td>60.0</td>\n",
       "      <td>9550.0</td>\n",
       "      <td>0.0</td>\n",
       "      <td>216.0</td>\n",
       "      <td>540.0</td>\n",
       "      <td>756.0</td>\n",
       "      <td>961.0</td>\n",
       "      <td>756.0</td>\n",
       "      <td>1717.0</td>\n",
       "      <td>642.0</td>\n",
       "      <td>0.0</td>\n",
       "      <td>35.0</td>\n",
       "    </tr>\n",
       "    <tr>\n",
       "      <th>4</th>\n",
       "      <td>84.0</td>\n",
       "      <td>14260.0</td>\n",
       "      <td>350.0</td>\n",
       "      <td>655.0</td>\n",
       "      <td>490.0</td>\n",
       "      <td>1145.0</td>\n",
       "      <td>1145.0</td>\n",
       "      <td>1053.0</td>\n",
       "      <td>2198.0</td>\n",
       "      <td>836.0</td>\n",
       "      <td>192.0</td>\n",
       "      <td>84.0</td>\n",
       "    </tr>\n",
       "    <tr>\n",
       "      <th>...</th>\n",
       "      <td>...</td>\n",
       "      <td>...</td>\n",
       "      <td>...</td>\n",
       "      <td>...</td>\n",
       "      <td>...</td>\n",
       "      <td>...</td>\n",
       "      <td>...</td>\n",
       "      <td>...</td>\n",
       "      <td>...</td>\n",
       "      <td>...</td>\n",
       "      <td>...</td>\n",
       "      <td>...</td>\n",
       "    </tr>\n",
       "    <tr>\n",
       "      <th>1455</th>\n",
       "      <td>62.0</td>\n",
       "      <td>7917.0</td>\n",
       "      <td>0.0</td>\n",
       "      <td>0.0</td>\n",
       "      <td>953.0</td>\n",
       "      <td>953.0</td>\n",
       "      <td>953.0</td>\n",
       "      <td>694.0</td>\n",
       "      <td>1647.0</td>\n",
       "      <td>460.0</td>\n",
       "      <td>0.0</td>\n",
       "      <td>40.0</td>\n",
       "    </tr>\n",
       "    <tr>\n",
       "      <th>1456</th>\n",
       "      <td>85.0</td>\n",
       "      <td>13175.0</td>\n",
       "      <td>119.0</td>\n",
       "      <td>790.0</td>\n",
       "      <td>589.0</td>\n",
       "      <td>1542.0</td>\n",
       "      <td>2073.0</td>\n",
       "      <td>0.0</td>\n",
       "      <td>2073.0</td>\n",
       "      <td>500.0</td>\n",
       "      <td>349.0</td>\n",
       "      <td>0.0</td>\n",
       "    </tr>\n",
       "    <tr>\n",
       "      <th>1457</th>\n",
       "      <td>66.0</td>\n",
       "      <td>9042.0</td>\n",
       "      <td>0.0</td>\n",
       "      <td>275.0</td>\n",
       "      <td>877.0</td>\n",
       "      <td>1152.0</td>\n",
       "      <td>1188.0</td>\n",
       "      <td>1152.0</td>\n",
       "      <td>2340.0</td>\n",
       "      <td>252.0</td>\n",
       "      <td>0.0</td>\n",
       "      <td>60.0</td>\n",
       "    </tr>\n",
       "    <tr>\n",
       "      <th>1458</th>\n",
       "      <td>68.0</td>\n",
       "      <td>9717.0</td>\n",
       "      <td>0.0</td>\n",
       "      <td>49.0</td>\n",
       "      <td>0.0</td>\n",
       "      <td>1078.0</td>\n",
       "      <td>1078.0</td>\n",
       "      <td>0.0</td>\n",
       "      <td>1078.0</td>\n",
       "      <td>240.0</td>\n",
       "      <td>366.0</td>\n",
       "      <td>0.0</td>\n",
       "    </tr>\n",
       "    <tr>\n",
       "      <th>1459</th>\n",
       "      <td>75.0</td>\n",
       "      <td>9937.0</td>\n",
       "      <td>0.0</td>\n",
       "      <td>830.0</td>\n",
       "      <td>136.0</td>\n",
       "      <td>1256.0</td>\n",
       "      <td>1256.0</td>\n",
       "      <td>0.0</td>\n",
       "      <td>1256.0</td>\n",
       "      <td>276.0</td>\n",
       "      <td>420.0</td>\n",
       "      <td>68.0</td>\n",
       "    </tr>\n",
       "  </tbody>\n",
       "</table>\n",
       "<p>1459 rows × 12 columns</p>\n",
       "</div>"
      ],
      "text/plain": [
       "      LotFrontage  LotArea  MasVnrArea  BsmtFinSF1  BsmtUnfSF  TotalBsmtSF  \\\n",
       "0            65.0   8450.0       196.0       706.0      150.0        856.0   \n",
       "1            80.0   9600.0         0.0       978.0      284.0       1262.0   \n",
       "2            68.0  11250.0       162.0       486.0      434.0        920.0   \n",
       "3            60.0   9550.0         0.0       216.0      540.0        756.0   \n",
       "4            84.0  14260.0       350.0       655.0      490.0       1145.0   \n",
       "...           ...      ...         ...         ...        ...          ...   \n",
       "1455         62.0   7917.0         0.0         0.0      953.0        953.0   \n",
       "1456         85.0  13175.0       119.0       790.0      589.0       1542.0   \n",
       "1457         66.0   9042.0         0.0       275.0      877.0       1152.0   \n",
       "1458         68.0   9717.0         0.0        49.0        0.0       1078.0   \n",
       "1459         75.0   9937.0         0.0       830.0      136.0       1256.0   \n",
       "\n",
       "      1stFlrSF  2ndFlrSF  GrLivArea  GarageArea  WoodDeckSF  OpenPorchSF  \n",
       "0        856.0     854.0     1710.0       548.0         0.0         61.0  \n",
       "1       1262.0       0.0     1262.0       460.0       298.0          0.0  \n",
       "2        920.0     866.0     1786.0       608.0         0.0         42.0  \n",
       "3        961.0     756.0     1717.0       642.0         0.0         35.0  \n",
       "4       1145.0    1053.0     2198.0       836.0       192.0         84.0  \n",
       "...        ...       ...        ...         ...         ...          ...  \n",
       "1455     953.0     694.0     1647.0       460.0         0.0         40.0  \n",
       "1456    2073.0       0.0     2073.0       500.0       349.0          0.0  \n",
       "1457    1188.0    1152.0     2340.0       252.0         0.0         60.0  \n",
       "1458    1078.0       0.0     1078.0       240.0       366.0          0.0  \n",
       "1459    1256.0       0.0     1256.0       276.0       420.0         68.0  \n",
       "\n",
       "[1459 rows x 12 columns]"
      ]
     },
     "execution_count": 19,
     "metadata": {},
     "output_type": "execute_result"
    }
   ],
   "source": [
    "#Change the outlier value with IQR Methode\n",
    "\n",
    "def handle_outliers_iqr(dataframe, column):\n",
    "    Q1 = dataframe[column].quantile(0.25)\n",
    "    Q3 = dataframe[column].quantile(0.75)\n",
    "    IQR = Q3 - Q1\n",
    "    \n",
    "    lower = Q1 - 1.5 * IQR\n",
    "    upper = Q3 + 1.5 * IQR\n",
    "    \n",
    "    dataframe.loc[(dataframe[col] > upper,col)]=upper\n",
    "    dataframe.loc[(dataframe[col] < lower,col)]=lower \n",
    "    \n",
    "    return dataframe\n",
    "\n",
    "for col in train_hpp[outlier_cols].columns :\n",
    "    train_hpp = handle_outliers_iqr(train_hpp, col)\n",
    "\n",
    "train_hpp[outlier_cols]"
   ]
  },
  {
   "cell_type": "code",
   "execution_count": 20,
   "id": "d981ad97-c66b-401b-80a9-e8984e94afab",
   "metadata": {},
   "outputs": [
    {
     "data": {
      "image/png": "[encoded data removed]",
      "text/plain": [
       "<Figure size 3000x2000 with 12 Axes>"
      ]
     },
     "metadata": {},
     "output_type": "display_data"
    }
   ],
   "source": [
    "#check with boxplot\n",
    "outlier_df = train_hpp[outlier_cols]\n",
    "\n",
    "fig, axes = plt.subplots(nrows = 3, ncols = 4, figsize = (30,20))\n",
    "axes = axes.flatten()\n",
    "\n",
    "for i, col in enumerate(outlier_df.columns):\n",
    "    if i < len(outlier_df):\n",
    "        sns.boxplot(x = train_hpp[col], ax = axes[i])\n",
    "        \n",
    "for i in range(len(num_features.columns), len(axes)): \n",
    "    fig.delaxes(axes[i])\n",
    "    \n",
    "plt.tight_layout()\n",
    "plt.show()"
   ]
  },
  {
   "cell_type": "markdown",
   "id": "34ddfae5-381c-4dc2-9e1a-a5ed92119083",
   "metadata": {},
   "source": [
    "### Encoding for categorical features"
   ]
  },
  {
   "cell_type": "code",
   "execution_count": 21,
   "id": "214cbe3e-614f-4c6d-a7dc-28f8a69bd3a9",
   "metadata": {},
   "outputs": [],
   "source": [
    "from sklearn.preprocessing import LabelEncoder\n",
    "from sklearn.preprocessing import OrdinalEncoder\n",
    "from sklearn.preprocessing import OneHotEncoder"
   ]
  },
  {
   "cell_type": "code",
   "execution_count": 22,
   "id": "27156ebe-5722-4069-9ead-5f660d8fb534",
   "metadata": {},
   "outputs": [
    {
     "data": {
      "text/plain": [
       "43"
      ]
     },
     "execution_count": 22,
     "metadata": {},
     "output_type": "execute_result"
    }
   ],
   "source": [
    "#checking categorical features\n",
    "cat = train_hpp.select_dtypes(include = \"O\").keys()\n",
    "cat\n",
    "len(cat)"
   ]
  },
  {
   "cell_type": "markdown",
   "id": "d2c6c1fe-a8ed-4bf9-a85f-dc977ecba058",
   "metadata": {},
   "source": [
    "#### Encoding the categorical features without order"
   ]
  },
  {
   "cell_type": "code",
   "execution_count": 23,
   "id": "b9858ebb-21f6-478b-a90b-c399640977de",
   "metadata": {},
   "outputs": [
    {
     "data": {
      "text/plain": [
       "29"
      ]
     },
     "execution_count": 23,
     "metadata": {},
     "output_type": "execute_result"
    }
   ],
   "source": [
    "cat_non_ordinal = [\"MSSubClass\", \"MSZoning\", \"Street\", \"LotShape\", \"LandContour\", \"Utilities\",\n",
    "                   \"LotConfig\", \"LandSlope\",\"Neighborhood\", \"Condition1\", \"Condition2\", \"BldgType\",\n",
    "                   \"HouseStyle\", \"RoofStyle\", \"RoofMatl\", \"Exterior1st\", \"Exterior2nd\", \"Alley\",\n",
    "                   \"MasVnrType\", \"Foundation\", \"Heating\", \"CentralAir\", \"Electrical\", \"Functional\",\n",
    "                   \"GarageType\", \"PavedDrive\", \"SaleType\", \"SaleCondition\", \"MiscFeature\"]#, \"Fence\"]\n",
    "\n",
    "len(cat_non_ordinal)"
   ]
  },
  {
   "cell_type": "code",
   "execution_count": 24,
   "id": "a85d5228-8467-442a-9470-8154c4101758",
   "metadata": {},
   "outputs": [],
   "source": [
    "#DataFrame for later to check if code is right\n",
    "hpp_non_ordinal = train_hpp[cat_non_ordinal]"
   ]
  },
  {
   "cell_type": "code",
   "execution_count": 25,
   "id": "c1b020cb-ff6b-4dc2-8c0d-e7c13e6d479c",
   "metadata": {},
   "outputs": [
    {
     "name": "stdout",
     "output_type": "stream",
     "text": [
      "MSSubClass\n",
      "0     536\n",
      "5     299\n",
      "4     144\n",
      "11     87\n",
      "1      69\n",
      "12     63\n",
      "6      60\n",
      "8      57\n",
      "10     52\n",
      "14     30\n",
      "9      20\n",
      "7      16\n",
      "3      12\n",
      "13     10\n",
      "2       4\n",
      "Name: count, dtype: int64\n",
      "MSSubClass\n",
      "20     536\n",
      "60     299\n",
      "50     144\n",
      "120     87\n",
      "30      69\n",
      "160     63\n",
      "70      60\n",
      "80      57\n",
      "90      52\n",
      "190     30\n",
      "85      20\n",
      "75      16\n",
      "45      12\n",
      "180     10\n",
      "40       4\n",
      "Name: count, dtype: int64\n",
      "MSZoning\n",
      "3    1150\n",
      "4     218\n",
      "1      65\n",
      "2      16\n",
      "0      10\n",
      "Name: count, dtype: int64\n",
      "MSZoning\n",
      "RL         1150\n",
      "RM          218\n",
      "FV           65\n",
      "RH           16\n",
      "C (all)      10\n",
      "Name: count, dtype: int64\n",
      "Street\n",
      "1    1453\n",
      "0       6\n",
      "Name: count, dtype: int64\n",
      "Street\n",
      "Pave    1453\n",
      "Grvl       6\n",
      "Name: count, dtype: int64\n",
      "LotShape\n",
      "3    924\n",
      "0    484\n",
      "1     41\n",
      "2     10\n",
      "Name: count, dtype: int64\n",
      "LotShape\n",
      "Reg    924\n",
      "IR1    484\n",
      "IR2     41\n",
      "IR3     10\n",
      "Name: count, dtype: int64\n"
     ]
    }
   ],
   "source": [
    "label_encoder = LabelEncoder()\n",
    "\n",
    "#LabelEncoder for all non ordinal category columns\n",
    "for col in cat_non_ordinal:\n",
    "    train_hpp[col] = label_encoder.fit_transform(train_hpp[col])\n",
    "\n",
    "#check\n",
    "print(train_hpp.MSSubClass.value_counts())\n",
    "print(hpp_non_ordinal.MSSubClass.value_counts())\n",
    "\n",
    "print(train_hpp.MSZoning.value_counts())\n",
    "print(hpp_non_ordinal.MSZoning.value_counts())\n",
    "\n",
    "print(train_hpp.Street.value_counts())\n",
    "print(hpp_non_ordinal.Street.value_counts())\n",
    "\n",
    "print(train_hpp.LotShape.value_counts())\n",
    "print(hpp_non_ordinal.LotShape.value_counts())"
   ]
  },
  {
   "cell_type": "markdown",
   "id": "11a6b48b-e359-45c5-a210-1f498a0a7bee",
   "metadata": {},
   "source": [
    "#### Encoding for categorical features with order"
   ]
  },
  {
   "cell_type": "code",
   "execution_count": 26,
   "id": "d2dca81b-d95b-450b-9106-6f1963379ab2",
   "metadata": {},
   "outputs": [],
   "source": [
    "#ordinal columns\n",
    "hpp_ordinal = train_hpp[[\"ExterQual\", \"ExterCond\", \"BsmtQual\", \"BsmtCond\",\n",
    "                        \"BsmtExposure\", \"BsmtFinType1\", \"BsmtFinType2\", \"HeatingQC\",\n",
    "                        \"KitchenQual\", \"FireplaceQu\", \"GarageFinish\", \"GarageQual\",\n",
    "                        \"GarageCond\", \"PoolQC\", \"Fence\"]]"
   ]
  },
  {
   "cell_type": "code",
   "execution_count": 27,
   "id": "72dbc72e-dea2-4302-b5af-19a570b05c52",
   "metadata": {},
   "outputs": [
    {
     "name": "stdout",
     "output_type": "stream",
     "text": [
      "    ExterQual  ExterCond  HeatingQC  KitchenQual\n",
      "Ex       52.0          3        741        100.0\n",
      "Fa       14.0         28         49         39.0\n",
      "Gd      488.0        146        240        585.0\n",
      "Po        NaN          1          1          NaN\n",
      "TA      905.0       1281        428        735.0\n",
      "     ExterQual  ExterCond  HeatingQC  KitchenQual\n",
      "0.0        NaN          1          1          NaN\n",
      "1.0       14.0         28         49         39.0\n",
      "2.0      905.0       1281        428        735.0\n",
      "3.0      488.0        146        240        585.0\n",
      "4.0       52.0          3        741        100.0\n"
     ]
    },
    {
     "name": "stderr",
     "output_type": "stream",
     "text": [
      "C:\\Users\\ZulkifliIndraGadingC\\AppData\\Local\\Temp\\ipykernel_12248\\2563003652.py:12: FutureWarning: pandas.value_counts is deprecated and will be removed in a future version. Use pd.Series(obj).value_counts() instead.\n",
      "  print(hpp_ordinal[ord_cat1].apply(pd.value_counts))\n",
      "C:\\Users\\ZulkifliIndraGadingC\\AppData\\Local\\Temp\\ipykernel_12248\\2563003652.py:12: FutureWarning: pandas.value_counts is deprecated and will be removed in a future version. Use pd.Series(obj).value_counts() instead.\n",
      "  print(hpp_ordinal[ord_cat1].apply(pd.value_counts))\n",
      "C:\\Users\\ZulkifliIndraGadingC\\AppData\\Local\\Temp\\ipykernel_12248\\2563003652.py:12: FutureWarning: pandas.value_counts is deprecated and will be removed in a future version. Use pd.Series(obj).value_counts() instead.\n",
      "  print(hpp_ordinal[ord_cat1].apply(pd.value_counts))\n",
      "C:\\Users\\ZulkifliIndraGadingC\\AppData\\Local\\Temp\\ipykernel_12248\\2563003652.py:12: FutureWarning: pandas.value_counts is deprecated and will be removed in a future version. Use pd.Series(obj).value_counts() instead.\n",
      "  print(hpp_ordinal[ord_cat1].apply(pd.value_counts))\n",
      "C:\\Users\\ZulkifliIndraGadingC\\AppData\\Local\\Temp\\ipykernel_12248\\2563003652.py:13: FutureWarning: pandas.value_counts is deprecated and will be removed in a future version. Use pd.Series(obj).value_counts() instead.\n",
      "  print(train_hpp[ord_cat1].apply(pd.value_counts))\n"
     ]
    }
   ],
   "source": [
    "##cat1\n",
    "cat1 = [\"Po\", \"Fa\", \"TA\", \"Gd\", \"Ex\"]\n",
    "enc1 = OrdinalEncoder(categories = [cat1])\n",
    "\n",
    "ord_cat1 = [\"ExterQual\", \"ExterCond\", \"HeatingQC\", \"KitchenQual\"]\n",
    "\n",
    "for col in ord_cat1:\n",
    "    reshaped_data = train_hpp[col].values.reshape(-1, 1)\n",
    "    train_hpp[col] = enc1.fit_transform(reshaped_data)\n",
    "\n",
    "#check if it is right\n",
    "print(hpp_ordinal[ord_cat1].apply(pd.value_counts))\n",
    "print(train_hpp[ord_cat1].apply(pd.value_counts))"
   ]
  },
  {
   "cell_type": "code",
   "execution_count": 28,
   "id": "1bc1ecb7-8a28-4ee0-b12e-6f5acf8c2275",
   "metadata": {},
   "outputs": [
    {
     "name": "stdout",
     "output_type": "stream",
     "text": [
      "      BsmtQual  BsmtCond  FireplaceQu  GarageQual  GarageCond  PoolQC\n",
      "Ex       121.0       NaN           24           3           2     2.0\n",
      "Fa        35.0      45.0           33          48          35     2.0\n",
      "Gd       617.0      65.0          380          14           9     3.0\n",
      "None      37.0      37.0          689          81          81  1452.0\n",
      "Po         NaN       2.0           20           3           7     NaN\n",
      "TA       649.0    1310.0          313        1310        1325     NaN\n",
      "     BsmtQual  BsmtCond  FireplaceQu  GarageQual  GarageCond  PoolQC\n",
      "0.0      37.0      37.0          689          81          81  1452.0\n",
      "1.0       NaN       2.0           20           3           7     NaN\n",
      "2.0      35.0      45.0           33          48          35     2.0\n",
      "3.0     649.0    1310.0          313        1310        1325     NaN\n",
      "4.0     617.0      65.0          380          14           9     3.0\n",
      "5.0     121.0       NaN           24           3           2     2.0\n"
     ]
    },
    {
     "name": "stderr",
     "output_type": "stream",
     "text": [
      "C:\\Users\\ZulkifliIndraGadingC\\AppData\\Local\\Temp\\ipykernel_12248\\944483440.py:13: FutureWarning: pandas.value_counts is deprecated and will be removed in a future version. Use pd.Series(obj).value_counts() instead.\n",
      "  print(hpp_ordinal[ord_cat2].apply(pd.value_counts))\n",
      "C:\\Users\\ZulkifliIndraGadingC\\AppData\\Local\\Temp\\ipykernel_12248\\944483440.py:13: FutureWarning: pandas.value_counts is deprecated and will be removed in a future version. Use pd.Series(obj).value_counts() instead.\n",
      "  print(hpp_ordinal[ord_cat2].apply(pd.value_counts))\n",
      "C:\\Users\\ZulkifliIndraGadingC\\AppData\\Local\\Temp\\ipykernel_12248\\944483440.py:13: FutureWarning: pandas.value_counts is deprecated and will be removed in a future version. Use pd.Series(obj).value_counts() instead.\n",
      "  print(hpp_ordinal[ord_cat2].apply(pd.value_counts))\n",
      "C:\\Users\\ZulkifliIndraGadingC\\AppData\\Local\\Temp\\ipykernel_12248\\944483440.py:13: FutureWarning: pandas.value_counts is deprecated and will be removed in a future version. Use pd.Series(obj).value_counts() instead.\n",
      "  print(hpp_ordinal[ord_cat2].apply(pd.value_counts))\n",
      "C:\\Users\\ZulkifliIndraGadingC\\AppData\\Local\\Temp\\ipykernel_12248\\944483440.py:13: FutureWarning: pandas.value_counts is deprecated and will be removed in a future version. Use pd.Series(obj).value_counts() instead.\n",
      "  print(hpp_ordinal[ord_cat2].apply(pd.value_counts))\n",
      "C:\\Users\\ZulkifliIndraGadingC\\AppData\\Local\\Temp\\ipykernel_12248\\944483440.py:13: FutureWarning: pandas.value_counts is deprecated and will be removed in a future version. Use pd.Series(obj).value_counts() instead.\n",
      "  print(hpp_ordinal[ord_cat2].apply(pd.value_counts))\n",
      "C:\\Users\\ZulkifliIndraGadingC\\AppData\\Local\\Temp\\ipykernel_12248\\944483440.py:14: FutureWarning: pandas.value_counts is deprecated and will be removed in a future version. Use pd.Series(obj).value_counts() instead.\n",
      "  print(train_hpp[ord_cat2].apply(pd.value_counts))\n"
     ]
    }
   ],
   "source": [
    "##cat2\n",
    "cat2 = [\"None\", \"Po\", \"Fa\", \"TA\", \"Gd\", \"Ex\"]\n",
    "enc2 = OrdinalEncoder(categories = [cat2])\n",
    "\n",
    "ord_cat2 = [\"BsmtQual\", \"BsmtCond\", \"FireplaceQu\", \"GarageQual\", \"GarageCond\", \"PoolQC\"]\n",
    "            #\"ExterQual\", \"ExterCond\", \"HeatingQC\", \"KitchenQual\"]\n",
    "\n",
    "for col in ord_cat2:\n",
    "    reshaped_data = train_hpp[col].values.reshape(-1, 1)\n",
    "    train_hpp[col] = enc2.fit_transform(reshaped_data)\n",
    "\n",
    "#check if it is right\n",
    "print(hpp_ordinal[ord_cat2].apply(pd.value_counts))\n",
    "print(train_hpp[ord_cat2].apply(pd.value_counts))"
   ]
  },
  {
   "cell_type": "code",
   "execution_count": 29,
   "id": "5751353f-bf7d-44f8-9863-9afc26810397",
   "metadata": {},
   "outputs": [
    {
     "name": "stdout",
     "output_type": "stream",
     "text": [
      "      BsmtFinType1  BsmtFinType2\n",
      "ALQ            220            19\n",
      "BLQ            148            33\n",
      "GLQ            418            14\n",
      "LwQ             74            46\n",
      "None            37            38\n",
      "Rec            133            54\n",
      "Unf            429          1255\n",
      "     BsmtFinType1  BsmtFinType2\n",
      "0.0            37            38\n",
      "1.0           429          1255\n",
      "2.0            74            46\n",
      "3.0           133            54\n",
      "4.0           148            33\n",
      "5.0           220            19\n",
      "6.0           418            14\n"
     ]
    },
    {
     "name": "stderr",
     "output_type": "stream",
     "text": [
      "C:\\Users\\ZulkifliIndraGadingC\\AppData\\Local\\Temp\\ipykernel_12248\\1813528924.py:12: FutureWarning: pandas.value_counts is deprecated and will be removed in a future version. Use pd.Series(obj).value_counts() instead.\n",
      "  print(hpp_ordinal[ord_cat3].apply(pd.value_counts))\n",
      "C:\\Users\\ZulkifliIndraGadingC\\AppData\\Local\\Temp\\ipykernel_12248\\1813528924.py:12: FutureWarning: pandas.value_counts is deprecated and will be removed in a future version. Use pd.Series(obj).value_counts() instead.\n",
      "  print(hpp_ordinal[ord_cat3].apply(pd.value_counts))\n",
      "C:\\Users\\ZulkifliIndraGadingC\\AppData\\Local\\Temp\\ipykernel_12248\\1813528924.py:13: FutureWarning: pandas.value_counts is deprecated and will be removed in a future version. Use pd.Series(obj).value_counts() instead.\n",
      "  print(train_hpp[ord_cat3].apply(pd.value_counts))\n"
     ]
    }
   ],
   "source": [
    "##cat3\n",
    "cat3 = [\"None\", \"Unf\", \"LwQ\", \"Rec\", \"BLQ\", \"ALQ\", \"GLQ\"]\n",
    "enc3 = OrdinalEncoder(categories = [cat3])\n",
    "\n",
    "ord_cat3 = [\"BsmtFinType1\", \"BsmtFinType2\"]\n",
    "\n",
    "for col in ord_cat3:\n",
    "    reshaped_data = train_hpp[col].values.reshape(-1, 1)\n",
    "    train_hpp[col] = enc3.fit_transform(reshaped_data)\n",
    "\n",
    "#check if it is right\n",
    "print(hpp_ordinal[ord_cat3].apply(pd.value_counts))\n",
    "print(train_hpp[ord_cat3].apply(pd.value_counts))"
   ]
  },
  {
   "cell_type": "code",
   "execution_count": 30,
   "id": "722bd0e1-9b3c-4393-ad2f-a2bf39df8792",
   "metadata": {},
   "outputs": [
    {
     "name": "stdout",
     "output_type": "stream",
     "text": [
      "BsmtExposure\n",
      "No      952\n",
      "Av      221\n",
      "Gd      134\n",
      "Mn      114\n",
      "None     38\n",
      "Name: count, dtype: int64\n",
      "BsmtExposure\n",
      "1.0    952\n",
      "3.0    221\n",
      "4.0    134\n",
      "2.0    114\n",
      "0.0     38\n",
      "Name: count, dtype: int64\n"
     ]
    }
   ],
   "source": [
    "##cat4 BsmtExposure\n",
    "cat4 = [\"None\", \"No\", \"Mn\", \"Av\", \"Gd\"]\n",
    "enc4 = OrdinalEncoder(categories = [cat4])\n",
    "\n",
    "train_hpp[\"BsmtExposure\"] = enc4.fit_transform(train_hpp[[\"BsmtExposure\"]])\n",
    "\n",
    "#check if it is right\n",
    "print(hpp_ordinal[\"BsmtExposure\"].value_counts())\n",
    "print(train_hpp[\"BsmtExposure\"].value_counts())"
   ]
  },
  {
   "cell_type": "code",
   "execution_count": 31,
   "id": "512d5898-ad81-4838-9ca2-e9a9e36a15cc",
   "metadata": {},
   "outputs": [
    {
     "name": "stdout",
     "output_type": "stream",
     "text": [
      "GarageFinish\n",
      "Unf     605\n",
      "RFn     422\n",
      "Fin     351\n",
      "None     81\n",
      "Name: count, dtype: int64\n",
      "GarageFinish\n",
      "1.0    605\n",
      "2.0    422\n",
      "3.0    351\n",
      "0.0     81\n",
      "Name: count, dtype: int64\n"
     ]
    }
   ],
   "source": [
    "##cat5 GarageFinish\n",
    "cat5 = [\"None\", \"Unf\", \"RFn\", \"Fin\"]\n",
    "enc5 = OrdinalEncoder(categories = [cat5])\n",
    "\n",
    "train_hpp[\"GarageFinish\"] = enc5.fit_transform(train_hpp[[\"GarageFinish\"]])\n",
    "\n",
    "#check if it is right\n",
    "print(hpp_ordinal[\"GarageFinish\"].value_counts())\n",
    "print(train_hpp[\"GarageFinish\"].value_counts())"
   ]
  },
  {
   "cell_type": "code",
   "execution_count": 32,
   "id": "987c36f0-0b81-43d7-842c-9fa7e198f87c",
   "metadata": {},
   "outputs": [
    {
     "name": "stdout",
     "output_type": "stream",
     "text": [
      "Fence\n",
      "None     1178\n",
      "MnPrv     157\n",
      "GdPrv      59\n",
      "GdWo       54\n",
      "MnWw       11\n",
      "Name: count, dtype: int64\n",
      "Fence\n",
      "0.0    1178\n",
      "3.0     157\n",
      "4.0      59\n",
      "2.0      54\n",
      "1.0      11\n",
      "Name: count, dtype: int64\n"
     ]
    }
   ],
   "source": [
    "##cat6 GarageFinish\n",
    "cat6 = [\"None\", \"MnWw\", \"GdWo\", \"MnPrv\", \"GdPrv\"]\n",
    "enc6 = OrdinalEncoder(categories = [cat6])\n",
    "\n",
    "train_hpp[\"Fence\"] = enc6.fit_transform(train_hpp[[\"Fence\"]])\n",
    "\n",
    "#check if it is right\n",
    "print(hpp_ordinal[\"Fence\"].value_counts())\n",
    "print(train_hpp[\"Fence\"].value_counts())"
   ]
  },
  {
   "cell_type": "code",
   "execution_count": 33,
   "id": "1a62f675-bab1-488e-a058-95314ae591db",
   "metadata": {},
   "outputs": [
    {
     "data": {
      "text/plain": [
       "Index([], dtype='object')"
      ]
     },
     "execution_count": 33,
     "metadata": {},
     "output_type": "execute_result"
    }
   ],
   "source": [
    "#see if all the features now have int or float data type \n",
    "cat = train_hpp.select_dtypes(include = \"O\").keys()\n",
    "cat"
   ]
  },
  {
   "cell_type": "markdown",
   "id": "c18aaab4-65a9-4cc9-9f19-e4a8eb1f92fd",
   "metadata": {},
   "source": [
    "## Handle the test dataset"
   ]
  },
  {
   "cell_type": "code",
   "execution_count": 35,
   "id": "2d7e89bc-1d37-402f-bfa7-20c5ab54f22d",
   "metadata": {},
   "outputs": [],
   "source": [
    "test_df1 = pd.read_csv (\"C:/Users/ZulkifliIndraGadingC/OneDrive/HTW/DL/Project/test.csv\")\n",
    "test_df2 = pd.read_csv (\"C:/Users/ZulkifliIndraGadingC/OneDrive/HTW/DL/Project/sample_submission.csv\")"
   ]
  },
  {
   "cell_type": "code",
   "execution_count": 36,
   "id": "49b304e7-3bbb-4f12-a63f-de6231ca51c7",
   "metadata": {},
   "outputs": [
    {
     "name": "stdout",
     "output_type": "stream",
     "text": [
      "<class 'pandas.core.frame.DataFrame'>\n",
      "RangeIndex: 1459 entries, 0 to 1458\n",
      "Data columns (total 81 columns):\n",
      " #   Column         Non-Null Count  Dtype  \n",
      "---  ------         --------------  -----  \n",
      " 0   Id             1459 non-null   int64  \n",
      " 1   MSSubClass     1459 non-null   int64  \n",
      " 2   MSZoning       1455 non-null   object \n",
      " 3   LotFrontage    1232 non-null   float64\n",
      " 4   LotArea        1459 non-null   int64  \n",
      " 5   Street         1459 non-null   object \n",
      " 6   Alley          107 non-null    object \n",
      " 7   LotShape       1459 non-null   object \n",
      " 8   LandContour    1459 non-null   object \n",
      " 9   Utilities      1457 non-null   object \n",
      " 10  LotConfig      1459 non-null   object \n",
      " 11  LandSlope      1459 non-null   object \n",
      " 12  Neighborhood   1459 non-null   object \n",
      " 13  Condition1     1459 non-null   object \n",
      " 14  Condition2     1459 non-null   object \n",
      " 15  BldgType       1459 non-null   object \n",
      " 16  HouseStyle     1459 non-null   object \n",
      " 17  OverallQual    1459 non-null   int64  \n",
      " 18  OverallCond    1459 non-null   int64  \n",
      " 19  YearBuilt      1459 non-null   int64  \n",
      " 20  YearRemodAdd   1459 non-null   int64  \n",
      " 21  RoofStyle      1459 non-null   object \n",
      " 22  RoofMatl       1459 non-null   object \n",
      " 23  Exterior1st    1458 non-null   object \n",
      " 24  Exterior2nd    1458 non-null   object \n",
      " 25  MasVnrType     565 non-null    object \n",
      " 26  MasVnrArea     1444 non-null   float64\n",
      " 27  ExterQual      1459 non-null   object \n",
      " 28  ExterCond      1459 non-null   object \n",
      " 29  Foundation     1459 non-null   object \n",
      " 30  BsmtQual       1415 non-null   object \n",
      " 31  BsmtCond       1414 non-null   object \n",
      " 32  BsmtExposure   1415 non-null   object \n",
      " 33  BsmtFinType1   1417 non-null   object \n",
      " 34  BsmtFinSF1     1458 non-null   float64\n",
      " 35  BsmtFinType2   1417 non-null   object \n",
      " 36  BsmtFinSF2     1458 non-null   float64\n",
      " 37  BsmtUnfSF      1458 non-null   float64\n",
      " 38  TotalBsmtSF    1458 non-null   float64\n",
      " 39  Heating        1459 non-null   object \n",
      " 40  HeatingQC      1459 non-null   object \n",
      " 41  CentralAir     1459 non-null   object \n",
      " 42  Electrical     1459 non-null   object \n",
      " 43  1stFlrSF       1459 non-null   int64  \n",
      " 44  2ndFlrSF       1459 non-null   int64  \n",
      " 45  LowQualFinSF   1459 non-null   int64  \n",
      " 46  GrLivArea      1459 non-null   int64  \n",
      " 47  BsmtFullBath   1457 non-null   float64\n",
      " 48  BsmtHalfBath   1457 non-null   float64\n",
      " 49  FullBath       1459 non-null   int64  \n",
      " 50  HalfBath       1459 non-null   int64  \n",
      " 51  BedroomAbvGr   1459 non-null   int64  \n",
      " 52  KitchenAbvGr   1459 non-null   int64  \n",
      " 53  KitchenQual    1458 non-null   object \n",
      " 54  TotRmsAbvGrd   1459 non-null   int64  \n",
      " 55  Functional     1457 non-null   object \n",
      " 56  Fireplaces     1459 non-null   int64  \n",
      " 57  FireplaceQu    729 non-null    object \n",
      " 58  GarageType     1383 non-null   object \n",
      " 59  GarageYrBlt    1381 non-null   float64\n",
      " 60  GarageFinish   1381 non-null   object \n",
      " 61  GarageCars     1458 non-null   float64\n",
      " 62  GarageArea     1458 non-null   float64\n",
      " 63  GarageQual     1381 non-null   object \n",
      " 64  GarageCond     1381 non-null   object \n",
      " 65  PavedDrive     1459 non-null   object \n",
      " 66  WoodDeckSF     1459 non-null   int64  \n",
      " 67  OpenPorchSF    1459 non-null   int64  \n",
      " 68  EnclosedPorch  1459 non-null   int64  \n",
      " 69  3SsnPorch      1459 non-null   int64  \n",
      " 70  ScreenPorch    1459 non-null   int64  \n",
      " 71  PoolArea       1459 non-null   int64  \n",
      " 72  PoolQC         3 non-null      object \n",
      " 73  Fence          290 non-null    object \n",
      " 74  MiscFeature    51 non-null     object \n",
      " 75  MiscVal        1459 non-null   int64  \n",
      " 76  MoSold         1459 non-null   int64  \n",
      " 77  YrSold         1459 non-null   int64  \n",
      " 78  SaleType       1458 non-null   object \n",
      " 79  SaleCondition  1459 non-null   object \n",
      " 80  SalePrice      1459 non-null   float64\n",
      "dtypes: float64(12), int64(26), object(43)\n",
      "memory usage: 923.4+ KB\n"
     ]
    }
   ],
   "source": [
    "test_hpp = pd.merge(test_df1, test_df2, on = \"Id\")\n",
    "test_hpp.info()"
   ]
  },
  {
   "cell_type": "code",
   "execution_count": 37,
   "id": "a0a94a4a-25a3-4f41-918a-d310d9048cf8",
   "metadata": {},
   "outputs": [
    {
     "data": {
      "text/html": [
       "<div>\n",
       "<style scoped>\n",
       "    .dataframe tbody tr th:only-of-type {\n",
       "        vertical-align: middle;\n",
       "    }\n",
       "\n",
       "    .dataframe tbody tr th {\n",
       "        vertical-align: top;\n",
       "    }\n",
       "\n",
       "    .dataframe thead th {\n",
       "        text-align: right;\n",
       "    }\n",
       "</style>\n",
       "<table border=\"1\" class=\"dataframe\">\n",
       "  <thead>\n",
       "    <tr style=\"text-align: right;\">\n",
       "      <th></th>\n",
       "      <th>Id</th>\n",
       "      <th>MSSubClass</th>\n",
       "      <th>MSZoning</th>\n",
       "      <th>LotFrontage</th>\n",
       "      <th>LotArea</th>\n",
       "      <th>Street</th>\n",
       "      <th>Alley</th>\n",
       "      <th>LotShape</th>\n",
       "      <th>LandContour</th>\n",
       "      <th>Utilities</th>\n",
       "      <th>...</th>\n",
       "      <th>PoolArea</th>\n",
       "      <th>PoolQC</th>\n",
       "      <th>Fence</th>\n",
       "      <th>MiscFeature</th>\n",
       "      <th>MiscVal</th>\n",
       "      <th>MoSold</th>\n",
       "      <th>YrSold</th>\n",
       "      <th>SaleType</th>\n",
       "      <th>SaleCondition</th>\n",
       "      <th>SalePrice</th>\n",
       "    </tr>\n",
       "  </thead>\n",
       "  <tbody>\n",
       "    <tr>\n",
       "      <th>0</th>\n",
       "      <td>1461</td>\n",
       "      <td>20</td>\n",
       "      <td>RH</td>\n",
       "      <td>80.0</td>\n",
       "      <td>11622</td>\n",
       "      <td>Pave</td>\n",
       "      <td>NaN</td>\n",
       "      <td>Reg</td>\n",
       "      <td>Lvl</td>\n",
       "      <td>AllPub</td>\n",
       "      <td>...</td>\n",
       "      <td>0</td>\n",
       "      <td>NaN</td>\n",
       "      <td>MnPrv</td>\n",
       "      <td>NaN</td>\n",
       "      <td>0</td>\n",
       "      <td>6</td>\n",
       "      <td>2010</td>\n",
       "      <td>WD</td>\n",
       "      <td>Normal</td>\n",
       "      <td>169277.052498</td>\n",
       "    </tr>\n",
       "    <tr>\n",
       "      <th>1</th>\n",
       "      <td>1462</td>\n",
       "      <td>20</td>\n",
       "      <td>RL</td>\n",
       "      <td>81.0</td>\n",
       "      <td>14267</td>\n",
       "      <td>Pave</td>\n",
       "      <td>NaN</td>\n",
       "      <td>IR1</td>\n",
       "      <td>Lvl</td>\n",
       "      <td>AllPub</td>\n",
       "      <td>...</td>\n",
       "      <td>0</td>\n",
       "      <td>NaN</td>\n",
       "      <td>NaN</td>\n",
       "      <td>Gar2</td>\n",
       "      <td>12500</td>\n",
       "      <td>6</td>\n",
       "      <td>2010</td>\n",
       "      <td>WD</td>\n",
       "      <td>Normal</td>\n",
       "      <td>187758.393989</td>\n",
       "    </tr>\n",
       "    <tr>\n",
       "      <th>2</th>\n",
       "      <td>1463</td>\n",
       "      <td>60</td>\n",
       "      <td>RL</td>\n",
       "      <td>74.0</td>\n",
       "      <td>13830</td>\n",
       "      <td>Pave</td>\n",
       "      <td>NaN</td>\n",
       "      <td>IR1</td>\n",
       "      <td>Lvl</td>\n",
       "      <td>AllPub</td>\n",
       "      <td>...</td>\n",
       "      <td>0</td>\n",
       "      <td>NaN</td>\n",
       "      <td>MnPrv</td>\n",
       "      <td>NaN</td>\n",
       "      <td>0</td>\n",
       "      <td>3</td>\n",
       "      <td>2010</td>\n",
       "      <td>WD</td>\n",
       "      <td>Normal</td>\n",
       "      <td>183583.683570</td>\n",
       "    </tr>\n",
       "    <tr>\n",
       "      <th>3</th>\n",
       "      <td>1464</td>\n",
       "      <td>60</td>\n",
       "      <td>RL</td>\n",
       "      <td>78.0</td>\n",
       "      <td>9978</td>\n",
       "      <td>Pave</td>\n",
       "      <td>NaN</td>\n",
       "      <td>IR1</td>\n",
       "      <td>Lvl</td>\n",
       "      <td>AllPub</td>\n",
       "      <td>...</td>\n",
       "      <td>0</td>\n",
       "      <td>NaN</td>\n",
       "      <td>NaN</td>\n",
       "      <td>NaN</td>\n",
       "      <td>0</td>\n",
       "      <td>6</td>\n",
       "      <td>2010</td>\n",
       "      <td>WD</td>\n",
       "      <td>Normal</td>\n",
       "      <td>179317.477511</td>\n",
       "    </tr>\n",
       "    <tr>\n",
       "      <th>4</th>\n",
       "      <td>1465</td>\n",
       "      <td>120</td>\n",
       "      <td>RL</td>\n",
       "      <td>43.0</td>\n",
       "      <td>5005</td>\n",
       "      <td>Pave</td>\n",
       "      <td>NaN</td>\n",
       "      <td>IR1</td>\n",
       "      <td>HLS</td>\n",
       "      <td>AllPub</td>\n",
       "      <td>...</td>\n",
       "      <td>0</td>\n",
       "      <td>NaN</td>\n",
       "      <td>NaN</td>\n",
       "      <td>NaN</td>\n",
       "      <td>0</td>\n",
       "      <td>1</td>\n",
       "      <td>2010</td>\n",
       "      <td>WD</td>\n",
       "      <td>Normal</td>\n",
       "      <td>150730.079977</td>\n",
       "    </tr>\n",
       "  </tbody>\n",
       "</table>\n",
       "<p>5 rows × 81 columns</p>\n",
       "</div>"
      ],
      "text/plain": [
       "     Id  MSSubClass MSZoning  LotFrontage  LotArea Street Alley LotShape  \\\n",
       "0  1461          20       RH         80.0    11622   Pave   NaN      Reg   \n",
       "1  1462          20       RL         81.0    14267   Pave   NaN      IR1   \n",
       "2  1463          60       RL         74.0    13830   Pave   NaN      IR1   \n",
       "3  1464          60       RL         78.0     9978   Pave   NaN      IR1   \n",
       "4  1465         120       RL         43.0     5005   Pave   NaN      IR1   \n",
       "\n",
       "  LandContour Utilities  ... PoolArea PoolQC  Fence MiscFeature MiscVal  \\\n",
       "0         Lvl    AllPub  ...        0    NaN  MnPrv         NaN       0   \n",
       "1         Lvl    AllPub  ...        0    NaN    NaN        Gar2   12500   \n",
       "2         Lvl    AllPub  ...        0    NaN  MnPrv         NaN       0   \n",
       "3         Lvl    AllPub  ...        0    NaN    NaN         NaN       0   \n",
       "4         HLS    AllPub  ...        0    NaN    NaN         NaN       0   \n",
       "\n",
       "  MoSold YrSold  SaleType  SaleCondition      SalePrice  \n",
       "0      6   2010        WD         Normal  169277.052498  \n",
       "1      6   2010        WD         Normal  187758.393989  \n",
       "2      3   2010        WD         Normal  183583.683570  \n",
       "3      6   2010        WD         Normal  179317.477511  \n",
       "4      1   2010        WD         Normal  150730.079977  \n",
       "\n",
       "[5 rows x 81 columns]"
      ]
     },
     "execution_count": 37,
     "metadata": {},
     "output_type": "execute_result"
    }
   ],
   "source": [
    "test_hpp.head()"
   ]
  },
  {
   "cell_type": "code",
   "execution_count": 38,
   "id": "5adaa5ea-07ba-4c10-ab0a-f3c3c2ded4d6",
   "metadata": {},
   "outputs": [
    {
     "data": {
      "text/plain": [
       "PoolQC          1456\n",
       "MiscFeature     1408\n",
       "Alley           1352\n",
       "Fence           1169\n",
       "MasVnrType       894\n",
       "FireplaceQu      730\n",
       "LotFrontage      227\n",
       "GarageCond        78\n",
       "GarageYrBlt       78\n",
       "GarageFinish      78\n",
       "GarageQual        78\n",
       "GarageType        76\n",
       "BsmtCond          45\n",
       "BsmtExposure      44\n",
       "BsmtQual          44\n",
       "BsmtFinType2      42\n",
       "BsmtFinType1      42\n",
       "MasVnrArea        15\n",
       "MSZoning           4\n",
       "BsmtFullBath       2\n",
       "Functional         2\n",
       "BsmtHalfBath       2\n",
       "Utilities          2\n",
       "KitchenQual        1\n",
       "TotalBsmtSF        1\n",
       "GarageCars         1\n",
       "GarageArea         1\n",
       "BsmtUnfSF          1\n",
       "BsmtFinSF1         1\n",
       "Exterior2nd        1\n",
       "Exterior1st        1\n",
       "SaleType           1\n",
       "dtype: int64"
      ]
     },
     "execution_count": 38,
     "metadata": {},
     "output_type": "execute_result"
    }
   ],
   "source": [
    "#Drop column that have been dropped in train dataset\n",
    "test_hpp = test_hpp.drop(columns = [\"BsmtFinSF2\", \"LowQualFinSF\", \"EnclosedPorch\", \"3SsnPorch\",\n",
    "                                    \"ScreenPorch\", \"PoolArea\", \"MiscVal\"])\n",
    "\n",
    "#\"PoolQC\", \"MiscFeature\", \"Alley\", \"Fence\"\n",
    "#Check Nan\n",
    "test_hpp.isna().sum()[test_hpp.isna().sum() > 0].sort_values(ascending = False)\n"
   ]
  },
  {
   "cell_type": "code",
   "execution_count": 39,
   "id": "1676009f-b4fa-4c54-8aae-cb30ffcce874",
   "metadata": {},
   "outputs": [],
   "source": [
    "#Drop Na Value < 79\n",
    "test_hpp.dropna(subset = [\"GarageYrBlt\"], inplace = True)\n",
    "test_hpp.dropna(subset = [\"BsmtCond\"], inplace = True)\n",
    "test_hpp.dropna(subset = [\"MasVnrArea\"], inplace = True)\n",
    "test_hpp.dropna(subset = [\"BsmtQual\"], inplace = True)\n",
    "test_hpp.dropna(subset = [\"BsmtExposure\"], inplace = True)\n",
    "test_hpp.dropna(subset = [\"MSZoning\"], inplace = True)\n",
    "\n",
    "droptest = [\"Utilities\", \"KitchenQual\", \"Functional\", \"SaleType\"]\n",
    "test_hpp.dropna(subset = droptest, inplace = True) "
   ]
  },
  {
   "cell_type": "code",
   "execution_count": 40,
   "id": "c03fd7c5-1351-4120-9f5b-bc7718fa21b6",
   "metadata": {},
   "outputs": [
    {
     "data": {
      "text/plain": [
       "PoolQC         1317\n",
       "MiscFeature    1276\n",
       "Alley          1228\n",
       "Fence          1051\n",
       "MasVnrType      771\n",
       "FireplaceQu     623\n",
       "LotFrontage     211\n",
       "dtype: int64"
      ]
     },
     "execution_count": 40,
     "metadata": {},
     "output_type": "execute_result"
    }
   ],
   "source": [
    "test_hpp.isna().sum()[test_hpp.isna().sum() > 0].sort_values(ascending = False)"
   ]
  },
  {
   "cell_type": "code",
   "execution_count": 41,
   "id": "4df3f1f2-aa95-4530-bf7f-50605d0f2d4c",
   "metadata": {},
   "outputs": [
    {
     "data": {
      "text/plain": [
       "Series([], dtype: int64)"
      ]
     },
     "execution_count": 41,
     "metadata": {},
     "output_type": "execute_result"
    }
   ],
   "source": [
    "# Impute the LotFrontage with median and the others two columns with None\n",
    "test_hpp[\"LotFrontage\"] = test_hpp[\"LotFrontage\"].fillna(test_hpp[\"LotFrontage\"].median())\n",
    "\n",
    "None_Val = [\"PoolQC\", \"MiscFeature\", \"Alley\", \"Fence\", \"MasVnrType\", \"FireplaceQu\"]\n",
    "test_hpp[None_Val] = test_hpp[None_Val].fillna(value = \"None\", inplace = False)\n",
    "\n",
    "#check NA\n",
    "test_hpp.isna().sum()[test_hpp.isna().sum() > 0].sort_values(ascending = False)"
   ]
  },
  {
   "cell_type": "markdown",
   "id": "79fac055-0d29-4163-934e-6954bb25943c",
   "metadata": {},
   "source": [
    "### Encoding test dataset"
   ]
  },
  {
   "cell_type": "code",
   "execution_count": 42,
   "id": "79638934-bc31-4192-bc6e-b7e1a13e0162",
   "metadata": {},
   "outputs": [
    {
     "data": {
      "text/plain": [
       "43"
      ]
     },
     "execution_count": 42,
     "metadata": {},
     "output_type": "execute_result"
    }
   ],
   "source": [
    "## Encoding ##\n",
    "\n",
    "cat_test = test_hpp.select_dtypes(include = \"O\").keys()\n",
    "len(cat_test)"
   ]
  },
  {
   "cell_type": "code",
   "execution_count": 43,
   "id": "687ac83c-8d50-4dcd-b4c5-8980b8d64ef7",
   "metadata": {},
   "outputs": [
    {
     "data": {
      "text/plain": [
       "29"
      ]
     },
     "execution_count": 43,
     "metadata": {},
     "output_type": "execute_result"
    }
   ],
   "source": [
    "cat_non_ordinal = [\"MSSubClass\", \"MSZoning\", \"Street\", \"LotShape\", \"LandContour\", \"Utilities\",\n",
    "                   \"LotConfig\", \"LandSlope\",\"Neighborhood\", \"Condition1\", \"Condition2\", \"BldgType\",\n",
    "                   \"HouseStyle\", \"RoofStyle\", \"RoofMatl\", \"Exterior1st\", \"Exterior2nd\", \"Alley\",\n",
    "                   \"MasVnrType\", \"Foundation\", \"Heating\", \"CentralAir\", \"Electrical\", \"Functional\",\n",
    "                   \"GarageType\", \"PavedDrive\", \"SaleType\", \"SaleCondition\", \"MiscFeature\"]#, \"Fence\"]\n",
    "\n",
    "len(cat_non_ordinal)"
   ]
  },
  {
   "cell_type": "code",
   "execution_count": 44,
   "id": "4d529183-9f11-4185-aa42-d7e2cec7aeaa",
   "metadata": {},
   "outputs": [],
   "source": [
    "#later to check if code is right\n",
    "hpp_non_ordinal_test = test_hpp[cat_non_ordinal]"
   ]
  },
  {
   "cell_type": "code",
   "execution_count": 45,
   "id": "6a2741a2-448c-4b78-936d-952970cd7bd8",
   "metadata": {},
   "outputs": [
    {
     "name": "stdout",
     "output_type": "stream",
     "text": [
      "<class 'pandas.core.frame.DataFrame'>\n",
      "Index: 1320 entries, 0 to 1458\n",
      "Data columns (total 29 columns):\n",
      " #   Column         Non-Null Count  Dtype \n",
      "---  ------         --------------  ----- \n",
      " 0   MSSubClass     1320 non-null   int64 \n",
      " 1   MSZoning       1320 non-null   object\n",
      " 2   Street         1320 non-null   object\n",
      " 3   LotShape       1320 non-null   object\n",
      " 4   LandContour    1320 non-null   object\n",
      " 5   Utilities      1320 non-null   object\n",
      " 6   LotConfig      1320 non-null   object\n",
      " 7   LandSlope      1320 non-null   object\n",
      " 8   Neighborhood   1320 non-null   object\n",
      " 9   Condition1     1320 non-null   object\n",
      " 10  Condition2     1320 non-null   object\n",
      " 11  BldgType       1320 non-null   object\n",
      " 12  HouseStyle     1320 non-null   object\n",
      " 13  RoofStyle      1320 non-null   object\n",
      " 14  RoofMatl       1320 non-null   object\n",
      " 15  Exterior1st    1320 non-null   object\n",
      " 16  Exterior2nd    1320 non-null   object\n",
      " 17  Alley          1320 non-null   object\n",
      " 18  MasVnrType     1320 non-null   object\n",
      " 19  Foundation     1320 non-null   object\n",
      " 20  Heating        1320 non-null   object\n",
      " 21  CentralAir     1320 non-null   object\n",
      " 22  Electrical     1320 non-null   object\n",
      " 23  Functional     1320 non-null   object\n",
      " 24  GarageType     1320 non-null   object\n",
      " 25  PavedDrive     1320 non-null   object\n",
      " 26  SaleType       1320 non-null   object\n",
      " 27  SaleCondition  1320 non-null   object\n",
      " 28  MiscFeature    1320 non-null   object\n",
      "dtypes: int64(1), object(28)\n",
      "memory usage: 309.4+ KB\n"
     ]
    }
   ],
   "source": [
    "test_hpp[cat_non_ordinal].info()"
   ]
  },
  {
   "cell_type": "code",
   "execution_count": 46,
   "id": "21dd7245-3d46-4f65-b466-cbf7d02e1eab",
   "metadata": {},
   "outputs": [
    {
     "name": "stdout",
     "output_type": "stream",
     "text": [
      "MSSubClass\n",
      "0     502\n",
      "5     267\n",
      "4     127\n",
      "11     94\n",
      "13     59\n",
      "6      59\n",
      "8      57\n",
      "1      55\n",
      "10     32\n",
      "9      25\n",
      "15     21\n",
      "7       7\n",
      "3       6\n",
      "14      6\n",
      "2       2\n",
      "12      1\n",
      "Name: count, dtype: int64\n",
      "MSSubClass\n",
      "20     502\n",
      "60     267\n",
      "50     127\n",
      "120     94\n",
      "160     59\n",
      "70      59\n",
      "80      57\n",
      "30      55\n",
      "90      32\n",
      "85      25\n",
      "190     21\n",
      "75       7\n",
      "45       6\n",
      "180      6\n",
      "40       2\n",
      "150      1\n",
      "Name: count, dtype: int64\n",
      "MSZoning\n",
      "3    1032\n",
      "4     205\n",
      "1      69\n",
      "2       9\n",
      "0       5\n",
      "Name: count, dtype: int64\n",
      "MSZoning\n",
      "RL         1032\n",
      "RM          205\n",
      "FV           69\n",
      "RH            9\n",
      "C (all)       5\n",
      "Name: count, dtype: int64\n",
      "Street\n",
      "1    1316\n",
      "0       4\n",
      "Name: count, dtype: int64\n",
      "Street\n",
      "Pave    1316\n",
      "Grvl       4\n",
      "Name: count, dtype: int64\n",
      "LotShape\n",
      "3    821\n",
      "0    461\n",
      "1     33\n",
      "2      5\n",
      "Name: count, dtype: int64\n",
      "LotShape\n",
      "Reg    821\n",
      "IR1    461\n",
      "IR2     33\n",
      "IR3      5\n",
      "Name: count, dtype: int64\n"
     ]
    }
   ],
   "source": [
    "label_encoder = LabelEncoder()\n",
    "\n",
    "#LabelEncoder for all non ordinal category columns\n",
    "for col in cat_non_ordinal:\n",
    "    test_hpp[col] = label_encoder.fit_transform(test_hpp[col])\n",
    "\n",
    "#check\n",
    "print(test_hpp.MSSubClass.value_counts())\n",
    "print(hpp_non_ordinal_test.MSSubClass.value_counts())\n",
    "\n",
    "print(test_hpp.MSZoning.value_counts())\n",
    "print(hpp_non_ordinal_test.MSZoning.value_counts())\n",
    "\n",
    "print(test_hpp.Street.value_counts())\n",
    "print(hpp_non_ordinal_test.Street.value_counts())\n",
    "\n",
    "print(test_hpp.LotShape.value_counts())\n",
    "print(hpp_non_ordinal_test.LotShape.value_counts())"
   ]
  },
  {
   "cell_type": "code",
   "execution_count": 47,
   "id": "49839bc8-473d-40ec-90a4-65698aed5a7c",
   "metadata": {},
   "outputs": [],
   "source": [
    "#ordinal columns\n",
    "hpp_ordinal_test = test_hpp[[\"ExterQual\", \"ExterCond\", \"BsmtQual\", \"BsmtCond\",\n",
    "                        \"BsmtExposure\", \"BsmtFinType1\", \"BsmtFinType2\", \"HeatingQC\",\n",
    "                        \"KitchenQual\", \"FireplaceQu\", \"GarageFinish\", \"GarageQual\",\n",
    "                        \"GarageCond\", \"PoolQC\", \"Fence\"]]"
   ]
  },
  {
   "cell_type": "code",
   "execution_count": 48,
   "id": "5ea214f0-cf28-459f-8285-dd96356632e7",
   "metadata": {},
   "outputs": [
    {
     "name": "stdout",
     "output_type": "stream",
     "text": [
      "    ExterQual  ExterCond  HeatingQC  KitchenQual\n",
      "Ex       54.0          8        704         99.0\n",
      "Fa        9.0         26         31         23.0\n",
      "Gd      467.0        140        213        534.0\n",
      "Po        NaN          1          1          NaN\n",
      "TA      790.0       1145        371        664.0\n",
      "     ExterQual  ExterCond  HeatingQC  KitchenQual\n",
      "0.0        NaN          1          1          NaN\n",
      "1.0        9.0         26         31         23.0\n",
      "2.0      790.0       1145        371        664.0\n",
      "3.0      467.0        140        213        534.0\n",
      "4.0       54.0          8        704         99.0\n"
     ]
    },
    {
     "name": "stderr",
     "output_type": "stream",
     "text": [
      "C:\\Users\\ZulkifliIndraGadingC\\AppData\\Local\\Temp\\ipykernel_12248\\4213809270.py:12: FutureWarning: pandas.value_counts is deprecated and will be removed in a future version. Use pd.Series(obj).value_counts() instead.\n",
      "  print(hpp_ordinal_test[ord_cat1].apply(pd.value_counts))\n",
      "C:\\Users\\ZulkifliIndraGadingC\\AppData\\Local\\Temp\\ipykernel_12248\\4213809270.py:12: FutureWarning: pandas.value_counts is deprecated and will be removed in a future version. Use pd.Series(obj).value_counts() instead.\n",
      "  print(hpp_ordinal_test[ord_cat1].apply(pd.value_counts))\n",
      "C:\\Users\\ZulkifliIndraGadingC\\AppData\\Local\\Temp\\ipykernel_12248\\4213809270.py:12: FutureWarning: pandas.value_counts is deprecated and will be removed in a future version. Use pd.Series(obj).value_counts() instead.\n",
      "  print(hpp_ordinal_test[ord_cat1].apply(pd.value_counts))\n",
      "C:\\Users\\ZulkifliIndraGadingC\\AppData\\Local\\Temp\\ipykernel_12248\\4213809270.py:12: FutureWarning: pandas.value_counts is deprecated and will be removed in a future version. Use pd.Series(obj).value_counts() instead.\n",
      "  print(hpp_ordinal_test[ord_cat1].apply(pd.value_counts))\n",
      "C:\\Users\\ZulkifliIndraGadingC\\AppData\\Local\\Temp\\ipykernel_12248\\4213809270.py:13: FutureWarning: pandas.value_counts is deprecated and will be removed in a future version. Use pd.Series(obj).value_counts() instead.\n",
      "  print(test_hpp[ord_cat1].apply(pd.value_counts))\n"
     ]
    }
   ],
   "source": [
    "##cat1\n",
    "cat1 = [\"Po\", \"Fa\", \"TA\", \"Gd\", \"Ex\"]\n",
    "enc1 = OrdinalEncoder(categories = [cat1])\n",
    "\n",
    "ord_cat1 = [\"ExterQual\", \"ExterCond\", \"HeatingQC\", \"KitchenQual\"]\n",
    "\n",
    "for col in ord_cat1:\n",
    "    reshaped_data = test_hpp[col].values.reshape(-1, 1)\n",
    "    test_hpp[col] = enc1.fit_transform(reshaped_data)\n",
    "\n",
    "#check if it is right\n",
    "print(hpp_ordinal_test[ord_cat1].apply(pd.value_counts))\n",
    "print(test_hpp[ord_cat1].apply(pd.value_counts))"
   ]
  },
  {
   "cell_type": "code",
   "execution_count": 49,
   "id": "70f18c2e-8bcf-4de8-87ec-b73509f35fe1",
   "metadata": {},
   "outputs": [
    {
     "name": "stdout",
     "output_type": "stream",
     "text": [
      "      BsmtQual  BsmtCond  FireplaceQu  GarageQual  GarageCond  PoolQC\n",
      "Ex       131.0       NaN           18         NaN         1.0     2.0\n",
      "Fa        42.0      46.0           40        68.0        32.0     NaN\n",
      "Gd       561.0      53.0          344        10.0         5.0     1.0\n",
      "None       NaN       NaN          623         NaN         NaN  1317.0\n",
      "Po         NaN       1.0           25         1.0         6.0     NaN\n",
      "TA       586.0    1220.0          270      1241.0      1276.0     NaN\n",
      "     BsmtQual  BsmtCond  FireplaceQu  GarageQual  GarageCond  PoolQC\n",
      "0.0       NaN       NaN          623         NaN         NaN  1317.0\n",
      "1.0       NaN       1.0           25         1.0         6.0     NaN\n",
      "2.0      42.0      46.0           40        68.0        32.0     NaN\n",
      "3.0     586.0    1220.0          270      1241.0      1276.0     NaN\n",
      "4.0     561.0      53.0          344        10.0         5.0     1.0\n",
      "5.0     131.0       NaN           18         NaN         1.0     2.0\n"
     ]
    },
    {
     "name": "stderr",
     "output_type": "stream",
     "text": [
      "C:\\Users\\ZulkifliIndraGadingC\\AppData\\Local\\Temp\\ipykernel_12248\\107549150.py:12: FutureWarning: pandas.value_counts is deprecated and will be removed in a future version. Use pd.Series(obj).value_counts() instead.\n",
      "  print(hpp_ordinal_test[ord_cat2].apply(pd.value_counts))\n",
      "C:\\Users\\ZulkifliIndraGadingC\\AppData\\Local\\Temp\\ipykernel_12248\\107549150.py:12: FutureWarning: pandas.value_counts is deprecated and will be removed in a future version. Use pd.Series(obj).value_counts() instead.\n",
      "  print(hpp_ordinal_test[ord_cat2].apply(pd.value_counts))\n",
      "C:\\Users\\ZulkifliIndraGadingC\\AppData\\Local\\Temp\\ipykernel_12248\\107549150.py:12: FutureWarning: pandas.value_counts is deprecated and will be removed in a future version. Use pd.Series(obj).value_counts() instead.\n",
      "  print(hpp_ordinal_test[ord_cat2].apply(pd.value_counts))\n",
      "C:\\Users\\ZulkifliIndraGadingC\\AppData\\Local\\Temp\\ipykernel_12248\\107549150.py:12: FutureWarning: pandas.value_counts is deprecated and will be removed in a future version. Use pd.Series(obj).value_counts() instead.\n",
      "  print(hpp_ordinal_test[ord_cat2].apply(pd.value_counts))\n",
      "C:\\Users\\ZulkifliIndraGadingC\\AppData\\Local\\Temp\\ipykernel_12248\\107549150.py:12: FutureWarning: pandas.value_counts is deprecated and will be removed in a future version. Use pd.Series(obj).value_counts() instead.\n",
      "  print(hpp_ordinal_test[ord_cat2].apply(pd.value_counts))\n",
      "C:\\Users\\ZulkifliIndraGadingC\\AppData\\Local\\Temp\\ipykernel_12248\\107549150.py:12: FutureWarning: pandas.value_counts is deprecated and will be removed in a future version. Use pd.Series(obj).value_counts() instead.\n",
      "  print(hpp_ordinal_test[ord_cat2].apply(pd.value_counts))\n",
      "C:\\Users\\ZulkifliIndraGadingC\\AppData\\Local\\Temp\\ipykernel_12248\\107549150.py:13: FutureWarning: pandas.value_counts is deprecated and will be removed in a future version. Use pd.Series(obj).value_counts() instead.\n",
      "  print(test_hpp[ord_cat2].apply(pd.value_counts))\n"
     ]
    }
   ],
   "source": [
    "##cat2\n",
    "cat2 = [\"None\", \"Po\", \"Fa\", \"TA\", \"Gd\", \"Ex\"]\n",
    "enc2 = OrdinalEncoder(categories = [cat2])\n",
    "\n",
    "ord_cat2 = [\"BsmtQual\", \"BsmtCond\", \"FireplaceQu\", \"GarageQual\", \"GarageCond\", \"PoolQC\"]\n",
    "\n",
    "for col in ord_cat2:\n",
    "    reshaped_data = test_hpp[col].values.reshape(-1, 1)\n",
    "    test_hpp[col] = enc2.fit_transform(reshaped_data)\n",
    "\n",
    "#check if it is right\n",
    "print(hpp_ordinal_test[ord_cat2].apply(pd.value_counts))\n",
    "print(test_hpp[ord_cat2].apply(pd.value_counts))"
   ]
  },
  {
   "cell_type": "code",
   "execution_count": 50,
   "id": "70e4fdc8-ae8a-4e0a-9aa4-8953a58fd2c1",
   "metadata": {},
   "outputs": [
    {
     "name": "stdout",
     "output_type": "stream",
     "text": [
      "     BsmtFinType1  BsmtFinType2\n",
      "ALQ           201            32\n",
      "BLQ           117            34\n",
      "GLQ           414            20\n",
      "LwQ            78            41\n",
      "Rec           149            49\n",
      "Unf           361          1144\n",
      "     BsmtFinType1  BsmtFinType2\n",
      "1.0           361          1144\n",
      "2.0            78            41\n",
      "3.0           149            49\n",
      "4.0           117            34\n",
      "5.0           201            32\n",
      "6.0           414            20\n"
     ]
    },
    {
     "name": "stderr",
     "output_type": "stream",
     "text": [
      "C:\\Users\\ZulkifliIndraGadingC\\AppData\\Local\\Temp\\ipykernel_12248\\2921730565.py:12: FutureWarning: pandas.value_counts is deprecated and will be removed in a future version. Use pd.Series(obj).value_counts() instead.\n",
      "  print(hpp_ordinal_test[ord_cat3].apply(pd.value_counts))\n",
      "C:\\Users\\ZulkifliIndraGadingC\\AppData\\Local\\Temp\\ipykernel_12248\\2921730565.py:12: FutureWarning: pandas.value_counts is deprecated and will be removed in a future version. Use pd.Series(obj).value_counts() instead.\n",
      "  print(hpp_ordinal_test[ord_cat3].apply(pd.value_counts))\n",
      "C:\\Users\\ZulkifliIndraGadingC\\AppData\\Local\\Temp\\ipykernel_12248\\2921730565.py:13: FutureWarning: pandas.value_counts is deprecated and will be removed in a future version. Use pd.Series(obj).value_counts() instead.\n",
      "  print(test_hpp[ord_cat3].apply(pd.value_counts))\n"
     ]
    }
   ],
   "source": [
    "##cat3\n",
    "cat3 = [\"None\", \"Unf\", \"LwQ\", \"Rec\", \"BLQ\", \"ALQ\", \"GLQ\"]\n",
    "enc3 = OrdinalEncoder(categories = [cat3])\n",
    "\n",
    "ord_cat3 = [\"BsmtFinType1\", \"BsmtFinType2\"]\n",
    "\n",
    "for col in ord_cat3:\n",
    "    reshaped_data = test_hpp[col].values.reshape(-1, 1)\n",
    "    test_hpp[col] = enc3.fit_transform(reshaped_data)\n",
    "\n",
    "#check if it is right\n",
    "print(hpp_ordinal_test[ord_cat3].apply(pd.value_counts))\n",
    "print(test_hpp[ord_cat3].apply(pd.value_counts))"
   ]
  },
  {
   "cell_type": "code",
   "execution_count": 51,
   "id": "bba2e7a8-c1c3-48e7-882b-978187a5f660",
   "metadata": {},
   "outputs": [
    {
     "name": "stdout",
     "output_type": "stream",
     "text": [
      "BsmtExposure\n",
      "No    880\n",
      "Av    183\n",
      "Gd    139\n",
      "Mn    118\n",
      "Name: count, dtype: int64\n",
      "BsmtExposure\n",
      "1.0    880\n",
      "3.0    183\n",
      "4.0    139\n",
      "2.0    118\n",
      "Name: count, dtype: int64\n"
     ]
    }
   ],
   "source": [
    "##cat4 BsmtExposure\n",
    "cat4 = [\"None\", \"No\", \"Mn\", \"Av\", \"Gd\"]\n",
    "enc4 = OrdinalEncoder(categories = [cat4])\n",
    "\n",
    "test_hpp[\"BsmtExposure\"] = enc4.fit_transform(test_hpp[[\"BsmtExposure\"]])\n",
    "\n",
    "#check if it is right\n",
    "print(hpp_ordinal_test[\"BsmtExposure\"].value_counts())\n",
    "print(test_hpp[\"BsmtExposure\"].value_counts())"
   ]
  },
  {
   "cell_type": "code",
   "execution_count": 52,
   "id": "aafab47b-639e-486a-8e39-2c66faedc411",
   "metadata": {},
   "outputs": [
    {
     "name": "stdout",
     "output_type": "stream",
     "text": [
      "GarageFinish\n",
      "Unf    589\n",
      "RFn    377\n",
      "Fin    354\n",
      "Name: count, dtype: int64\n",
      "GarageFinish\n",
      "1.0    589\n",
      "2.0    377\n",
      "3.0    354\n",
      "Name: count, dtype: int64\n"
     ]
    }
   ],
   "source": [
    "##cat5 GarageFinish\n",
    "cat5 = [\"None\", \"Unf\", \"RFn\", \"Fin\"]\n",
    "enc5 = OrdinalEncoder(categories = [cat5])\n",
    "\n",
    "test_hpp[\"GarageFinish\"] = enc5.fit_transform(test_hpp[[\"GarageFinish\"]])\n",
    "\n",
    "#check if it is right\n",
    "print(hpp_ordinal_test[\"GarageFinish\"].value_counts())\n",
    "print(test_hpp[\"GarageFinish\"].value_counts())"
   ]
  },
  {
   "cell_type": "code",
   "execution_count": 53,
   "id": "c2681d1b-cb02-4fed-8473-73b406684fe7",
   "metadata": {},
   "outputs": [
    {
     "name": "stdout",
     "output_type": "stream",
     "text": [
      "Fence\n",
      "None     1051\n",
      "MnPrv     161\n",
      "GdPrv      55\n",
      "GdWo       52\n",
      "MnWw        1\n",
      "Name: count, dtype: int64\n",
      "Fence\n",
      "0.0    1051\n",
      "3.0     161\n",
      "4.0      55\n",
      "2.0      52\n",
      "1.0       1\n",
      "Name: count, dtype: int64\n"
     ]
    }
   ],
   "source": [
    "##cat6 Fence\n",
    "cat6 = [\"None\", \"MnWw\", \"GdWo\", \"MnPrv\", \"GdPrv\"]\n",
    "enc6 = OrdinalEncoder(categories = [cat6])\n",
    "\n",
    "test_hpp[\"Fence\"] = enc6.fit_transform(test_hpp[[\"Fence\"]])\n",
    "\n",
    "#check if it is right\n",
    "print(hpp_ordinal_test[\"Fence\"].value_counts())\n",
    "print(test_hpp[\"Fence\"].value_counts())"
   ]
  },
  {
   "cell_type": "markdown",
   "id": "ee74fe85-40a1-4a76-8e5e-5ed072357b32",
   "metadata": {},
   "source": [
    "## Neural Network Model"
   ]
  },
  {
   "cell_type": "code",
   "execution_count": 55,
   "id": "174a660f-68fe-4c11-9d01-61ef0dadf248",
   "metadata": {},
   "outputs": [
    {
     "name": "stdout",
     "output_type": "stream",
     "text": [
      "WARNING:tensorflow:From C:\\Users\\ZulkifliIndraGadingC\\anaconda3\\lib\\site-packages\\keras\\src\\losses.py:2976: The name tf.losses.sparse_softmax_cross_entropy is deprecated. Please use tf.compat.v1.losses.sparse_softmax_cross_entropy instead.\n",
      "\n"
     ]
    }
   ],
   "source": [
    "from sklearn.preprocessing import MinMaxScaler\n",
    "from sklearn import linear_model\n",
    "from sklearn.linear_model import Ridge\n",
    "from sklearn.linear_model import Lasso\n",
    "from keras.models import Sequential\n",
    "from keras import regularizers\n",
    "from keras.layers import Dense\n",
    "from keras.optimizers import Adam"
   ]
  },
  {
   "cell_type": "code",
   "execution_count": 56,
   "id": "4db3d3c2-5c0c-42c7-a93d-abab58665c9f",
   "metadata": {},
   "outputs": [],
   "source": [
    "X_train = train_hpp.drop(columns = [\"Id\", \"SalePrice\"], axis = 1)\n",
    "#X_train = X_train.astype(float)\n",
    "y_train = train_hpp['SalePrice']\n",
    "#y_train = y_train.astype(float)"
   ]
  },
  {
   "cell_type": "code",
   "execution_count": 57,
   "id": "68384982-312d-4bee-85bb-9d489ca5c982",
   "metadata": {},
   "outputs": [],
   "source": [
    "X_test = test_hpp.drop(columns = [\"Id\", \"SalePrice\"], axis = 1)\n",
    "#X_test = X_test.astype(float)\n",
    "y_test = test_hpp[\"SalePrice\"]"
   ]
  },
  {
   "cell_type": "code",
   "execution_count": 58,
   "id": "30d02fac-f5e3-4cb2-ae31-b3968f56f9c4",
   "metadata": {
    "scrolled": true
   },
   "outputs": [
    {
     "name": "stdout",
     "output_type": "stream",
     "text": [
      "WARNING:tensorflow:From C:\\Users\\ZulkifliIndraGadingC\\anaconda3\\lib\\site-packages\\keras\\src\\backend.py:873: The name tf.get_default_graph is deprecated. Please use tf.compat.v1.get_default_graph instead.\n",
      "\n",
      "WARNING:tensorflow:From C:\\Users\\ZulkifliIndraGadingC\\anaconda3\\lib\\site-packages\\keras\\src\\optimizers\\__init__.py:309: The name tf.train.Optimizer is deprecated. Please use tf.compat.v1.train.Optimizer instead.\n",
      "\n",
      "Epoch 1/25\n",
      "WARNING:tensorflow:From C:\\Users\\ZulkifliIndraGadingC\\anaconda3\\lib\\site-packages\\keras\\src\\utils\\tf_utils.py:492: The name tf.ragged.RaggedTensorValue is deprecated. Please use tf.compat.v1.ragged.RaggedTensorValue instead.\n",
      "\n",
      "46/46 [==============================] - 1s 2ms/step - loss: 34962604032.0000\n",
      "Epoch 2/25\n",
      "46/46 [==============================] - 0s 2ms/step - loss: 18937956352.0000\n",
      "Epoch 3/25\n",
      "46/46 [==============================] - 0s 2ms/step - loss: 4716284416.0000\n",
      "Epoch 4/25\n",
      "46/46 [==============================] - 0s 2ms/step - loss: 4045540864.0000\n",
      "Epoch 5/25\n",
      "46/46 [==============================] - 0s 3ms/step - loss: 3911441920.0000\n",
      "Epoch 6/25\n",
      "46/46 [==============================] - 0s 3ms/step - loss: 3761192960.0000\n",
      "Epoch 7/25\n",
      "46/46 [==============================] - 0s 3ms/step - loss: 3607258368.0000\n",
      "Epoch 8/25\n",
      "46/46 [==============================] - 0s 3ms/step - loss: 3423108096.0000\n",
      "Epoch 9/25\n",
      "46/46 [==============================] - 0s 2ms/step - loss: 3229111808.0000\n",
      "Epoch 10/25\n",
      "46/46 [==============================] - 0s 2ms/step - loss: 3011698944.0000\n",
      "Epoch 11/25\n",
      "46/46 [==============================] - 0s 2ms/step - loss: 2802041344.0000\n",
      "Epoch 12/25\n",
      "46/46 [==============================] - 0s 2ms/step - loss: 2579221248.0000\n",
      "Epoch 13/25\n",
      "46/46 [==============================] - 0s 2ms/step - loss: 2381913344.0000\n",
      "Epoch 14/25\n",
      "46/46 [==============================] - 0s 2ms/step - loss: 2199570432.0000\n",
      "Epoch 15/25\n",
      "46/46 [==============================] - 0s 2ms/step - loss: 2049209984.0000\n",
      "Epoch 16/25\n",
      "46/46 [==============================] - 0s 2ms/step - loss: 1965169920.0000\n",
      "Epoch 17/25\n",
      "46/46 [==============================] - 0s 2ms/step - loss: 1855754240.0000\n",
      "Epoch 18/25\n",
      "46/46 [==============================] - 0s 2ms/step - loss: 1804439552.0000\n",
      "Epoch 19/25\n",
      "46/46 [==============================] - 0s 2ms/step - loss: 1800855296.0000\n",
      "Epoch 20/25\n",
      "46/46 [==============================] - 0s 2ms/step - loss: 1767713152.0000\n",
      "Epoch 21/25\n",
      "46/46 [==============================] - 0s 2ms/step - loss: 1755873408.0000\n",
      "Epoch 22/25\n",
      "46/46 [==============================] - 0s 2ms/step - loss: 1706855680.0000\n",
      "Epoch 23/25\n",
      "46/46 [==============================] - 0s 3ms/step - loss: 1701621248.0000\n",
      "Epoch 24/25\n",
      "46/46 [==============================] - 0s 2ms/step - loss: 1679876224.0000\n",
      "Epoch 25/25\n",
      "46/46 [==============================] - 0s 2ms/step - loss: 1667862144.0000\n"
     ]
    }
   ],
   "source": [
    "NN_model = Sequential()\n",
    "NN_model.add(Dense(100, activation = \"relu\", input_dim = X_train.shape[1:][0]))\n",
    "NN_model.add(Dense(50,activation = \"relu\"))\n",
    "NN_model.add(Dense(1, activation = \"linear\"))\n",
    "NN_model.compile(loss = \"mse\", optimizer = \"adam\")#, metrics = ['accuracy'])\n",
    "\n",
    "\n",
    "history = NN_model.fit(X_train, y_train, epochs = 25)"
   ]
  },
  {
   "cell_type": "code",
   "execution_count": 59,
   "id": "07581f2c-a23c-4f8d-bb75-9d6fb291bb01",
   "metadata": {
    "scrolled": true
   },
   "outputs": [
    {
     "name": "stdout",
     "output_type": "stream",
     "text": [
      "42/42 [==============================] - 0s 2ms/step\n",
      "      Predicted Values      SalePrice\n",
      "0        134832.421875  169277.052498\n",
      "1        199564.687500  187758.393989\n",
      "2        194176.125000  183583.683570\n",
      "3        194141.796875  179317.477511\n",
      "4        160059.937500  150730.079977\n",
      "...                ...            ...\n",
      "1315     156446.234375  182164.266854\n",
      "1316      98026.742188  188137.901598\n",
      "1317      96928.757812  158893.543063\n",
      "1318     205859.500000  189579.650668\n",
      "1319     237503.703125  165229.803506\n",
      "\n",
      "[1199 rows x 2 columns]\n"
     ]
    }
   ],
   "source": [
    "predictions = NN_model.predict(X_test)\n",
    "#print(predictions[:10])\n",
    "#print(y_test[:10])\n",
    "predicted_values_series = pd.Series(predictions.flatten(), name='Predicted Values')\n",
    "pred_actual = pd.concat([predicted_values_series, y_test], axis =  1)\n",
    "pred_actual = pred_actual.dropna()\n",
    "print(pred_actual)"
   ]
  },
  {
   "cell_type": "code",
   "execution_count": 60,
   "id": "32acfc41-b75a-4620-a26d-f2b3c3172d9d",
   "metadata": {},
   "outputs": [
    {
     "name": "stdout",
     "output_type": "stream",
     "text": [
      "Mean Squared Error (MSE): 4224925033.358688\n",
      "Root Mean Squared Error (RMSE): 64999.42333097031\n",
      "Mean Absolute Error (MAE): 47981.26673251824\n"
     ]
    }
   ],
   "source": [
    "from sklearn.metrics import mean_squared_error, mean_absolute_error\n",
    "\n",
    "y_pred = predictions\n",
    "\n",
    "mse = mean_squared_error(y_test, y_pred)\n",
    "\n",
    "rmse = np.sqrt(mse)\n",
    "\n",
    "mae = mean_absolute_error(y_test, y_pred)\n",
    "\n",
    "print(\"Mean Squared Error (MSE):\", mse)\n",
    "print(\"Root Mean Squared Error (RMSE):\", rmse)\n",
    "print(\"Mean Absolute Error (MAE):\", mae)"
   ]
  },
  {
   "cell_type": "markdown",
   "id": "8ec3cfac-6d26-4680-9df8-d05ff38c04f0",
   "metadata": {},
   "source": [
    "### The Loss Function"
   ]
  },
  {
   "cell_type": "code",
   "execution_count": 63,
   "id": "c465022e-061c-4afe-b185-6a2dd86da41b",
   "metadata": {},
   "outputs": [
    {
     "data": {
      "image/png": "[encoded data removed]",
      "text/plain": [
       "<Figure size 640x480 with 1 Axes>"
      ]
     },
     "metadata": {},
     "output_type": "display_data"
    }
   ],
   "source": [
    "plt.plot(history.history['loss'])\n",
    "plt.title('Model Loss')\n",
    "plt.xlabel('Epoch')\n",
    "plt.ylabel('Loss')\n",
    "plt.show()"
   ]
  },
  {
   "cell_type": "markdown",
   "id": "56f63971-b25a-4367-b5af-8e966bc0dfb4",
   "metadata": {},
   "source": [
    "## Delete outlier in SalePrice"
   ]
  },
  {
   "cell_type": "markdown",
   "id": "90168c72-03b1-43a0-89be-09bf5e335888",
   "metadata": {},
   "source": [
    "Now we want to take a closer look in SalePrice and want to delete the outlier too.  \n",
    "Maybe it will lead to better results."
   ]
  },
  {
   "cell_type": "markdown",
   "id": "d49dd632-43ca-466c-914b-e9d18ab7925a",
   "metadata": {},
   "source": [
    "## SP1 drop outlier in train_hpp.SalePrice and test_hpp.SalePrice stay"
   ]
  },
  {
   "cell_type": "code",
   "execution_count": 64,
   "id": "f7e10e94-b7f4-441d-b097-a398b8eeecdc",
   "metadata": {},
   "outputs": [
    {
     "name": "stderr",
     "output_type": "stream",
     "text": [
      "C:\\Users\\ZulkifliIndraGadingC\\anaconda3\\lib\\site-packages\\seaborn\\_oldcore.py:1119: FutureWarning: use_inf_as_na option is deprecated and will be removed in a future version. Convert inf values to NaN before operating instead.\n",
      "  with pd.option_context('mode.use_inf_as_na', True):\n"
     ]
    },
    {
     "data": {
      "image/png": "[encoded data removed]",
      "text/plain": [
       "<Figure size 1200x500 with 2 Axes>"
      ]
     },
     "metadata": {},
     "output_type": "display_data"
    }
   ],
   "source": [
    "fig, axes = plt.subplots(nrows = 1, ncols = 2, figsize = (12, 5))\n",
    "\n",
    "sns.histplot(x = train_hpp[\"SalePrice\"], ax = axes[0])\n",
    "axes[0].set_title(\"Histogramm\")\n",
    "\n",
    "sns.boxplot(x = train_hpp[\"SalePrice\"], ax = axes[1])#, bins = 10, kde = True, ax = axes[1])\n",
    "axes[1].set_title(\"Boxplot\")\n",
    "\n",
    "# Menampilkan plot\n",
    "plt.tight_layout()\n",
    "plt.show()\n"
   ]
  },
  {
   "cell_type": "code",
   "execution_count": 65,
   "id": "4e097a71-62a3-4fc9-a7a8-db643439eb7f",
   "metadata": {
    "scrolled": true
   },
   "outputs": [
    {
     "data": {
      "text/plain": [
       "count      1459.000000\n",
       "mean     180930.394791\n",
       "std       79468.964025\n",
       "min       34900.000000\n",
       "25%      129950.000000\n",
       "50%      163000.000000\n",
       "75%      214000.000000\n",
       "max      755000.000000\n",
       "Name: SalePrice, dtype: float64"
      ]
     },
     "execution_count": 65,
     "metadata": {},
     "output_type": "execute_result"
    }
   ],
   "source": [
    "train_hpp.SalePrice.describe()"
   ]
  },
  {
   "cell_type": "code",
   "execution_count": 66,
   "id": "825bd101-e0a7-40f3-a820-1649099e8b37",
   "metadata": {},
   "outputs": [
    {
     "name": "stdout",
     "output_type": "stream",
     "text": [
      "340075.0\n"
     ]
    }
   ],
   "source": [
    "Q1_SP1 = train_hpp[\"SalePrice\"].quantile(0.25)\n",
    "Q3_SP1 = train_hpp[\"SalePrice\"].quantile(0.75)\n",
    "IQR_SP1 = Q3_SP1 - Q1_SP1\n",
    "\n",
    "upper_limit_SP1 = Q3_SP1 + 1.5 * IQR_SP1\n",
    "print(upper_limit_SP1)"
   ]
  },
  {
   "cell_type": "code",
   "execution_count": 67,
   "id": "7879778d-369e-4852-adb2-9542266cf4f6",
   "metadata": {},
   "outputs": [],
   "source": [
    "train_hpp_SP1 = train_hpp[train_hpp[\"SalePrice\"] < upper_limit_SP1] "
   ]
  },
  {
   "cell_type": "code",
   "execution_count": 68,
   "id": "ac243084-623a-4d5c-9fb3-5a6c34c10ad4",
   "metadata": {},
   "outputs": [
    {
     "name": "stderr",
     "output_type": "stream",
     "text": [
      "C:\\Users\\ZulkifliIndraGadingC\\anaconda3\\lib\\site-packages\\seaborn\\_oldcore.py:1119: FutureWarning: use_inf_as_na option is deprecated and will be removed in a future version. Convert inf values to NaN before operating instead.\n",
      "  with pd.option_context('mode.use_inf_as_na', True):\n"
     ]
    },
    {
     "data": {
      "image/png": "[encoded data removed]",
      "text/plain": [
       "<Figure size 1200x500 with 2 Axes>"
      ]
     },
     "metadata": {},
     "output_type": "display_data"
    }
   ],
   "source": [
    "fig, axes = plt.subplots(nrows = 1, ncols = 2, figsize = (12, 5))\n",
    "\n",
    "sns.histplot(x = train_hpp_SP1[\"SalePrice\"], ax = axes[0])\n",
    "axes[0].set_title(\"Histogramm\")\n",
    "\n",
    "sns.boxplot(x = train_hpp_SP1[\"SalePrice\"], ax = axes[1])\n",
    "axes[1].set_title(\"Boxplot\")\n",
    "\n",
    "# show plot\n",
    "plt.tight_layout()\n",
    "plt.show()"
   ]
  },
  {
   "cell_type": "code",
   "execution_count": 69,
   "id": "00ef2975-a821-44b1-87ae-7dd7b1f02cb0",
   "metadata": {},
   "outputs": [
    {
     "data": {
      "text/plain": [
       "count      1398.000000\n",
       "mean     170239.085122\n",
       "std       59251.280782\n",
       "min       34900.000000\n",
       "25%      129000.000000\n",
       "50%      159500.000000\n",
       "75%      203750.000000\n",
       "max      340000.000000\n",
       "Name: SalePrice, dtype: float64"
      ]
     },
     "execution_count": 69,
     "metadata": {},
     "output_type": "execute_result"
    }
   ],
   "source": [
    "train_hpp_SP1.SalePrice.describe()"
   ]
  },
  {
   "cell_type": "code",
   "execution_count": 70,
   "id": "85aa45f7-bb69-4f4a-af74-e1f8195e19e3",
   "metadata": {},
   "outputs": [],
   "source": [
    "X_train_SP1 = train_hpp_SP1.drop(columns = [\"Id\", \"SalePrice\"], axis = 1)\n",
    "\n",
    "y_train_SP1 = train_hpp_SP1['SalePrice']\n",
    "\n",
    "X_test = test_hpp.drop(columns = [\"Id\", \"SalePrice\"], axis = 1)\n",
    "X_test = X_test.astype(float)\n",
    "y_test = test_hpp[\"SalePrice\"]"
   ]
  },
  {
   "cell_type": "code",
   "execution_count": 71,
   "id": "4a65ad1f-b5ff-4d62-95db-d4370665e91b",
   "metadata": {
    "scrolled": true
   },
   "outputs": [
    {
     "name": "stdout",
     "output_type": "stream",
     "text": [
      "Epoch 1/25\n",
      "44/44 [==============================] - 1s 2ms/step - loss: 29805084672.0000\n",
      "Epoch 2/25\n",
      "44/44 [==============================] - 0s 2ms/step - loss: 19353792512.0000\n",
      "Epoch 3/25\n",
      "44/44 [==============================] - 0s 2ms/step - loss: 4583447040.0000\n",
      "Epoch 4/25\n",
      "44/44 [==============================] - 0s 2ms/step - loss: 2336613376.0000\n",
      "Epoch 5/25\n",
      "44/44 [==============================] - 0s 3ms/step - loss: 2252183296.0000\n",
      "Epoch 6/25\n",
      "44/44 [==============================] - 0s 3ms/step - loss: 2172681984.0000\n",
      "Epoch 7/25\n",
      "44/44 [==============================] - 0s 2ms/step - loss: 2097379328.0000\n",
      "Epoch 8/25\n",
      "44/44 [==============================] - 0s 2ms/step - loss: 2015254144.0000\n",
      "Epoch 9/25\n",
      "44/44 [==============================] - 0s 2ms/step - loss: 1931932800.0000\n",
      "Epoch 10/25\n",
      "44/44 [==============================] - 0s 3ms/step - loss: 1852883840.0000\n",
      "Epoch 11/25\n",
      "44/44 [==============================] - 0s 2ms/step - loss: 1768655744.0000\n",
      "Epoch 12/25\n",
      "44/44 [==============================] - 0s 2ms/step - loss: 1689832704.0000\n",
      "Epoch 13/25\n",
      "44/44 [==============================] - 0s 2ms/step - loss: 1619321600.0000\n",
      "Epoch 14/25\n",
      "44/44 [==============================] - 0s 2ms/step - loss: 1546730240.0000\n",
      "Epoch 15/25\n",
      "44/44 [==============================] - 0s 3ms/step - loss: 1471986688.0000\n",
      "Epoch 16/25\n",
      "44/44 [==============================] - 0s 3ms/step - loss: 1407796352.0000\n",
      "Epoch 17/25\n",
      "44/44 [==============================] - 0s 1ms/step - loss: 1349097728.0000\n",
      "Epoch 18/25\n",
      "44/44 [==============================] - 0s 2ms/step - loss: 1292273408.0000\n",
      "Epoch 19/25\n",
      "44/44 [==============================] - 0s 1ms/step - loss: 1242333696.0000\n",
      "Epoch 20/25\n",
      "44/44 [==============================] - 0s 1ms/step - loss: 1204641280.0000\n",
      "Epoch 21/25\n",
      "44/44 [==============================] - 0s 1ms/step - loss: 1164235648.0000\n",
      "Epoch 22/25\n",
      "44/44 [==============================] - 0s 1ms/step - loss: 1139057152.0000\n",
      "Epoch 23/25\n",
      "44/44 [==============================] - 0s 1ms/step - loss: 1105730944.0000\n",
      "Epoch 24/25\n",
      "44/44 [==============================] - 0s 2ms/step - loss: 1090346112.0000\n",
      "Epoch 25/25\n",
      "44/44 [==============================] - 0s 2ms/step - loss: 1071812672.0000\n"
     ]
    }
   ],
   "source": [
    "NN_model_SP1 = Sequential()\n",
    "NN_model_SP1.add(Dense(100, activation = \"relu\", input_dim = X_train_SP1.shape[1:][0]))\n",
    "NN_model_SP1.add(Dense(50,activation = \"relu\"))\n",
    "NN_model_SP1.add(Dense(1, activation = \"linear\"))\n",
    "NN_model_SP1.compile(loss = \"mse\", optimizer = \"adam\")#, metrics = ['accuracy'])\n",
    "\n",
    "\n",
    "history_SP1 = NN_model_SP1.fit(X_train_SP1, y_train_SP1, epochs = 25)"
   ]
  },
  {
   "cell_type": "code",
   "execution_count": 72,
   "id": "bd53cac7-19ff-4e14-a725-26faf84a0ed7",
   "metadata": {},
   "outputs": [
    {
     "name": "stdout",
     "output_type": "stream",
     "text": [
      "42/42 [==============================] - 0s 2ms/step\n",
      "      Predicted Values      SalePrice\n",
      "0        145787.625000  169277.052498\n",
      "1        197235.656250  187758.393989\n",
      "2        195545.671875  183583.683570\n",
      "3        194364.171875  179317.477511\n",
      "4        164005.296875  150730.079977\n",
      "...                ...            ...\n",
      "1315     165187.343750  182164.266854\n",
      "1316     115710.304688  188137.901598\n",
      "1317     115319.585938  158893.543063\n",
      "1318     203919.203125  189579.650668\n",
      "1319     224510.390625  165229.803506\n",
      "\n",
      "[1199 rows x 2 columns]\n"
     ]
    }
   ],
   "source": [
    "predictions_SP1 = NN_model_SP1.predict(X_test)\n",
    "\n",
    "pred_actual_SP1 = pd.concat([predicted_values_series_SP1, y_test], axis =  1)\n",
    "pred_actual_SP1 = pred_actual_SP1.dropna()\n",
    "print(pred_actual_SP1)"
   ]
  },
  {
   "cell_type": "code",
   "execution_count": 73,
   "id": "d441e462-4931-480b-8094-d2d0f36107b2",
   "metadata": {},
   "outputs": [
    {
     "name": "stdout",
     "output_type": "stream",
     "text": [
      "Mean Squared Error (MSE): 2272148125.1893635\n",
      "Root Mean Squared Error (RMSE): 47667.05492464752\n",
      "Mean Absolute Error (MAE): 35670.623409943146\n"
     ]
    }
   ],
   "source": [
    "y_pred_SP1 = predictions_SP1\n",
    "\n",
    "mse_SP1 = mean_squared_error(y_test, y_pred_SP1)\n",
    "\n",
    "rmse_SP1 = np.sqrt(mse_SP1)\n",
    "\n",
    "mae_SP1 = mean_absolute_error(y_test, y_pred_SP1)\n",
    "\n",
    "print(\"Mean Squared Error (MSE):\", mse_SP1)\n",
    "print(\"Root Mean Squared Error (RMSE):\", rmse_SP1)\n",
    "print(\"Mean Absolute Error (MAE):\", mae_SP1)"
   ]
  },
  {
   "cell_type": "markdown",
   "id": "17fb1f1e-a434-47ca-a52f-8d064429a2c7",
   "metadata": {},
   "source": [
    "## SP2 menghapus nilai SalePrice pada train_hpp yang lebih besar dari nilai maksimal dari SalePrice test_hpp"
   ]
  },
  {
   "cell_type": "code",
   "execution_count": 74,
   "id": "bed7db47-5a6d-4902-aae1-7bd61bb49c1a",
   "metadata": {},
   "outputs": [
    {
     "name": "stdout",
     "output_type": "stream",
     "text": [
      "277936.12694354\n"
     ]
    }
   ],
   "source": [
    "test_SP_max = test_hpp[\"SalePrice\"].max()\n",
    "print(test_SP_max)"
   ]
  },
  {
   "cell_type": "code",
   "execution_count": 75,
   "id": "c7330d73-6c61-43bc-a624-1ad9848ecaa0",
   "metadata": {},
   "outputs": [
    {
     "data": {
      "text/plain": [
       "count      1312.000000\n",
       "mean     161262.246951\n",
       "std       49068.314794\n",
       "min       34900.000000\n",
       "25%      127000.000000\n",
       "50%      155000.000000\n",
       "75%      192000.000000\n",
       "max      277500.000000\n",
       "Name: SalePrice, dtype: float64"
      ]
     },
     "execution_count": 75,
     "metadata": {},
     "output_type": "execute_result"
    }
   ],
   "source": [
    "train_hpp_SP2 = train_hpp[train_hpp[\"SalePrice\"] < test_SP_max]\n",
    "train_hpp_SP2.SalePrice.describe()"
   ]
  },
  {
   "cell_type": "code",
   "execution_count": 76,
   "id": "24202514-a599-42e7-9c2f-f0a39caf77b7",
   "metadata": {},
   "outputs": [],
   "source": [
    "X_train_SP2 = train_hpp_SP2.drop(columns = [\"Id\", \"SalePrice\"], axis = 1)\n",
    "\n",
    "y_train_SP2 = train_hpp_SP2['SalePrice']\n",
    "\n",
    "X_test = test_hpp.drop(columns = [\"Id\", \"SalePrice\"], axis = 1)\n",
    "X_test = X_test.astype(float)\n",
    "y_test = test_hpp[\"SalePrice\"]"
   ]
  },
  {
   "cell_type": "code",
   "execution_count": 77,
   "id": "391374ce-0884-4b5c-bcac-beffd6000efd",
   "metadata": {
    "scrolled": true
   },
   "outputs": [
    {
     "name": "stdout",
     "output_type": "stream",
     "text": [
      "Epoch 1/25\n",
      "41/41 [==============================] - 1s 2ms/step - loss: 26700394496.0000\n",
      "Epoch 2/25\n",
      "41/41 [==============================] - 0s 2ms/step - loss: 17306406912.0000\n",
      "Epoch 3/25\n",
      "41/41 [==============================] - 0s 2ms/step - loss: 3508643072.0000\n",
      "Epoch 4/25\n",
      "41/41 [==============================] - 0s 2ms/step - loss: 1667843200.0000\n",
      "Epoch 5/25\n",
      "41/41 [==============================] - 0s 2ms/step - loss: 1605766912.0000\n",
      "Epoch 6/25\n",
      "41/41 [==============================] - 0s 2ms/step - loss: 1546010368.0000\n",
      "Epoch 7/25\n",
      "41/41 [==============================] - 0s 2ms/step - loss: 1483359488.0000\n",
      "Epoch 8/25\n",
      "41/41 [==============================] - 0s 2ms/step - loss: 1418420864.0000\n",
      "Epoch 9/25\n",
      "41/41 [==============================] - 0s 2ms/step - loss: 1362541824.0000\n",
      "Epoch 10/25\n",
      "41/41 [==============================] - 0s 1ms/step - loss: 1308401536.0000\n",
      "Epoch 11/25\n",
      "41/41 [==============================] - 0s 2ms/step - loss: 1261163648.0000\n",
      "Epoch 12/25\n",
      "41/41 [==============================] - 0s 1ms/step - loss: 1208631936.0000\n",
      "Epoch 13/25\n",
      "41/41 [==============================] - 0s 2ms/step - loss: 1175427456.0000\n",
      "Epoch 14/25\n",
      "41/41 [==============================] - 0s 1ms/step - loss: 1134449920.0000\n",
      "Epoch 15/25\n",
      "41/41 [==============================] - 0s 1ms/step - loss: 1100378880.0000\n",
      "Epoch 16/25\n",
      "41/41 [==============================] - 0s 2ms/step - loss: 1072740992.0000\n",
      "Epoch 17/25\n",
      "41/41 [==============================] - 0s 2ms/step - loss: 1040289984.0000\n",
      "Epoch 18/25\n",
      "41/41 [==============================] - 0s 2ms/step - loss: 1017772352.0000\n",
      "Epoch 19/25\n",
      "41/41 [==============================] - 0s 2ms/step - loss: 985075008.0000\n",
      "Epoch 20/25\n",
      "41/41 [==============================] - 0s 2ms/step - loss: 965193344.0000\n",
      "Epoch 21/25\n",
      "41/41 [==============================] - 0s 2ms/step - loss: 941538048.0000\n",
      "Epoch 22/25\n",
      "41/41 [==============================] - 0s 2ms/step - loss: 921689088.0000\n",
      "Epoch 23/25\n",
      "41/41 [==============================] - 0s 2ms/step - loss: 909684352.0000\n",
      "Epoch 24/25\n",
      "41/41 [==============================] - 0s 3ms/step - loss: 891676800.0000\n",
      "Epoch 25/25\n",
      "41/41 [==============================] - 0s 3ms/step - loss: 885582144.0000\n"
     ]
    }
   ],
   "source": [
    "NN_model_SP2 = Sequential()\n",
    "NN_model_SP2.add(Dense(100, activation = \"relu\", input_dim = X_train_SP2.shape[1:][0]))\n",
    "NN_model_SP2.add(Dense(50,activation = \"relu\"))\n",
    "NN_model_SP2.add(Dense(1, activation = \"linear\"))\n",
    "NN_model_SP2.compile(loss = \"mse\", optimizer = \"adam\")#, metrics = ['accuracy'])\n",
    "\n",
    "\n",
    "history_SP2 = NN_model_SP2.fit(X_train_SP2, y_train_SP2, epochs = 25)"
   ]
  },
  {
   "cell_type": "code",
   "execution_count": 78,
   "id": "4fbe70f4-52dc-4406-a6c7-c323401a9fc6",
   "metadata": {
    "scrolled": true
   },
   "outputs": [
    {
     "name": "stdout",
     "output_type": "stream",
     "text": [
      "42/42 [==============================] - 0s 1ms/step\n",
      "      Predicted Values      SalePrice\n",
      "0        143521.234375  169277.052498\n",
      "1        184928.687500  187758.393989\n",
      "2        186349.156250  183583.683570\n",
      "3        185436.171875  179317.477511\n",
      "4        159562.531250  150730.079977\n",
      "...                ...            ...\n",
      "1315     157981.656250  182164.266854\n",
      "1316     118675.085938  188137.901598\n",
      "1317     118874.632812  158893.543063\n",
      "1318     192336.796875  189579.650668\n",
      "1319     210524.156250  165229.803506\n",
      "\n",
      "[1199 rows x 2 columns]\n"
     ]
    }
   ],
   "source": [
    "predictions_SP2 = NN_model_SP2.predict(X_test)\n",
    "\n",
    "predicted_values_series_SP2 = pd.Series(predictions_SP2.flatten(), name='Predicted Values')\n",
    "pred_actual_SP2 = pd.concat([predicted_values_series_SP2, y_test], axis =  1)\n",
    "pred_actual_SP2 = pred_actual_SP2.dropna()\n",
    "print(pred_actual_SP2)"
   ]
  },
  {
   "cell_type": "code",
   "execution_count": 79,
   "id": "ce197bce-bc70-417e-bc9b-9e889a597ac4",
   "metadata": {},
   "outputs": [
    {
     "name": "stdout",
     "output_type": "stream",
     "text": [
      "Mean Squared Error (MSE): 1517838637.6697886\n",
      "Root Mean Squared Error (RMSE): 38959.44863149103\n",
      "Mean Absolute Error (MAE): 30499.96627598869\n"
     ]
    }
   ],
   "source": [
    "y_pred_SP2 = predictions_SP2\n",
    "\n",
    "mse_SP2 = mean_squared_error(y_test, y_pred_SP2)\n",
    "\n",
    "rmse_SP2 = np.sqrt(mse_SP2)\n",
    "\n",
    "mae_SP2 = mean_absolute_error(y_test, y_pred_SP2)\n",
    "\n",
    "print(\"Mean Squared Error (MSE):\", mse_SP2)\n",
    "print(\"Root Mean Squared Error (RMSE):\", rmse_SP2)\n",
    "print(\"Mean Absolute Error (MAE):\", mae_SP2)"
   ]
  },
  {
   "cell_type": "markdown",
   "id": "ed2ff64e-6bc2-495e-9ca9-76c6ada40937",
   "metadata": {},
   "source": [
    "So far the best are SP2: delete the SalePrice in train_hpp that are bigger as the max SalePrice in test_hpp"
   ]
  },
  {
   "cell_type": "markdown",
   "id": "895a6601-9847-4f53-b21e-ad3432346f26",
   "metadata": {},
   "source": [
    "## SP3 clean outlier pada train dan test"
   ]
  },
  {
   "cell_type": "code",
   "execution_count": 80,
   "id": "2200d131-2d9f-4bee-8094-a90c9c1ccc6d",
   "metadata": {},
   "outputs": [],
   "source": [
    "train_hpp_SP3 = train_hpp_SP1"
   ]
  },
  {
   "cell_type": "code",
   "execution_count": 81,
   "id": "0fe2f3fa-14a0-4dfa-a197-38a5f740d3c7",
   "metadata": {},
   "outputs": [
    {
     "name": "stderr",
     "output_type": "stream",
     "text": [
      "C:\\Users\\ZulkifliIndraGadingC\\anaconda3\\lib\\site-packages\\seaborn\\_oldcore.py:1119: FutureWarning: use_inf_as_na option is deprecated and will be removed in a future version. Convert inf values to NaN before operating instead.\n",
      "  with pd.option_context('mode.use_inf_as_na', True):\n"
     ]
    },
    {
     "data": {
      "image/png": "[encoded data removed]",
      "text/plain": [
       "<Figure size 1200x500 with 2 Axes>"
      ]
     },
     "metadata": {},
     "output_type": "display_data"
    }
   ],
   "source": [
    "fig, axes = plt.subplots(nrows = 1, ncols = 2, figsize = (12, 5))\n",
    "\n",
    "sns.histplot(x = test_hpp[\"SalePrice\"], ax = axes[0])\n",
    "axes[0].set_title(\"Histogramm\")\n",
    "\n",
    "sns.boxplot(x = test_hpp[\"SalePrice\"], ax = axes[1])#, bins = 10, kde = True, ax = axes[1])\n",
    "axes[1].set_title(\"Boxplot\")\n",
    "\n",
    "# show plot\n",
    "#sns.set_title(\"train SalePrice\")\n",
    "plt.tight_layout()\n",
    "plt.show()"
   ]
  },
  {
   "cell_type": "code",
   "execution_count": 82,
   "id": "6a9bc229-b805-4c81-ac74-068f6eb981ad",
   "metadata": {},
   "outputs": [
    {
     "data": {
      "text/plain": [
       "count      1320.000000\n",
       "mean     178984.247344\n",
       "std       15818.201291\n",
       "min      135751.318893\n",
       "25%      169266.450745\n",
       "50%      179288.048361\n",
       "75%      186538.963233\n",
       "max      277936.126944\n",
       "Name: SalePrice, dtype: float64"
      ]
     },
     "execution_count": 82,
     "metadata": {},
     "output_type": "execute_result"
    }
   ],
   "source": [
    "test_hpp.SalePrice.describe()"
   ]
  },
  {
   "cell_type": "code",
   "execution_count": 83,
   "id": "71331ab5-13f1-4528-88b3-9eb91aa67fa4",
   "metadata": {},
   "outputs": [
    {
     "name": "stdout",
     "output_type": "stream",
     "text": [
      "160630.19450040575\n",
      "212447.73196497123\n"
     ]
    }
   ],
   "source": [
    "Q1_SP3_test = test_hpp[\"SalePrice\"].quantile(0.25)\n",
    "Q3_SP3_test = test_hpp[\"SalePrice\"].quantile(0.75)\n",
    "IQR_SP3_test = Q3_SP3_test - Q1_SP3_test\n",
    "\n",
    "upper_limit_SP3_test = Q3_SP3_test + 1.5 * IQR_SP3_test\n",
    "lower_limit_SP3_test = Q3_SP3_test - 1.5 * IQR_SP3_test\n",
    "print(lower_limit_SP3_test)\n",
    "print(upper_limit_SP3_test)"
   ]
  },
  {
   "cell_type": "code",
   "execution_count": 84,
   "id": "ad9594ff-40e4-4a50-be0b-0296924c79a1",
   "metadata": {},
   "outputs": [
    {
     "data": {
      "text/plain": [
       "count      1158.000000\n",
       "mean     182464.441654\n",
       "std       13496.827641\n",
       "min      160713.294603\n",
       "25%      174388.867433\n",
       "50%      180982.082617\n",
       "75%      188189.186794\n",
       "max      277936.126944\n",
       "Name: SalePrice, dtype: float64"
      ]
     },
     "execution_count": 84,
     "metadata": {},
     "output_type": "execute_result"
    }
   ],
   "source": [
    "test_hpp_SP3 = test_hpp[test_hpp[\"SalePrice\"] < upper_limit_SP3_test]\n",
    "test_hpp_SP3 = test_hpp[test_hpp[\"SalePrice\"] > lower_limit_SP3_test]\n",
    "test_hpp_SP3.SalePrice.describe()"
   ]
  },
  {
   "cell_type": "code",
   "execution_count": 85,
   "id": "d88d1670-12f0-4551-aa56-3775429afd3d",
   "metadata": {},
   "outputs": [],
   "source": [
    "X_train_SP3 = train_hpp_SP3.drop(columns = [\"Id\", \"SalePrice\"], axis = 1)\n",
    "\n",
    "y_train_SP3 = train_hpp_SP3['SalePrice']\n",
    "\n",
    "X_test_SP3 = test_hpp_SP3.drop(columns = [\"Id\", \"SalePrice\"], axis = 1)\n",
    "X_test_SP3 = X_test_SP3.astype(float)\n",
    "y_test_SP3 = test_hpp_SP3[\"SalePrice\"]"
   ]
  },
  {
   "cell_type": "code",
   "execution_count": 86,
   "id": "55d96eb8-2617-4678-b824-c4b789f3602b",
   "metadata": {
    "scrolled": true
   },
   "outputs": [
    {
     "name": "stdout",
     "output_type": "stream",
     "text": [
      "Epoch 1/25\n",
      "44/44 [==============================] - 1s 2ms/step - loss: 29736284160.0000\n",
      "Epoch 2/25\n",
      "44/44 [==============================] - 0s 2ms/step - loss: 18133565440.0000\n",
      "Epoch 3/25\n",
      "44/44 [==============================] - 0s 2ms/step - loss: 3749156608.0000\n",
      "Epoch 4/25\n",
      "44/44 [==============================] - 0s 3ms/step - loss: 2374962432.0000\n",
      "Epoch 5/25\n",
      "44/44 [==============================] - 0s 3ms/step - loss: 2267625472.0000\n",
      "Epoch 6/25\n",
      "44/44 [==============================] - 0s 3ms/step - loss: 2197574656.0000\n",
      "Epoch 7/25\n",
      "44/44 [==============================] - 0s 2ms/step - loss: 2109751168.0000\n",
      "Epoch 8/25\n",
      "44/44 [==============================] - 0s 3ms/step - loss: 2021779840.0000\n",
      "Epoch 9/25\n",
      "44/44 [==============================] - 0s 3ms/step - loss: 1915647872.0000\n",
      "Epoch 10/25\n",
      "44/44 [==============================] - 0s 3ms/step - loss: 1825920384.0000\n",
      "Epoch 11/25\n",
      "44/44 [==============================] - 0s 2ms/step - loss: 1725437568.0000\n",
      "Epoch 12/25\n",
      "44/44 [==============================] - 0s 2ms/step - loss: 1620076032.0000\n",
      "Epoch 13/25\n",
      "44/44 [==============================] - 0s 2ms/step - loss: 1550901888.0000\n",
      "Epoch 14/25\n",
      "44/44 [==============================] - 0s 2ms/step - loss: 1450148864.0000\n",
      "Epoch 15/25\n",
      "44/44 [==============================] - 0s 2ms/step - loss: 1379200000.0000\n",
      "Epoch 16/25\n",
      "44/44 [==============================] - 0s 2ms/step - loss: 1314407808.0000\n",
      "Epoch 17/25\n",
      "44/44 [==============================] - 0s 2ms/step - loss: 1233915520.0000\n",
      "Epoch 18/25\n",
      "44/44 [==============================] - 0s 2ms/step - loss: 1174739200.0000\n",
      "Epoch 19/25\n",
      "44/44 [==============================] - 0s 2ms/step - loss: 1140230272.0000\n",
      "Epoch 20/25\n",
      "44/44 [==============================] - 0s 2ms/step - loss: 1106826112.0000\n",
      "Epoch 21/25\n",
      "44/44 [==============================] - 0s 3ms/step - loss: 1078652800.0000\n",
      "Epoch 22/25\n",
      "44/44 [==============================] - 0s 3ms/step - loss: 1055413376.0000\n",
      "Epoch 23/25\n",
      "44/44 [==============================] - 0s 3ms/step - loss: 1041840576.0000\n",
      "Epoch 24/25\n",
      "44/44 [==============================] - 0s 3ms/step - loss: 1041377920.0000\n",
      "Epoch 25/25\n",
      "44/44 [==============================] - 0s 3ms/step - loss: 1028853120.0000\n"
     ]
    }
   ],
   "source": [
    "NN_model_SP3 = Sequential()\n",
    "NN_model_SP3.add(Dense(100, activation = \"relu\", input_dim = X_train_SP3.shape[1:][0]))\n",
    "NN_model_SP3.add(Dense(50,activation = \"relu\"))\n",
    "NN_model_SP3.add(Dense(1, activation = \"linear\"))\n",
    "NN_model_SP3.compile(loss = \"mse\", optimizer = \"adam\")#, metrics = ['accuracy'])\n",
    "\n",
    "\n",
    "history_SP3 = NN_model_SP3.fit(X_train_SP3, y_train_SP3, epochs = 25)"
   ]
  },
  {
   "cell_type": "code",
   "execution_count": 87,
   "id": "eb1de98a-ac78-4709-8da9-ed810460f6dc",
   "metadata": {},
   "outputs": [
    {
     "name": "stdout",
     "output_type": "stream",
     "text": [
      "37/37 [==============================] - 0s 2ms/step\n",
      "      Predicted Values      SalePrice\n",
      "0        136431.156250  169277.052498\n",
      "1        187621.109375  187758.393989\n",
      "2        186479.718750  183583.683570\n",
      "3        186769.984375  179317.477511\n",
      "5        172939.078125  177150.989247\n",
      "...                ...            ...\n",
      "1153     152817.359375  189562.873697\n",
      "1154     107487.406250  170591.884966\n",
      "1155     106813.203125  172934.351683\n",
      "1156     194646.343750  186425.069879\n",
      "1157     219026.500000  218648.131133\n",
      "\n",
      "[911 rows x 2 columns]\n"
     ]
    }
   ],
   "source": [
    "predictions_SP3 = NN_model_SP3.predict(X_test_SP3)\n",
    "\n",
    "predicted_values_series_SP3 = pd.Series(predictions_SP3.flatten(), name='Predicted Values')\n",
    "pred_actual_SP3 = pd.concat([predicted_values_series_SP3, y_test_SP3], axis =  1)\n",
    "pred_actual_SP3 = pred_actual_SP3.dropna()\n",
    "print(pred_actual_SP3)"
   ]
  },
  {
   "cell_type": "code",
   "execution_count": 88,
   "id": "498af944-4d3d-4ca0-941d-e50003c70ec3",
   "metadata": {},
   "outputs": [
    {
     "name": "stdout",
     "output_type": "stream",
     "text": [
      "Mean Squared Error (MSE): 2468234292.346705\n",
      "Root Mean Squared Error (RMSE): 49681.32740121488\n",
      "Mean Absolute Error (MAE): 38675.832682657005\n"
     ]
    }
   ],
   "source": [
    "y_pred_SP3 = predictions_SP3\n",
    "\n",
    "mse_SP3 = mean_squared_error(y_test_SP3, y_pred_SP3)\n",
    "\n",
    "rmse_SP3 = np.sqrt(mse_SP3)\n",
    "\n",
    "mae_SP3 = mean_absolute_error(y_test_SP3, y_pred_SP3)\n",
    "\n",
    "print(\"Mean Squared Error (MSE):\", mse_SP3)\n",
    "print(\"Root Mean Squared Error (RMSE):\", rmse_SP3)\n",
    "print(\"Mean Absolute Error (MAE):\", mae_SP3)"
   ]
  },
  {
   "cell_type": "markdown",
   "id": "3a254bfb-42ac-411f-bf30-c3c420f40713",
   "metadata": {},
   "source": [
    "### So far our best MAE and RMSE are from SP0"
   ]
  },
  {
   "cell_type": "code",
   "execution_count": 89,
   "id": "598a8b7f-0566-4ffd-813c-6605690b214e",
   "metadata": {},
   "outputs": [
    {
     "data": {
      "text/html": [
       "<div>\n",
       "<style scoped>\n",
       "    .dataframe tbody tr th:only-of-type {\n",
       "        vertical-align: middle;\n",
       "    }\n",
       "\n",
       "    .dataframe tbody tr th {\n",
       "        vertical-align: top;\n",
       "    }\n",
       "\n",
       "    .dataframe thead th {\n",
       "        text-align: right;\n",
       "    }\n",
       "</style>\n",
       "<table border=\"1\" class=\"dataframe\">\n",
       "  <thead>\n",
       "    <tr style=\"text-align: right;\">\n",
       "      <th></th>\n",
       "      <th>Method</th>\n",
       "      <th>RMSE</th>\n",
       "      <th>MAE</th>\n",
       "    </tr>\n",
       "  </thead>\n",
       "  <tbody>\n",
       "    <tr>\n",
       "      <th>0</th>\n",
       "      <td>SP0</td>\n",
       "      <td>64999.423331</td>\n",
       "      <td>47981.266733</td>\n",
       "    </tr>\n",
       "    <tr>\n",
       "      <th>1</th>\n",
       "      <td>SP1</td>\n",
       "      <td>47667.054925</td>\n",
       "      <td>35670.623410</td>\n",
       "    </tr>\n",
       "    <tr>\n",
       "      <th>2</th>\n",
       "      <td>SP2</td>\n",
       "      <td>38959.448631</td>\n",
       "      <td>30499.966276</td>\n",
       "    </tr>\n",
       "    <tr>\n",
       "      <th>3</th>\n",
       "      <td>SP3</td>\n",
       "      <td>49681.327401</td>\n",
       "      <td>38675.832683</td>\n",
       "    </tr>\n",
       "  </tbody>\n",
       "</table>\n",
       "</div>"
      ],
      "text/plain": [
       "  Method          RMSE           MAE\n",
       "0    SP0  64999.423331  47981.266733\n",
       "1    SP1  47667.054925  35670.623410\n",
       "2    SP2  38959.448631  30499.966276\n",
       "3    SP3  49681.327401  38675.832683"
      ]
     },
     "execution_count": 89,
     "metadata": {},
     "output_type": "execute_result"
    }
   ],
   "source": [
    "#Summary of MAE and RMSE\n",
    "error_summary = {'Method': [\"SP0\", \"SP1\", \"SP2\", \"SP3\"],\n",
    "                 'RMSE': [rmse, rmse_SP1, rmse_SP2, rmse_SP3],\n",
    "                 'MAE': [mae, mae_SP1, mae_SP2, mae_SP3]}\n",
    "error_summary = pd.DataFrame(error_summary)\n",
    "error_summary"
   ]
  },
  {
   "cell_type": "code",
   "execution_count": 90,
   "id": "0f8a19c3-86f0-4428-992d-fd19f84f9495",
   "metadata": {},
   "outputs": [
    {
     "data": {
      "text/plain": [
       "<Axes: xlabel='RMSE', ylabel='Method'>"
      ]
     },
     "execution_count": 90,
     "metadata": {},
     "output_type": "execute_result"
    },
    {
     "data": {
      "image/png": "[encoded data removed]",
      "text/plain": [
       "<Figure size 640x480 with 1 Axes>"
      ]
     },
     "metadata": {},
     "output_type": "display_data"
    }
   ],
   "source": [
    "sns.barplot(data = error_summary, y = \"Method\", x = \"RMSE\")"
   ]
  },
  {
   "cell_type": "code",
   "execution_count": 91,
   "id": "5f5a7b5a-cc9e-4d9b-aa28-24a9213da10a",
   "metadata": {},
   "outputs": [
    {
     "data": {
      "text/plain": [
       "<Axes: xlabel='MAE', ylabel='Method'>"
      ]
     },
     "execution_count": 91,
     "metadata": {},
     "output_type": "execute_result"
    },
    {
     "data": {
      "image/png": "[encoded data removed]",
      "text/plain": [
       "<Figure size 640x480 with 1 Axes>"
      ]
     },
     "metadata": {},
     "output_type": "display_data"
    }
   ],
   "source": [
    "sns.barplot(data = error_summary, y = \"Method\", x = \"MAE\")"
   ]
  },
  {
   "cell_type": "markdown",
   "id": "18b50d2d-21d7-4ff9-9dc3-9792d605d67c",
   "metadata": {},
   "source": [
    "## Train Test Split\n",
    "\n",
    "### Train Split"
   ]
  },
  {
   "cell_type": "code",
   "execution_count": 92,
   "id": "b3c3cd0a-f9da-4f4a-8e96-0f76015bf9a3",
   "metadata": {},
   "outputs": [],
   "source": [
    "from sklearn.model_selection import train_test_split\n",
    "from sklearn.preprocessing import StandardScaler, LabelEncoder\n",
    "from sklearn.metrics import accuracy_score\n",
    "from tensorflow.keras.models import Sequential\n",
    "from tensorflow.keras.layers import Dense\n",
    "from tensorflow.keras.utils import to_categorical"
   ]
  },
  {
   "cell_type": "code",
   "execution_count": 115,
   "id": "3b9bcf2e-f9d3-46ab-b7d6-24412af9a7f5",
   "metadata": {},
   "outputs": [],
   "source": [
    "X = train_hpp.drop(columns = [\"Id\", \"SalePrice\"], axis = 1)\n",
    "\n",
    "y = train_hpp['SalePrice']"
   ]
  },
  {
   "cell_type": "code",
   "execution_count": 116,
   "id": "b83b9684-5eff-4951-ae41-71c2a4033f4e",
   "metadata": {},
   "outputs": [],
   "source": [
    "X_train, X_test, y_train, y_test = train_test_split(X, y, test_size=0.2)"
   ]
  },
  {
   "cell_type": "code",
   "execution_count": 117,
   "id": "1b054a44-3a27-40a4-9391-94b25fff4642",
   "metadata": {
    "scrolled": true
   },
   "outputs": [
    {
     "name": "stdout",
     "output_type": "stream",
     "text": [
      "Epoch 1/25\n",
      "37/37 [==============================] - 1s 2ms/step - loss: 37514035200.0000\n",
      "Epoch 2/25\n",
      "37/37 [==============================] - 0s 2ms/step - loss: 29102757888.0000\n",
      "Epoch 3/25\n",
      "37/37 [==============================] - 0s 2ms/step - loss: 10535622656.0000\n",
      "Epoch 4/25\n",
      "37/37 [==============================] - 0s 2ms/step - loss: 4153363712.0000\n",
      "Epoch 5/25\n",
      "37/37 [==============================] - 0s 2ms/step - loss: 3995614464.0000\n",
      "Epoch 6/25\n",
      "37/37 [==============================] - 0s 2ms/step - loss: 3884705792.0000\n",
      "Epoch 7/25\n",
      "37/37 [==============================] - 0s 2ms/step - loss: 3770810880.0000\n",
      "Epoch 8/25\n",
      "37/37 [==============================] - 0s 2ms/step - loss: 3666938880.0000\n",
      "Epoch 9/25\n",
      "37/37 [==============================] - 0s 2ms/step - loss: 3514869504.0000\n",
      "Epoch 10/25\n",
      "37/37 [==============================] - 0s 2ms/step - loss: 3375560704.0000\n",
      "Epoch 11/25\n",
      "37/37 [==============================] - 0s 2ms/step - loss: 3224022016.0000\n",
      "Epoch 12/25\n",
      "37/37 [==============================] - 0s 2ms/step - loss: 3089069824.0000\n",
      "Epoch 13/25\n",
      "37/37 [==============================] - 0s 1ms/step - loss: 2873638912.0000\n",
      "Epoch 14/25\n",
      "37/37 [==============================] - 0s 2ms/step - loss: 2702150656.0000\n",
      "Epoch 15/25\n",
      "37/37 [==============================] - 0s 1ms/step - loss: 2518575104.0000\n",
      "Epoch 16/25\n",
      "37/37 [==============================] - 0s 1ms/step - loss: 2353385728.0000\n",
      "Epoch 17/25\n",
      "37/37 [==============================] - 0s 1ms/step - loss: 2187945216.0000\n",
      "Epoch 18/25\n",
      "37/37 [==============================] - 0s 1ms/step - loss: 2075086592.0000\n",
      "Epoch 19/25\n",
      "37/37 [==============================] - 0s 2ms/step - loss: 1983096960.0000\n",
      "Epoch 20/25\n",
      "37/37 [==============================] - 0s 2ms/step - loss: 1921186432.0000\n",
      "Epoch 21/25\n",
      "37/37 [==============================] - 0s 2ms/step - loss: 1879758336.0000\n",
      "Epoch 22/25\n",
      "37/37 [==============================] - 0s 2ms/step - loss: 1829169280.0000\n",
      "Epoch 23/25\n",
      "37/37 [==============================] - 0s 2ms/step - loss: 1828028416.0000\n",
      "Epoch 24/25\n",
      "37/37 [==============================] - 0s 2ms/step - loss: 1795054208.0000\n",
      "Epoch 25/25\n",
      "37/37 [==============================] - 0s 2ms/step - loss: 1786922112.0000\n"
     ]
    }
   ],
   "source": [
    "NN_model_split = Sequential()\n",
    "NN_model_split.add(Dense(100, activation = \"relu\", input_dim = X_train.shape[1:][0]))\n",
    "NN_model_split.add(Dense(50,activation = \"relu\"))\n",
    "NN_model_split.add(Dense(1, activation = \"linear\"))\n",
    "NN_model_split.compile(loss = \"mse\", optimizer = \"adam\")#, metrics = ['accuracy'])\n",
    "\n",
    "\n",
    "history_split = NN_model_split.fit(X_train, y_train, epochs = 25)"
   ]
  },
  {
   "cell_type": "code",
   "execution_count": 118,
   "id": "a51aca35-aeee-4cdb-bd1e-160241719fed",
   "metadata": {
    "scrolled": true
   },
   "outputs": [
    {
     "name": "stdout",
     "output_type": "stream",
     "text": [
      "10/10 [==============================] - 0s 2ms/step\n",
      "     Predicted Values  SalePrice\n",
      "0       197442.671875   208500.0\n",
      "3       110634.578125   140000.0\n",
      "5       283892.437500   143000.0\n",
      "7       292520.750000   200000.0\n",
      "19      314212.937500   139000.0\n",
      "..                ...        ...\n",
      "251     165933.765625   235000.0\n",
      "270     161757.312500   266000.0\n",
      "271     201154.500000   241500.0\n",
      "284     173576.500000   179200.0\n",
      "291     242587.296875   135900.0\n",
      "\n",
      "[66 rows x 2 columns]\n"
     ]
    }
   ],
   "source": [
    "#train SP1\n",
    "predictions_train_split = NN_model_split.predict(X_test)\n",
    "\n",
    "predicted_values_series_train_split = pd.Series(predictions_train_split.flatten(), name = 'Predicted Values')\n",
    "pred_actual_train_split = pd.concat([predicted_values_series_train_split, y_test], axis =  1)\n",
    "pred_actual_train_split = pred_actual_train_split.dropna()\n",
    "print(pred_actual_train_split)"
   ]
  },
  {
   "cell_type": "code",
   "execution_count": 119,
   "id": "ceecfef3-ee47-418f-a621-1bd98dc66d7d",
   "metadata": {},
   "outputs": [
    {
     "name": "stdout",
     "output_type": "stream",
     "text": [
      "Mean Squared Error (MSE): 1433373365.412218\n",
      "Root Mean Squared Error (RMSE): 37859.917662512395\n",
      "Mean Absolute Error (MAE): 28121.727579195205\n"
     ]
    }
   ],
   "source": [
    "#train SP1\n",
    "y_pred_train = predictions_train_split\n",
    "\n",
    "mse_train = mean_squared_error(y_test, y_pred_train)\n",
    "\n",
    "rmse_train = np.sqrt(mse_train)\n",
    "\n",
    "mae_train = mean_absolute_error(y_test, y_pred_train)\n",
    "\n",
    "print(\"Mean Squared Error (MSE):\", mse_train)\n",
    "print(\"Root Mean Squared Error (RMSE):\", rmse_train)\n",
    "print(\"Mean Absolute Error (MAE):\", mae_train)"
   ]
  },
  {
   "cell_type": "markdown",
   "id": "74e814b8-6729-4b17-98fc-b97a64d97bf7",
   "metadata": {},
   "source": [
    "#### Test Split SP0"
   ]
  },
  {
   "cell_type": "code",
   "execution_count": 125,
   "id": "41eee038-48a0-4bd8-9b8d-3640faeabf29",
   "metadata": {},
   "outputs": [],
   "source": [
    "X_tr = test_hpp.drop(columns = [\"Id\", \"SalePrice\"], axis = 1)\n",
    "\n",
    "y_tr = test_hpp[\"SalePrice\"]"
   ]
  },
  {
   "cell_type": "code",
   "execution_count": 126,
   "id": "b8c8655f-7b5a-430b-b24f-5ba96960bb1a",
   "metadata": {},
   "outputs": [],
   "source": [
    "X_train, X_test, y_train, y_test = train_test_split(X_tr, y_tr, test_size=0.2)"
   ]
  },
  {
   "cell_type": "code",
   "execution_count": 127,
   "id": "0d20a908-2376-472a-a9db-25750acb3275",
   "metadata": {
    "scrolled": true
   },
   "outputs": [
    {
     "name": "stdout",
     "output_type": "stream",
     "text": [
      "Epoch 1/25\n",
      "33/33 [==============================] - 1s 2ms/step - loss: 29457991680.0000\n",
      "Epoch 2/25\n",
      "33/33 [==============================] - 0s 1ms/step - loss: 20542031872.0000\n",
      "Epoch 3/25\n",
      "33/33 [==============================] - 0s 1ms/step - loss: 6187458048.0000\n",
      "Epoch 4/25\n",
      "33/33 [==============================] - 0s 2ms/step - loss: 1268209920.0000\n",
      "Epoch 5/25\n",
      "33/33 [==============================] - 0s 1ms/step - loss: 1141002880.0000\n",
      "Epoch 6/25\n",
      "33/33 [==============================] - 0s 1ms/step - loss: 1015928960.0000\n",
      "Epoch 7/25\n",
      "33/33 [==============================] - 0s 1ms/step - loss: 919784768.0000\n",
      "Epoch 8/25\n",
      "33/33 [==============================] - 0s 1ms/step - loss: 804408000.0000\n",
      "Epoch 9/25\n",
      "33/33 [==============================] - 0s 1ms/step - loss: 705597376.0000\n",
      "Epoch 10/25\n",
      "33/33 [==============================] - 0s 1ms/step - loss: 605570688.0000\n",
      "Epoch 11/25\n",
      "33/33 [==============================] - 0s 1ms/step - loss: 514492640.0000\n",
      "Epoch 12/25\n",
      "33/33 [==============================] - 0s 1ms/step - loss: 439146112.0000\n",
      "Epoch 13/25\n",
      "33/33 [==============================] - 0s 1ms/step - loss: 366392352.0000\n",
      "Epoch 14/25\n",
      "33/33 [==============================] - 0s 1ms/step - loss: 311962400.0000\n",
      "Epoch 15/25\n",
      "33/33 [==============================] - 0s 1ms/step - loss: 259648432.0000\n",
      "Epoch 16/25\n",
      "33/33 [==============================] - 0s 1ms/step - loss: 221485872.0000\n",
      "Epoch 17/25\n",
      "33/33 [==============================] - 0s 1ms/step - loss: 192455584.0000\n",
      "Epoch 18/25\n",
      "33/33 [==============================] - 0s 1ms/step - loss: 170887488.0000\n",
      "Epoch 19/25\n",
      "33/33 [==============================] - 0s 1ms/step - loss: 156104864.0000\n",
      "Epoch 20/25\n",
      "33/33 [==============================] - 0s 1ms/step - loss: 141545168.0000\n",
      "Epoch 21/25\n",
      "33/33 [==============================] - 0s 1ms/step - loss: 133851264.0000\n",
      "Epoch 22/25\n",
      "33/33 [==============================] - 0s 1ms/step - loss: 125844208.0000\n",
      "Epoch 23/25\n",
      "33/33 [==============================] - 0s 1ms/step - loss: 120315008.0000\n",
      "Epoch 24/25\n",
      "33/33 [==============================] - 0s 2ms/step - loss: 115114056.0000\n",
      "Epoch 25/25\n",
      "33/33 [==============================] - 0s 2ms/step - loss: 111178920.0000\n"
     ]
    }
   ],
   "source": [
    "NN_model_split_ts = Sequential()\n",
    "NN_model_split_ts.add(Dense(100, activation = \"relu\", input_dim = X_train.shape[1:][0]))\n",
    "NN_model_split_ts.add(Dense(50,activation = \"relu\"))\n",
    "NN_model_split_ts.add(Dense(1, activation = \"linear\"))\n",
    "NN_model_split_ts.compile(loss = \"mse\", optimizer = \"adam\")#, metrics = ['accuracy'])\n",
    "\n",
    "\n",
    "history_split_ts = NN_model_split_ts.fit(X_train, y_train, epochs = 25)"
   ]
  },
  {
   "cell_type": "code",
   "execution_count": 128,
   "id": "d21c09ab-86ff-4442-a3c3-9694b577d6c4",
   "metadata": {
    "scrolled": true
   },
   "outputs": [
    {
     "name": "stdout",
     "output_type": "stream",
     "text": [
      "9/9 [==============================] - 0s 1ms/step\n",
      "     Predicted Values      SalePrice\n",
      "1       173476.406250  187758.393989\n",
      "9       168268.187500  160726.247831\n",
      "15      169529.562500  179460.965187\n",
      "17      161813.500000  182352.192645\n",
      "22      195002.187500  190552.829321\n",
      "35      172573.078125  152605.298564\n",
      "51      198097.421875  176521.216976\n",
      "52      187441.953125  179436.704810\n",
      "61      172495.656250  179423.751582\n",
      "64      188841.937500  181122.168677\n",
      "66      199798.468750  159738.292580\n",
      "68      159032.421875  174706.363660\n",
      "70      166355.421875  163602.512173\n",
      "74      165585.250000  183003.613338\n",
      "90      173035.265625  155134.227843\n",
      "104     178140.906250  191736.759806\n",
      "107     192853.203125  205469.409445\n",
      "109     187979.546875  182271.503072\n",
      "129     221308.359375  172088.872656\n",
      "141     165666.031250  162182.596210\n",
      "148     180926.156250  160172.727974\n",
      "150     178733.093750  176515.497545\n",
      "158     179475.156250  169556.835902\n",
      "168     173131.515625  177109.589956\n",
      "174     161563.218750  179007.601964\n",
      "175     177739.000000  180370.808623\n",
      "176     168312.234375  185102.616731\n",
      "177     174017.343750  198825.563452\n",
      "184     186127.156250  179024.491270\n",
      "186     178586.750000  184534.676688\n",
      "193     158873.406250  168434.977996\n",
      "195     156314.703125  164096.097354\n",
      "201     176234.625000  185988.233988\n",
      "204     166451.296875  184468.908382\n",
      "208     190968.828125  164279.130482\n",
      "211     194063.390625  191742.778119\n",
      "216     179559.265625  166481.866476\n",
      "217     169061.984375  172080.434497\n",
      "220     163002.218750  157829.546855\n",
      "225     180033.812500  155774.270902\n",
      "227     176567.343750  179605.563664\n",
      "232     154663.125000  178630.060560\n",
      "234     178791.218750  172515.687369\n",
      "235     178614.312500  204032.992923\n",
      "244     178762.906250  181878.647957\n",
      "253     212506.656250  179980.635949\n",
      "260     209818.937500  185199.372568\n",
      "262     166423.343750  185080.145269\n"
     ]
    }
   ],
   "source": [
    "#train SP1\n",
    "predictions_test_split = NN_model_split_ts.predict(X_test)\n",
    "\n",
    "predicted_values_series_test_split = pd.Series(predictions_test_split.flatten(), name = 'Predicted Values')\n",
    "pred_actual_test_split = pd.concat([predicted_values_series_test_split, y_test], axis =  1)\n",
    "pred_actual_test_split = pred_actual_test_split.dropna()\n",
    "print(pred_actual_test_split)"
   ]
  },
  {
   "cell_type": "code",
   "execution_count": 129,
   "id": "d65fec6f-fa64-4732-a27d-97da289e58a3",
   "metadata": {
    "scrolled": true
   },
   "outputs": [
    {
     "name": "stdout",
     "output_type": "stream",
     "text": [
      "Mean Squared Error (MSE): 116151087.99454619\n",
      "Root Mean Squared Error (RMSE): 10777.341415884819\n",
      "Mean Absolute Error (MAE): 8340.645129613655\n"
     ]
    }
   ],
   "source": [
    "#test SP0\n",
    "y_pred_test = predictions_test_split\n",
    "\n",
    "mse_test = mean_squared_error(y_test, y_pred_test)\n",
    "\n",
    "rmse_test = np.sqrt(mse_test)\n",
    "\n",
    "mae_test = mean_absolute_error(y_test, y_pred_test)\n",
    "\n",
    "print(\"Mean Squared Error (MSE):\", mse_test)\n",
    "print(\"Root Mean Squared Error (RMSE):\", rmse_test)\n",
    "print(\"Mean Absolute Error (MAE):\", mae_test)"
   ]
  },
  {
   "cell_type": "markdown",
   "id": "f42c4b6b-4ebc-4914-a821-204c092ebcb5",
   "metadata": {},
   "source": [
    "## Compare the best RF Regressor"
   ]
  },
  {
   "cell_type": "markdown",
   "id": "e5d937a0-ccfd-47ee-a158-0b49d5c5e78e",
   "metadata": {},
   "source": [
    "#### Compare with RF Regressor SP0"
   ]
  },
  {
   "cell_type": "code",
   "execution_count": 130,
   "id": "68788c5a-8c12-453e-a645-331d03a3219a",
   "metadata": {},
   "outputs": [],
   "source": [
    "X_train_RF = train_hpp.drop(columns = [\"Id\", \"SalePrice\"], axis = 1)\n",
    "\n",
    "y_train_RF = train_hpp['SalePrice']\n",
    "\n",
    "X_test_RF = test_hpp.drop(columns = [\"Id\", \"SalePrice\"], axis = 1)\n",
    "\n",
    "y_test_RF = test_hpp[\"SalePrice\"]"
   ]
  },
  {
   "cell_type": "code",
   "execution_count": 138,
   "id": "58a66757-5704-436c-86f7-6e43dd5177e6",
   "metadata": {},
   "outputs": [
    {
     "data": {
      "text/html": [
       "<style>#sk-container-id-5 {color: black;}#sk-container-id-5 pre{padding: 0;}#sk-container-id-5 div.sk-toggleable {background-color: white;}#sk-container-id-5 label.sk-toggleable__label {cursor: pointer;display: block;width: 100%;margin-bottom: 0;padding: 0.3em;box-sizing: border-box;text-align: center;}#sk-container-id-5 label.sk-toggleable__label-arrow:before {content: \"▸\";float: left;margin-right: 0.25em;color: #696969;}#sk-container-id-5 label.sk-toggleable__label-arrow:hover:before {color: black;}#sk-container-id-5 div.sk-estimator:hover label.sk-toggleable__label-arrow:before {color: black;}#sk-container-id-5 div.sk-toggleable__content {max-height: 0;max-width: 0;overflow: hidden;text-align: left;background-color: #f0f8ff;}#sk-container-id-5 div.sk-toggleable__content pre {margin: 0.2em;color: black;border-radius: 0.25em;background-color: #f0f8ff;}#sk-container-id-5 input.sk-toggleable__control:checked~div.sk-toggleable__content {max-height: 200px;max-width: 100%;overflow: auto;}#sk-container-id-5 input.sk-toggleable__control:checked~label.sk-toggleable__label-arrow:before {content: \"▾\";}#sk-container-id-5 div.sk-estimator input.sk-toggleable__control:checked~label.sk-toggleable__label {background-color: #d4ebff;}#sk-container-id-5 div.sk-label input.sk-toggleable__control:checked~label.sk-toggleable__label {background-color: #d4ebff;}#sk-container-id-5 input.sk-hidden--visually {border: 0;clip: rect(1px 1px 1px 1px);clip: rect(1px, 1px, 1px, 1px);height: 1px;margin: -1px;overflow: hidden;padding: 0;position: absolute;width: 1px;}#sk-container-id-5 div.sk-estimator {font-family: monospace;background-color: #f0f8ff;border: 1px dotted black;border-radius: 0.25em;box-sizing: border-box;margin-bottom: 0.5em;}#sk-container-id-5 div.sk-estimator:hover {background-color: #d4ebff;}#sk-container-id-5 div.sk-parallel-item::after {content: \"\";width: 100%;border-bottom: 1px solid gray;flex-grow: 1;}#sk-container-id-5 div.sk-label:hover label.sk-toggleable__label {background-color: #d4ebff;}#sk-container-id-5 div.sk-serial::before {content: \"\";position: absolute;border-left: 1px solid gray;box-sizing: border-box;top: 0;bottom: 0;left: 50%;z-index: 0;}#sk-container-id-5 div.sk-serial {display: flex;flex-direction: column;align-items: center;background-color: white;padding-right: 0.2em;padding-left: 0.2em;position: relative;}#sk-container-id-5 div.sk-item {position: relative;z-index: 1;}#sk-container-id-5 div.sk-parallel {display: flex;align-items: stretch;justify-content: center;background-color: white;position: relative;}#sk-container-id-5 div.sk-item::before, #sk-container-id-5 div.sk-parallel-item::before {content: \"\";position: absolute;border-left: 1px solid gray;box-sizing: border-box;top: 0;bottom: 0;left: 50%;z-index: -1;}#sk-container-id-5 div.sk-parallel-item {display: flex;flex-direction: column;z-index: 1;position: relative;background-color: white;}#sk-container-id-5 div.sk-parallel-item:first-child::after {align-self: flex-end;width: 50%;}#sk-container-id-5 div.sk-parallel-item:last-child::after {align-self: flex-start;width: 50%;}#sk-container-id-5 div.sk-parallel-item:only-child::after {width: 0;}#sk-container-id-5 div.sk-dashed-wrapped {border: 1px dashed gray;margin: 0 0.4em 0.5em 0.4em;box-sizing: border-box;padding-bottom: 0.4em;background-color: white;}#sk-container-id-5 div.sk-label label {font-family: monospace;font-weight: bold;display: inline-block;line-height: 1.2em;}#sk-container-id-5 div.sk-label-container {text-align: center;}#sk-container-id-5 div.sk-container {/* jupyter's `normalize.less` sets `[hidden] { display: none; }` but bootstrap.min.css set `[hidden] { display: none !important; }` so we also need the `!important` here to be able to override the default hidden behavior on the sphinx rendered scikit-learn.org. See: https://github.com/scikit-learn/scikit-learn/issues/21755 */display: inline-block !important;position: relative;}#sk-container-id-5 div.sk-text-repr-fallback {display: none;}</style><div id=\"sk-container-id-5\" class=\"sk-top-container\"><div class=\"sk-text-repr-fallback\"><pre>RandomForestRegressor(n_estimators=50)</pre><b>In a Jupyter environment, please rerun this cell to show the HTML representation or trust the notebook. <br />On GitHub, the HTML representation is unable to render, please try loading this page with nbviewer.org.</b></div><div class=\"sk-container\" hidden><div class=\"sk-item\"><div class=\"sk-estimator sk-toggleable\"><input class=\"sk-toggleable__control sk-hidden--visually\" id=\"sk-estimator-id-5\" type=\"checkbox\" checked><label for=\"sk-estimator-id-5\" class=\"sk-toggleable__label sk-toggleable__label-arrow\">RandomForestRegressor</label><div class=\"sk-toggleable__content\"><pre>RandomForestRegressor(n_estimators=50)</pre></div></div></div></div></div>"
      ],
      "text/plain": [
       "RandomForestRegressor(n_estimators=50)"
      ]
     },
     "execution_count": 138,
     "metadata": {},
     "output_type": "execute_result"
    }
   ],
   "source": [
    "from sklearn.ensemble import RandomForestRegressor\n",
    "\n",
    "# Inisialization model Random Forest Regressor\n",
    "rf_regressor = RandomForestRegressor(n_estimators=50)\n",
    "# fit the RF model\n",
    "rf_regressor.fit(X_train_RF, y_train_RF)\n"
   ]
  },
  {
   "cell_type": "code",
   "execution_count": 139,
   "id": "d5d47d62-acb0-4e0d-9d1f-da898ec3eff6",
   "metadata": {},
   "outputs": [
    {
     "name": "stdout",
     "output_type": "stream",
     "text": [
      "Mean Squared Error (MSE): 4813494539.26\n",
      "Mean Squared Error (RMSE): 69379.35\n",
      "Mean Absolute Error (MAE): 52194.73\n"
     ]
    }
   ],
   "source": [
    "#predict\n",
    "y_pred_RF = rf_regressor.predict(X_test_RF)\n",
    "\n",
    "# Evaluate the model\n",
    "mse_RF = mean_squared_error(y_test_RF, y_pred_RF)\n",
    "rmse_RF = np.sqrt(mse_RF)\n",
    "mae_RF = mean_absolute_error(y_test_RF, y_pred_RF)\n",
    "\n",
    "# Show result evaluation\n",
    "print(f'Mean Squared Error (MSE): {mse_RF:.2f}')\n",
    "print(f'Mean Squared Error (RMSE): {rmse_RF:.2f}')\n",
    "print(f'Mean Absolute Error (MAE): {mae_RF:.2f}')"
   ]
  },
  {
   "cell_type": "code",
   "execution_count": 121,
   "id": "e3fdcb12-c508-41bc-b37d-4bb0e0934684",
   "metadata": {
    "scrolled": true
   },
   "outputs": [
    {
     "data": {
      "image/png": "[encoded data removed]",
      "text/plain": [
       "<Figure size 800x3000 with 1 Axes>"
      ]
     },
     "metadata": {},
     "output_type": "display_data"
    }
   ],
   "source": [
    "features_RF = list(X_train_RF.columns)\n",
    "importances_RF = rf_regressor.feature_importances_\n",
    "indices_RF = np.argsort(importances_RF)\n",
    "\n",
    "plt.figure(figsize=(8,30))\n",
    "plt.title('Feature Importances')\n",
    "plt.barh(range(len(indices_RF)), importances_RF[indices_RF], color='b', align='center')\n",
    "plt.yticks(range(len(indices_RF)), [features_RF[i] for i in indices_RF])\n",
    "plt.xlabel('Relative Importance')\n",
    "plt.tick_params(axis='both', which='major', labelsize=6)\n",
    "plt.show()"
   ]
  },
  {
   "cell_type": "markdown",
   "id": "d50a0e10-9fa4-4a20-99be-85729ac3f256",
   "metadata": {},
   "source": [
    "#### Compare with RF SP1"
   ]
  },
  {
   "cell_type": "code",
   "execution_count": 140,
   "id": "9e611366-f946-4d24-82d8-75ccbf103bd4",
   "metadata": {},
   "outputs": [],
   "source": [
    "X_train_RF_SP1 = train_hpp_SP1.drop(columns = [\"Id\", \"SalePrice\"], axis = 1)\n",
    "\n",
    "y_train_RF_SP1 = train_hpp_SP1['SalePrice']\n",
    "\n",
    "X_test_RF_SP1 = test_hpp.drop(columns = [\"Id\", \"SalePrice\"], axis = 1)\n",
    "\n",
    "y_test_RF_SP1 = test_hpp[\"SalePrice\"]"
   ]
  },
  {
   "cell_type": "code",
   "execution_count": 141,
   "id": "ab8b7b2f-e077-4188-af99-e0a42a0bd864",
   "metadata": {},
   "outputs": [
    {
     "data": {
      "text/html": [
       "<style>#sk-container-id-6 {color: black;}#sk-container-id-6 pre{padding: 0;}#sk-container-id-6 div.sk-toggleable {background-color: white;}#sk-container-id-6 label.sk-toggleable__label {cursor: pointer;display: block;width: 100%;margin-bottom: 0;padding: 0.3em;box-sizing: border-box;text-align: center;}#sk-container-id-6 label.sk-toggleable__label-arrow:before {content: \"▸\";float: left;margin-right: 0.25em;color: #696969;}#sk-container-id-6 label.sk-toggleable__label-arrow:hover:before {color: black;}#sk-container-id-6 div.sk-estimator:hover label.sk-toggleable__label-arrow:before {color: black;}#sk-container-id-6 div.sk-toggleable__content {max-height: 0;max-width: 0;overflow: hidden;text-align: left;background-color: #f0f8ff;}#sk-container-id-6 div.sk-toggleable__content pre {margin: 0.2em;color: black;border-radius: 0.25em;background-color: #f0f8ff;}#sk-container-id-6 input.sk-toggleable__control:checked~div.sk-toggleable__content {max-height: 200px;max-width: 100%;overflow: auto;}#sk-container-id-6 input.sk-toggleable__control:checked~label.sk-toggleable__label-arrow:before {content: \"▾\";}#sk-container-id-6 div.sk-estimator input.sk-toggleable__control:checked~label.sk-toggleable__label {background-color: #d4ebff;}#sk-container-id-6 div.sk-label input.sk-toggleable__control:checked~label.sk-toggleable__label {background-color: #d4ebff;}#sk-container-id-6 input.sk-hidden--visually {border: 0;clip: rect(1px 1px 1px 1px);clip: rect(1px, 1px, 1px, 1px);height: 1px;margin: -1px;overflow: hidden;padding: 0;position: absolute;width: 1px;}#sk-container-id-6 div.sk-estimator {font-family: monospace;background-color: #f0f8ff;border: 1px dotted black;border-radius: 0.25em;box-sizing: border-box;margin-bottom: 0.5em;}#sk-container-id-6 div.sk-estimator:hover {background-color: #d4ebff;}#sk-container-id-6 div.sk-parallel-item::after {content: \"\";width: 100%;border-bottom: 1px solid gray;flex-grow: 1;}#sk-container-id-6 div.sk-label:hover label.sk-toggleable__label {background-color: #d4ebff;}#sk-container-id-6 div.sk-serial::before {content: \"\";position: absolute;border-left: 1px solid gray;box-sizing: border-box;top: 0;bottom: 0;left: 50%;z-index: 0;}#sk-container-id-6 div.sk-serial {display: flex;flex-direction: column;align-items: center;background-color: white;padding-right: 0.2em;padding-left: 0.2em;position: relative;}#sk-container-id-6 div.sk-item {position: relative;z-index: 1;}#sk-container-id-6 div.sk-parallel {display: flex;align-items: stretch;justify-content: center;background-color: white;position: relative;}#sk-container-id-6 div.sk-item::before, #sk-container-id-6 div.sk-parallel-item::before {content: \"\";position: absolute;border-left: 1px solid gray;box-sizing: border-box;top: 0;bottom: 0;left: 50%;z-index: -1;}#sk-container-id-6 div.sk-parallel-item {display: flex;flex-direction: column;z-index: 1;position: relative;background-color: white;}#sk-container-id-6 div.sk-parallel-item:first-child::after {align-self: flex-end;width: 50%;}#sk-container-id-6 div.sk-parallel-item:last-child::after {align-self: flex-start;width: 50%;}#sk-container-id-6 div.sk-parallel-item:only-child::after {width: 0;}#sk-container-id-6 div.sk-dashed-wrapped {border: 1px dashed gray;margin: 0 0.4em 0.5em 0.4em;box-sizing: border-box;padding-bottom: 0.4em;background-color: white;}#sk-container-id-6 div.sk-label label {font-family: monospace;font-weight: bold;display: inline-block;line-height: 1.2em;}#sk-container-id-6 div.sk-label-container {text-align: center;}#sk-container-id-6 div.sk-container {/* jupyter's `normalize.less` sets `[hidden] { display: none; }` but bootstrap.min.css set `[hidden] { display: none !important; }` so we also need the `!important` here to be able to override the default hidden behavior on the sphinx rendered scikit-learn.org. See: https://github.com/scikit-learn/scikit-learn/issues/21755 */display: inline-block !important;position: relative;}#sk-container-id-6 div.sk-text-repr-fallback {display: none;}</style><div id=\"sk-container-id-6\" class=\"sk-top-container\"><div class=\"sk-text-repr-fallback\"><pre>RandomForestRegressor(n_estimators=50)</pre><b>In a Jupyter environment, please rerun this cell to show the HTML representation or trust the notebook. <br />On GitHub, the HTML representation is unable to render, please try loading this page with nbviewer.org.</b></div><div class=\"sk-container\" hidden><div class=\"sk-item\"><div class=\"sk-estimator sk-toggleable\"><input class=\"sk-toggleable__control sk-hidden--visually\" id=\"sk-estimator-id-6\" type=\"checkbox\" checked><label for=\"sk-estimator-id-6\" class=\"sk-toggleable__label sk-toggleable__label-arrow\">RandomForestRegressor</label><div class=\"sk-toggleable__content\"><pre>RandomForestRegressor(n_estimators=50)</pre></div></div></div></div></div>"
      ],
      "text/plain": [
       "RandomForestRegressor(n_estimators=50)"
      ]
     },
     "execution_count": 141,
     "metadata": {},
     "output_type": "execute_result"
    }
   ],
   "source": [
    "rf_regressor_SP1 = RandomForestRegressor(n_estimators=50)\n",
    "\n",
    "rf_regressor_SP1.fit(X_train_RF_SP1, y_train_RF_SP1)"
   ]
  },
  {
   "cell_type": "code",
   "execution_count": 142,
   "id": "54708251-3228-4288-83f6-8ad28dfbfcb6",
   "metadata": {},
   "outputs": [
    {
     "name": "stdout",
     "output_type": "stream",
     "text": [
      "Mean Squared Error (MSE): 3049457492.58\n",
      "Mean Squared Error (RMSE): 55221.89\n",
      "Mean Absolute Error (MAE): 46245.42\n"
     ]
    }
   ],
   "source": [
    "y_pred_RF_SP1 = rf_regressor_SP1.predict(X_test_RF_SP1)\n",
    "\n",
    "mse_RF_SP1 = mean_squared_error(y_test_RF_SP1, y_pred_RF_SP1)\n",
    "rmse_RF_SP1 = np.sqrt(mse_RF_SP1)\n",
    "mae_RF_SP1 = mean_absolute_error(y_test_RF_SP1, y_pred_RF_SP1)\n",
    "\n",
    "print(f'Mean Squared Error (MSE): {mse_RF_SP1:.2f}')\n",
    "print(f'Mean Squared Error (RMSE): {rmse_RF_SP1:.2f}')\n",
    "print(f'Mean Absolute Error (MAE): {mae_RF_SP1:.2f}')"
   ]
  },
  {
   "cell_type": "markdown",
   "id": "dc17bed3-766c-4aac-85ef-a14f099dd4a6",
   "metadata": {},
   "source": [
    "#### Compare with RF SP2"
   ]
  },
  {
   "cell_type": "code",
   "execution_count": 143,
   "id": "d199668f-78d7-4666-9292-b5492c1a0ac0",
   "metadata": {},
   "outputs": [],
   "source": [
    "X_train_RF_SP2 = train_hpp_SP2.drop(columns = [\"Id\", \"SalePrice\"], axis = 1)\n",
    "\n",
    "y_train_RF_SP2 = train_hpp_SP2['SalePrice']\n",
    "\n",
    "X_test_RF_SP2 = test_hpp.drop(columns = [\"Id\", \"SalePrice\"], axis = 1)\n",
    "\n",
    "y_test_RF_SP2 = test_hpp[\"SalePrice\"]"
   ]
  },
  {
   "cell_type": "code",
   "execution_count": 144,
   "id": "8a11a14e-7278-473b-ae65-06921e04a06f",
   "metadata": {},
   "outputs": [
    {
     "data": {
      "text/html": [
       "<style>#sk-container-id-7 {color: black;}#sk-container-id-7 pre{padding: 0;}#sk-container-id-7 div.sk-toggleable {background-color: white;}#sk-container-id-7 label.sk-toggleable__label {cursor: pointer;display: block;width: 100%;margin-bottom: 0;padding: 0.3em;box-sizing: border-box;text-align: center;}#sk-container-id-7 label.sk-toggleable__label-arrow:before {content: \"▸\";float: left;margin-right: 0.25em;color: #696969;}#sk-container-id-7 label.sk-toggleable__label-arrow:hover:before {color: black;}#sk-container-id-7 div.sk-estimator:hover label.sk-toggleable__label-arrow:before {color: black;}#sk-container-id-7 div.sk-toggleable__content {max-height: 0;max-width: 0;overflow: hidden;text-align: left;background-color: #f0f8ff;}#sk-container-id-7 div.sk-toggleable__content pre {margin: 0.2em;color: black;border-radius: 0.25em;background-color: #f0f8ff;}#sk-container-id-7 input.sk-toggleable__control:checked~div.sk-toggleable__content {max-height: 200px;max-width: 100%;overflow: auto;}#sk-container-id-7 input.sk-toggleable__control:checked~label.sk-toggleable__label-arrow:before {content: \"▾\";}#sk-container-id-7 div.sk-estimator input.sk-toggleable__control:checked~label.sk-toggleable__label {background-color: #d4ebff;}#sk-container-id-7 div.sk-label input.sk-toggleable__control:checked~label.sk-toggleable__label {background-color: #d4ebff;}#sk-container-id-7 input.sk-hidden--visually {border: 0;clip: rect(1px 1px 1px 1px);clip: rect(1px, 1px, 1px, 1px);height: 1px;margin: -1px;overflow: hidden;padding: 0;position: absolute;width: 1px;}#sk-container-id-7 div.sk-estimator {font-family: monospace;background-color: #f0f8ff;border: 1px dotted black;border-radius: 0.25em;box-sizing: border-box;margin-bottom: 0.5em;}#sk-container-id-7 div.sk-estimator:hover {background-color: #d4ebff;}#sk-container-id-7 div.sk-parallel-item::after {content: \"\";width: 100%;border-bottom: 1px solid gray;flex-grow: 1;}#sk-container-id-7 div.sk-label:hover label.sk-toggleable__label {background-color: #d4ebff;}#sk-container-id-7 div.sk-serial::before {content: \"\";position: absolute;border-left: 1px solid gray;box-sizing: border-box;top: 0;bottom: 0;left: 50%;z-index: 0;}#sk-container-id-7 div.sk-serial {display: flex;flex-direction: column;align-items: center;background-color: white;padding-right: 0.2em;padding-left: 0.2em;position: relative;}#sk-container-id-7 div.sk-item {position: relative;z-index: 1;}#sk-container-id-7 div.sk-parallel {display: flex;align-items: stretch;justify-content: center;background-color: white;position: relative;}#sk-container-id-7 div.sk-item::before, #sk-container-id-7 div.sk-parallel-item::before {content: \"\";position: absolute;border-left: 1px solid gray;box-sizing: border-box;top: 0;bottom: 0;left: 50%;z-index: -1;}#sk-container-id-7 div.sk-parallel-item {display: flex;flex-direction: column;z-index: 1;position: relative;background-color: white;}#sk-container-id-7 div.sk-parallel-item:first-child::after {align-self: flex-end;width: 50%;}#sk-container-id-7 div.sk-parallel-item:last-child::after {align-self: flex-start;width: 50%;}#sk-container-id-7 div.sk-parallel-item:only-child::after {width: 0;}#sk-container-id-7 div.sk-dashed-wrapped {border: 1px dashed gray;margin: 0 0.4em 0.5em 0.4em;box-sizing: border-box;padding-bottom: 0.4em;background-color: white;}#sk-container-id-7 div.sk-label label {font-family: monospace;font-weight: bold;display: inline-block;line-height: 1.2em;}#sk-container-id-7 div.sk-label-container {text-align: center;}#sk-container-id-7 div.sk-container {/* jupyter's `normalize.less` sets `[hidden] { display: none; }` but bootstrap.min.css set `[hidden] { display: none !important; }` so we also need the `!important` here to be able to override the default hidden behavior on the sphinx rendered scikit-learn.org. See: https://github.com/scikit-learn/scikit-learn/issues/21755 */display: inline-block !important;position: relative;}#sk-container-id-7 div.sk-text-repr-fallback {display: none;}</style><div id=\"sk-container-id-7\" class=\"sk-top-container\"><div class=\"sk-text-repr-fallback\"><pre>RandomForestRegressor(n_estimators=50)</pre><b>In a Jupyter environment, please rerun this cell to show the HTML representation or trust the notebook. <br />On GitHub, the HTML representation is unable to render, please try loading this page with nbviewer.org.</b></div><div class=\"sk-container\" hidden><div class=\"sk-item\"><div class=\"sk-estimator sk-toggleable\"><input class=\"sk-toggleable__control sk-hidden--visually\" id=\"sk-estimator-id-7\" type=\"checkbox\" checked><label for=\"sk-estimator-id-7\" class=\"sk-toggleable__label sk-toggleable__label-arrow\">RandomForestRegressor</label><div class=\"sk-toggleable__content\"><pre>RandomForestRegressor(n_estimators=50)</pre></div></div></div></div></div>"
      ],
      "text/plain": [
       "RandomForestRegressor(n_estimators=50)"
      ]
     },
     "execution_count": 144,
     "metadata": {},
     "output_type": "execute_result"
    }
   ],
   "source": [
    "# Inisialization model Random Forest Regressor\n",
    "rf_regressor_SP2 = RandomForestRegressor(n_estimators=50)\n",
    "# fit the RF model\n",
    "rf_regressor_SP2.fit(X_train_RF_SP2, y_train_RF_SP2)"
   ]
  },
  {
   "cell_type": "code",
   "execution_count": 145,
   "id": "8d3d1c4f-ece6-4953-b6ba-366cdff8a12c",
   "metadata": {},
   "outputs": [
    {
     "name": "stdout",
     "output_type": "stream",
     "text": [
      "Mean Squared Error (MSE): 2082168334.13\n",
      "Mean Squared Error (RMSE): 45630.78\n",
      "Mean Absolute Error (MAE): 39828.79\n"
     ]
    }
   ],
   "source": [
    "# predict\n",
    "y_pred_RF_SP2 = rf_regressor_SP2.predict(X_test_RF_SP2)\n",
    "\n",
    "# Evaluate the model\n",
    "mse_RF_SP2 = mean_squared_error(y_test_RF_SP2, y_pred_RF_SP2)\n",
    "rmse_RF_SP2 = np.sqrt(mse_RF_SP2)\n",
    "mae_RF_SP2 = mean_absolute_error(y_test_RF_SP2, y_pred_RF_SP2)\n",
    "\n",
    "# Show the result evaluate\n",
    "print(f'Mean Squared Error (MSE): {mse_RF_SP2:.2f}')\n",
    "print(f'Mean Squared Error (RMSE): {rmse_RF_SP2:.2f}')\n",
    "print(f'Mean Absolute Error (MAE): {mae_RF_SP2:.2f}')"
   ]
  },
  {
   "cell_type": "markdown",
   "id": "cbc22192-451a-476d-aa6c-6c1b5423fda1",
   "metadata": {},
   "source": [
    "#### Compare with RF SP3"
   ]
  },
  {
   "cell_type": "code",
   "execution_count": 149,
   "id": "6df1c585-577c-4dac-8170-b60c95c5e71c",
   "metadata": {},
   "outputs": [],
   "source": [
    "X_train_RF_SP3 = train_hpp_SP3.drop(columns = [\"Id\", \"SalePrice\"], axis = 1)\n",
    "\n",
    "y_train_RF_SP3 = train_hpp_SP3['SalePrice']\n",
    "\n",
    "X_test_RF_SP3 = test_hpp_SP3.drop(columns = [\"Id\", \"SalePrice\"], axis = 1)\n",
    "\n",
    "y_test_RF_SP3 = test_hpp_SP3[\"SalePrice\"]"
   ]
  },
  {
   "cell_type": "code",
   "execution_count": 150,
   "id": "376b91c4-abb1-4b6e-a512-7ccf43fcc57b",
   "metadata": {},
   "outputs": [
    {
     "data": {
      "text/html": [
       "<style>#sk-container-id-9 {color: black;}#sk-container-id-9 pre{padding: 0;}#sk-container-id-9 div.sk-toggleable {background-color: white;}#sk-container-id-9 label.sk-toggleable__label {cursor: pointer;display: block;width: 100%;margin-bottom: 0;padding: 0.3em;box-sizing: border-box;text-align: center;}#sk-container-id-9 label.sk-toggleable__label-arrow:before {content: \"▸\";float: left;margin-right: 0.25em;color: #696969;}#sk-container-id-9 label.sk-toggleable__label-arrow:hover:before {color: black;}#sk-container-id-9 div.sk-estimator:hover label.sk-toggleable__label-arrow:before {color: black;}#sk-container-id-9 div.sk-toggleable__content {max-height: 0;max-width: 0;overflow: hidden;text-align: left;background-color: #f0f8ff;}#sk-container-id-9 div.sk-toggleable__content pre {margin: 0.2em;color: black;border-radius: 0.25em;background-color: #f0f8ff;}#sk-container-id-9 input.sk-toggleable__control:checked~div.sk-toggleable__content {max-height: 200px;max-width: 100%;overflow: auto;}#sk-container-id-9 input.sk-toggleable__control:checked~label.sk-toggleable__label-arrow:before {content: \"▾\";}#sk-container-id-9 div.sk-estimator input.sk-toggleable__control:checked~label.sk-toggleable__label {background-color: #d4ebff;}#sk-container-id-9 div.sk-label input.sk-toggleable__control:checked~label.sk-toggleable__label {background-color: #d4ebff;}#sk-container-id-9 input.sk-hidden--visually {border: 0;clip: rect(1px 1px 1px 1px);clip: rect(1px, 1px, 1px, 1px);height: 1px;margin: -1px;overflow: hidden;padding: 0;position: absolute;width: 1px;}#sk-container-id-9 div.sk-estimator {font-family: monospace;background-color: #f0f8ff;border: 1px dotted black;border-radius: 0.25em;box-sizing: border-box;margin-bottom: 0.5em;}#sk-container-id-9 div.sk-estimator:hover {background-color: #d4ebff;}#sk-container-id-9 div.sk-parallel-item::after {content: \"\";width: 100%;border-bottom: 1px solid gray;flex-grow: 1;}#sk-container-id-9 div.sk-label:hover label.sk-toggleable__label {background-color: #d4ebff;}#sk-container-id-9 div.sk-serial::before {content: \"\";position: absolute;border-left: 1px solid gray;box-sizing: border-box;top: 0;bottom: 0;left: 50%;z-index: 0;}#sk-container-id-9 div.sk-serial {display: flex;flex-direction: column;align-items: center;background-color: white;padding-right: 0.2em;padding-left: 0.2em;position: relative;}#sk-container-id-9 div.sk-item {position: relative;z-index: 1;}#sk-container-id-9 div.sk-parallel {display: flex;align-items: stretch;justify-content: center;background-color: white;position: relative;}#sk-container-id-9 div.sk-item::before, #sk-container-id-9 div.sk-parallel-item::before {content: \"\";position: absolute;border-left: 1px solid gray;box-sizing: border-box;top: 0;bottom: 0;left: 50%;z-index: -1;}#sk-container-id-9 div.sk-parallel-item {display: flex;flex-direction: column;z-index: 1;position: relative;background-color: white;}#sk-container-id-9 div.sk-parallel-item:first-child::after {align-self: flex-end;width: 50%;}#sk-container-id-9 div.sk-parallel-item:last-child::after {align-self: flex-start;width: 50%;}#sk-container-id-9 div.sk-parallel-item:only-child::after {width: 0;}#sk-container-id-9 div.sk-dashed-wrapped {border: 1px dashed gray;margin: 0 0.4em 0.5em 0.4em;box-sizing: border-box;padding-bottom: 0.4em;background-color: white;}#sk-container-id-9 div.sk-label label {font-family: monospace;font-weight: bold;display: inline-block;line-height: 1.2em;}#sk-container-id-9 div.sk-label-container {text-align: center;}#sk-container-id-9 div.sk-container {/* jupyter's `normalize.less` sets `[hidden] { display: none; }` but bootstrap.min.css set `[hidden] { display: none !important; }` so we also need the `!important` here to be able to override the default hidden behavior on the sphinx rendered scikit-learn.org. See: https://github.com/scikit-learn/scikit-learn/issues/21755 */display: inline-block !important;position: relative;}#sk-container-id-9 div.sk-text-repr-fallback {display: none;}</style><div id=\"sk-container-id-9\" class=\"sk-top-container\"><div class=\"sk-text-repr-fallback\"><pre>RandomForestRegressor(n_estimators=50)</pre><b>In a Jupyter environment, please rerun this cell to show the HTML representation or trust the notebook. <br />On GitHub, the HTML representation is unable to render, please try loading this page with nbviewer.org.</b></div><div class=\"sk-container\" hidden><div class=\"sk-item\"><div class=\"sk-estimator sk-toggleable\"><input class=\"sk-toggleable__control sk-hidden--visually\" id=\"sk-estimator-id-9\" type=\"checkbox\" checked><label for=\"sk-estimator-id-9\" class=\"sk-toggleable__label sk-toggleable__label-arrow\">RandomForestRegressor</label><div class=\"sk-toggleable__content\"><pre>RandomForestRegressor(n_estimators=50)</pre></div></div></div></div></div>"
      ],
      "text/plain": [
       "RandomForestRegressor(n_estimators=50)"
      ]
     },
     "execution_count": 150,
     "metadata": {},
     "output_type": "execute_result"
    }
   ],
   "source": [
    "# Inisialization model Random Forest Regressor\n",
    "rf_regressor_SP3 = RandomForestRegressor(n_estimators=50)\n",
    "# Fit the model\n",
    "rf_regressor_SP3.fit(X_train_RF_SP3, y_train_RF_SP3)"
   ]
  },
  {
   "cell_type": "code",
   "execution_count": 151,
   "id": "b2884fa4-86ba-4a1f-b8b3-307339ee08c7",
   "metadata": {},
   "outputs": [
    {
     "name": "stdout",
     "output_type": "stream",
     "text": [
      "Mean Squared Error (MSE): 3063641777.44\n",
      "Mean Squared Error (RMSE): 55350.17\n",
      "Mean Absolute Error (MAE): 46111.43\n"
     ]
    }
   ],
   "source": [
    "# Predict\n",
    "y_pred_RF_SP3 = rf_regressor_SP3.predict(X_test_RF_SP3)\n",
    "\n",
    "# Evaluate the model\n",
    "mse_RF_SP3 = mean_squared_error(y_test_RF_SP3, y_pred_RF_SP3)\n",
    "rmse_RF_SP3 = np.sqrt(mse_RF_SP3)\n",
    "mae_RF_SP3 = mean_absolute_error(y_test_RF_SP3, y_pred_RF_SP3)\n",
    "\n",
    "# Show the model evaluate\n",
    "print(f'Mean Squared Error (MSE): {mse_RF_SP3:.2f}')\n",
    "print(f'Mean Squared Error (RMSE): {rmse_RF_SP3:.2f}')\n",
    "print(f'Mean Absolute Error (MAE): {mae_RF_SP3:.2f}')"
   ]
  },
  {
   "cell_type": "markdown",
   "id": "fcf8595f-8b13-47fe-94c5-2b0d4305fd89",
   "metadata": {},
   "source": [
    "### Summary of RF"
   ]
  },
  {
   "cell_type": "code",
   "execution_count": 152,
   "id": "fb66f843-dc4a-4942-adda-1d07fca1c726",
   "metadata": {},
   "outputs": [
    {
     "data": {
      "text/html": [
       "<div>\n",
       "<style scoped>\n",
       "    .dataframe tbody tr th:only-of-type {\n",
       "        vertical-align: middle;\n",
       "    }\n",
       "\n",
       "    .dataframe tbody tr th {\n",
       "        vertical-align: top;\n",
       "    }\n",
       "\n",
       "    .dataframe thead th {\n",
       "        text-align: right;\n",
       "    }\n",
       "</style>\n",
       "<table border=\"1\" class=\"dataframe\">\n",
       "  <thead>\n",
       "    <tr style=\"text-align: right;\">\n",
       "      <th></th>\n",
       "      <th>Method</th>\n",
       "      <th>RMSE_RF</th>\n",
       "      <th>MAE_RF</th>\n",
       "    </tr>\n",
       "  </thead>\n",
       "  <tbody>\n",
       "    <tr>\n",
       "      <th>0</th>\n",
       "      <td>SP0</td>\n",
       "      <td>69379.352399</td>\n",
       "      <td>52194.729744</td>\n",
       "    </tr>\n",
       "    <tr>\n",
       "      <th>1</th>\n",
       "      <td>SP1</td>\n",
       "      <td>55221.893236</td>\n",
       "      <td>46245.416961</td>\n",
       "    </tr>\n",
       "    <tr>\n",
       "      <th>2</th>\n",
       "      <td>SP2</td>\n",
       "      <td>45630.782747</td>\n",
       "      <td>39828.790284</td>\n",
       "    </tr>\n",
       "    <tr>\n",
       "      <th>3</th>\n",
       "      <td>SP3</td>\n",
       "      <td>55350.174141</td>\n",
       "      <td>46111.434185</td>\n",
       "    </tr>\n",
       "  </tbody>\n",
       "</table>\n",
       "</div>"
      ],
      "text/plain": [
       "  Method       RMSE_RF        MAE_RF\n",
       "0    SP0  69379.352399  52194.729744\n",
       "1    SP1  55221.893236  46245.416961\n",
       "2    SP2  45630.782747  39828.790284\n",
       "3    SP3  55350.174141  46111.434185"
      ]
     },
     "execution_count": 152,
     "metadata": {},
     "output_type": "execute_result"
    }
   ],
   "source": [
    "#Summary of MAE and RMSE RF\n",
    "error_summary_RF = {'Method': [\"SP0\", \"SP1\", \"SP2\", \"SP3\"],\n",
    "                    'RMSE_RF': [rmse_RF, rmse_RF_SP1, rmse_RF_SP2, rmse_RF_SP3],\n",
    "                    'MAE_RF': [mae_RF, mae_RF_SP1, mae_RF_SP2, mae_RF_SP3]}#,\n",
    "                    #'R2_RF': [r2_RF, r2_RF_SP1, r2_RF_SP2, r2_RF_SP3]}\n",
    "error_summary_RF = pd.DataFrame(error_summary_RF)\n",
    "error_summary_RF"
   ]
  },
  {
   "cell_type": "code",
   "execution_count": 153,
   "id": "f4c1193e-9d6d-4c21-ae3f-7816f9bba172",
   "metadata": {},
   "outputs": [
    {
     "data": {
      "text/plain": [
       "<Axes: xlabel='RMSE_RF', ylabel='Method'>"
      ]
     },
     "execution_count": 153,
     "metadata": {},
     "output_type": "execute_result"
    },
    {
     "data": {
      "image/png": "[encoded data removed]",
      "text/plain": [
       "<Figure size 640x480 with 1 Axes>"
      ]
     },
     "metadata": {},
     "output_type": "display_data"
    }
   ],
   "source": [
    "sns.barplot(data = error_summary_RF, y = \"Method\", x = \"RMSE_RF\")"
   ]
  },
  {
   "cell_type": "code",
   "execution_count": 154,
   "id": "1959f412-72fa-4ab2-a9c6-603261854e0c",
   "metadata": {},
   "outputs": [
    {
     "data": {
      "text/plain": [
       "<Axes: xlabel='MAE_RF', ylabel='Method'>"
      ]
     },
     "execution_count": 154,
     "metadata": {},
     "output_type": "execute_result"
    },
    {
     "data": {
      "image/png": "[encoded data removed]",
      "text/plain": [
       "<Figure size 640x480 with 1 Axes>"
      ]
     },
     "metadata": {},
     "output_type": "display_data"
    }
   ],
   "source": [
    "sns.barplot(data = error_summary_RF, y = \"Method\", x = \"MAE_RF\")"
   ]
  },
  {
   "cell_type": "markdown",
   "id": "13f746d7-b629-4483-8a37-c3fda0edbad5",
   "metadata": {},
   "source": [
    "### RF with train test split"
   ]
  },
  {
   "cell_type": "code",
   "execution_count": 230,
   "id": "95350280-5694-436f-bd92-2b4f68043946",
   "metadata": {},
   "outputs": [],
   "source": [
    "X = train_hpp.drop(columns = [\"Id\", \"SalePrice\"], axis = 1)\n",
    "\n",
    "y = train_hpp['SalePrice']\n"
   ]
  },
  {
   "cell_type": "code",
   "execution_count": 231,
   "id": "dd565299-5cbb-4b7f-b403-d140c209da40",
   "metadata": {},
   "outputs": [],
   "source": [
    "X_train, X_test, y_train, y_test = train_test_split(X, y, test_size=0.2)"
   ]
  },
  {
   "cell_type": "code",
   "execution_count": 232,
   "id": "74b3a8ad-a846-4784-aff7-e5c049516f25",
   "metadata": {},
   "outputs": [
    {
     "data": {
      "text/html": [
       "<style>#sk-container-id-27 {color: black;}#sk-container-id-27 pre{padding: 0;}#sk-container-id-27 div.sk-toggleable {background-color: white;}#sk-container-id-27 label.sk-toggleable__label {cursor: pointer;display: block;width: 100%;margin-bottom: 0;padding: 0.3em;box-sizing: border-box;text-align: center;}#sk-container-id-27 label.sk-toggleable__label-arrow:before {content: \"▸\";float: left;margin-right: 0.25em;color: #696969;}#sk-container-id-27 label.sk-toggleable__label-arrow:hover:before {color: black;}#sk-container-id-27 div.sk-estimator:hover label.sk-toggleable__label-arrow:before {color: black;}#sk-container-id-27 div.sk-toggleable__content {max-height: 0;max-width: 0;overflow: hidden;text-align: left;background-color: #f0f8ff;}#sk-container-id-27 div.sk-toggleable__content pre {margin: 0.2em;color: black;border-radius: 0.25em;background-color: #f0f8ff;}#sk-container-id-27 input.sk-toggleable__control:checked~div.sk-toggleable__content {max-height: 200px;max-width: 100%;overflow: auto;}#sk-container-id-27 input.sk-toggleable__control:checked~label.sk-toggleable__label-arrow:before {content: \"▾\";}#sk-container-id-27 div.sk-estimator input.sk-toggleable__control:checked~label.sk-toggleable__label {background-color: #d4ebff;}#sk-container-id-27 div.sk-label input.sk-toggleable__control:checked~label.sk-toggleable__label {background-color: #d4ebff;}#sk-container-id-27 input.sk-hidden--visually {border: 0;clip: rect(1px 1px 1px 1px);clip: rect(1px, 1px, 1px, 1px);height: 1px;margin: -1px;overflow: hidden;padding: 0;position: absolute;width: 1px;}#sk-container-id-27 div.sk-estimator {font-family: monospace;background-color: #f0f8ff;border: 1px dotted black;border-radius: 0.25em;box-sizing: border-box;margin-bottom: 0.5em;}#sk-container-id-27 div.sk-estimator:hover {background-color: #d4ebff;}#sk-container-id-27 div.sk-parallel-item::after {content: \"\";width: 100%;border-bottom: 1px solid gray;flex-grow: 1;}#sk-container-id-27 div.sk-label:hover label.sk-toggleable__label {background-color: #d4ebff;}#sk-container-id-27 div.sk-serial::before {content: \"\";position: absolute;border-left: 1px solid gray;box-sizing: border-box;top: 0;bottom: 0;left: 50%;z-index: 0;}#sk-container-id-27 div.sk-serial {display: flex;flex-direction: column;align-items: center;background-color: white;padding-right: 0.2em;padding-left: 0.2em;position: relative;}#sk-container-id-27 div.sk-item {position: relative;z-index: 1;}#sk-container-id-27 div.sk-parallel {display: flex;align-items: stretch;justify-content: center;background-color: white;position: relative;}#sk-container-id-27 div.sk-item::before, #sk-container-id-27 div.sk-parallel-item::before {content: \"\";position: absolute;border-left: 1px solid gray;box-sizing: border-box;top: 0;bottom: 0;left: 50%;z-index: -1;}#sk-container-id-27 div.sk-parallel-item {display: flex;flex-direction: column;z-index: 1;position: relative;background-color: white;}#sk-container-id-27 div.sk-parallel-item:first-child::after {align-self: flex-end;width: 50%;}#sk-container-id-27 div.sk-parallel-item:last-child::after {align-self: flex-start;width: 50%;}#sk-container-id-27 div.sk-parallel-item:only-child::after {width: 0;}#sk-container-id-27 div.sk-dashed-wrapped {border: 1px dashed gray;margin: 0 0.4em 0.5em 0.4em;box-sizing: border-box;padding-bottom: 0.4em;background-color: white;}#sk-container-id-27 div.sk-label label {font-family: monospace;font-weight: bold;display: inline-block;line-height: 1.2em;}#sk-container-id-27 div.sk-label-container {text-align: center;}#sk-container-id-27 div.sk-container {/* jupyter's `normalize.less` sets `[hidden] { display: none; }` but bootstrap.min.css set `[hidden] { display: none !important; }` so we also need the `!important` here to be able to override the default hidden behavior on the sphinx rendered scikit-learn.org. See: https://github.com/scikit-learn/scikit-learn/issues/21755 */display: inline-block !important;position: relative;}#sk-container-id-27 div.sk-text-repr-fallback {display: none;}</style><div id=\"sk-container-id-27\" class=\"sk-top-container\"><div class=\"sk-text-repr-fallback\"><pre>RandomForestRegressor(n_estimators=50)</pre><b>In a Jupyter environment, please rerun this cell to show the HTML representation or trust the notebook. <br />On GitHub, the HTML representation is unable to render, please try loading this page with nbviewer.org.</b></div><div class=\"sk-container\" hidden><div class=\"sk-item\"><div class=\"sk-estimator sk-toggleable\"><input class=\"sk-toggleable__control sk-hidden--visually\" id=\"sk-estimator-id-27\" type=\"checkbox\" checked><label for=\"sk-estimator-id-27\" class=\"sk-toggleable__label sk-toggleable__label-arrow\">RandomForestRegressor</label><div class=\"sk-toggleable__content\"><pre>RandomForestRegressor(n_estimators=50)</pre></div></div></div></div></div>"
      ],
      "text/plain": [
       "RandomForestRegressor(n_estimators=50)"
      ]
     },
     "execution_count": 232,
     "metadata": {},
     "output_type": "execute_result"
    }
   ],
   "source": [
    "# Inisialization model Random Forest Regressor\n",
    "rf_regressor = RandomForestRegressor(n_estimators=50)\n",
    "# Fit the model\n",
    "rf_regressor.fit(X_train, y_train)"
   ]
  },
  {
   "cell_type": "code",
   "execution_count": 233,
   "id": "ec7a3338-bde9-4f64-b6d1-eac4c70c6576",
   "metadata": {},
   "outputs": [
    {
     "name": "stdout",
     "output_type": "stream",
     "text": [
      "Mean Squared Error (MSE): 587835283.48\n",
      "Mean Squared Error (RMSE): 24245.31\n",
      "Mean Absolute Error (MAE): 16497.42\n"
     ]
    }
   ],
   "source": [
    "# Predicat\n",
    "y_pred = rf_regressor.predict(X_test)\n",
    "\n",
    "# Evaluate model\n",
    "mse = mean_squared_error(y_test, y_pred)\n",
    "rmse = np.sqrt(mse)\n",
    "mae = mean_absolute_error(y_test, y_pred)\n",
    "\n",
    "# show the result evaluate\n",
    "print(f'Mean Squared Error (MSE): {mse:.2f}')\n",
    "print(f'Mean Squared Error (RMSE): {rmse:.2f}')\n",
    "print(f'Mean Absolute Error (MAE): {mae:.2f}')"
   ]
  }
 ],
 "metadata": {
  "kernelspec": {
   "display_name": "Python 3 (ipykernel)",
   "language": "python",
   "name": "python3"
  },
  "language_info": {
   "codemirror_mode": {
    "name": "ipython",
    "version": 3
   },
   "file_extension": ".py",
   "mimetype": "text/x-python",
   "name": "python",
   "nbconvert_exporter": "python",
   "pygments_lexer": "ipython3",
   "version": "3.9.18"
  }
 },
 "nbformat": 4,
 "nbformat_minor": 5
}
